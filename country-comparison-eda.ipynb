{
 "cells": [
  {
   "cell_type": "code",
   "execution_count": 44,
   "metadata": {
    "_cell_guid": "b1076dfc-b9ad-4769-8c92-a6c4dae69d19",
    "_uuid": "8f2839f25d086af736a60e9eeb907d3b93b6e0e5"
   },
   "outputs": [],
   "source": [
    "import numpy as np \n",
    "import pandas as pd \n",
    "import seaborn as sns\n",
    "import matplotlib.pyplot as plt\n",
    "import warnings\n",
    "import plotly.express as px\n",
    "warnings.filterwarnings('ignore')"
   ]
  },
  {
   "cell_type": "code",
   "execution_count": 45,
   "metadata": {},
   "outputs": [
    {
     "data": {
      "text/html": [
       "<div>\n",
       "<style scoped>\n",
       "    .dataframe tbody tr th:only-of-type {\n",
       "        vertical-align: middle;\n",
       "    }\n",
       "\n",
       "    .dataframe tbody tr th {\n",
       "        vertical-align: top;\n",
       "    }\n",
       "\n",
       "    .dataframe thead th {\n",
       "        text-align: right;\n",
       "    }\n",
       "</style>\n",
       "<table border=\"1\" class=\"dataframe\">\n",
       "  <thead>\n",
       "    <tr style=\"text-align: right;\">\n",
       "      <th></th>\n",
       "      <th>Country</th>\n",
       "      <th>Year</th>\n",
       "      <th>GDP (in Trillions USD)</th>\n",
       "      <th>GDP per Capita (in USD)</th>\n",
       "      <th>Inflation Rate (%)</th>\n",
       "      <th>Population (in Millions)</th>\n",
       "      <th>Population Growth Rate (%)</th>\n",
       "      <th>Urban Population (%)</th>\n",
       "      <th>Life Expectancy (Years)</th>\n",
       "      <th>Healthcare Expenditure per Capita (USD)</th>\n",
       "      <th>...</th>\n",
       "      <th>Poverty Rate (%)</th>\n",
       "      <th>Number of International Visitors (in Millions)</th>\n",
       "      <th>Tourism Revenue (in Billion USD)</th>\n",
       "      <th>Agricultural Land (%)</th>\n",
       "      <th>Unemployment Rate (%)</th>\n",
       "      <th>Labor Force Participation Rate (%)</th>\n",
       "      <th>Crime Rate (per 100,000)</th>\n",
       "      <th>Corruption Perception Index</th>\n",
       "      <th>Freedom of Press Index</th>\n",
       "      <th>Voting Participation Rate (%)</th>\n",
       "    </tr>\n",
       "  </thead>\n",
       "  <tbody>\n",
       "    <tr>\n",
       "      <th>0</th>\n",
       "      <td>USA</td>\n",
       "      <td>2000</td>\n",
       "      <td>20.87</td>\n",
       "      <td>65455.0</td>\n",
       "      <td>2.28</td>\n",
       "      <td>330.34</td>\n",
       "      <td>0.58</td>\n",
       "      <td>83.42</td>\n",
       "      <td>78.39</td>\n",
       "      <td>11209.00</td>\n",
       "      <td>...</td>\n",
       "      <td>10.98</td>\n",
       "      <td>80.80</td>\n",
       "      <td>210.98</td>\n",
       "      <td>42.37</td>\n",
       "      <td>3.55</td>\n",
       "      <td>65.52</td>\n",
       "      <td>287.40</td>\n",
       "      <td>67.41</td>\n",
       "      <td>45.27</td>\n",
       "      <td>68.81</td>\n",
       "    </tr>\n",
       "    <tr>\n",
       "      <th>1</th>\n",
       "      <td>Russia</td>\n",
       "      <td>2000</td>\n",
       "      <td>1.64</td>\n",
       "      <td>10923.0</td>\n",
       "      <td>3.25</td>\n",
       "      <td>141.81</td>\n",
       "      <td>0.10</td>\n",
       "      <td>72.67</td>\n",
       "      <td>69.91</td>\n",
       "      <td>534.45</td>\n",
       "      <td>...</td>\n",
       "      <td>12.89</td>\n",
       "      <td>24.70</td>\n",
       "      <td>36.47</td>\n",
       "      <td>12.53</td>\n",
       "      <td>4.63</td>\n",
       "      <td>57.54</td>\n",
       "      <td>497.50</td>\n",
       "      <td>30.90</td>\n",
       "      <td>146.10</td>\n",
       "      <td>65.00</td>\n",
       "    </tr>\n",
       "    <tr>\n",
       "      <th>2</th>\n",
       "      <td>Canada</td>\n",
       "      <td>2000</td>\n",
       "      <td>1.65</td>\n",
       "      <td>47932.0</td>\n",
       "      <td>1.96</td>\n",
       "      <td>36.63</td>\n",
       "      <td>0.90</td>\n",
       "      <td>79.54</td>\n",
       "      <td>84.60</td>\n",
       "      <td>5113.50</td>\n",
       "      <td>...</td>\n",
       "      <td>9.46</td>\n",
       "      <td>22.33</td>\n",
       "      <td>29.52</td>\n",
       "      <td>7.22</td>\n",
       "      <td>5.43</td>\n",
       "      <td>65.06</td>\n",
       "      <td>795.20</td>\n",
       "      <td>74.74</td>\n",
       "      <td>16.42</td>\n",
       "      <td>63.00</td>\n",
       "    </tr>\n",
       "    <tr>\n",
       "      <th>3</th>\n",
       "      <td>China</td>\n",
       "      <td>2000</td>\n",
       "      <td>13.64</td>\n",
       "      <td>10060.0</td>\n",
       "      <td>2.43</td>\n",
       "      <td>1446.93</td>\n",
       "      <td>0.31</td>\n",
       "      <td>58.56</td>\n",
       "      <td>76.09</td>\n",
       "      <td>459.00</td>\n",
       "      <td>...</td>\n",
       "      <td>2.04</td>\n",
       "      <td>62.20</td>\n",
       "      <td>115.80</td>\n",
       "      <td>54.00</td>\n",
       "      <td>3.68</td>\n",
       "      <td>63.13</td>\n",
       "      <td>102.90</td>\n",
       "      <td>41.75</td>\n",
       "      <td>185.32</td>\n",
       "      <td>72.14</td>\n",
       "    </tr>\n",
       "    <tr>\n",
       "      <th>4</th>\n",
       "      <td>India</td>\n",
       "      <td>2000</td>\n",
       "      <td>2.98</td>\n",
       "      <td>2102.1</td>\n",
       "      <td>4.87</td>\n",
       "      <td>1313.76</td>\n",
       "      <td>1.04</td>\n",
       "      <td>34.09</td>\n",
       "      <td>68.78</td>\n",
       "      <td>76.07</td>\n",
       "      <td>...</td>\n",
       "      <td>22.25</td>\n",
       "      <td>11.25</td>\n",
       "      <td>29.12</td>\n",
       "      <td>57.60</td>\n",
       "      <td>7.31</td>\n",
       "      <td>52.10</td>\n",
       "      <td>245.25</td>\n",
       "      <td>40.12</td>\n",
       "      <td>136.36</td>\n",
       "      <td>67.65</td>\n",
       "    </tr>\n",
       "    <tr>\n",
       "      <th>...</th>\n",
       "      <td>...</td>\n",
       "      <td>...</td>\n",
       "      <td>...</td>\n",
       "      <td>...</td>\n",
       "      <td>...</td>\n",
       "      <td>...</td>\n",
       "      <td>...</td>\n",
       "      <td>...</td>\n",
       "      <td>...</td>\n",
       "      <td>...</td>\n",
       "      <td>...</td>\n",
       "      <td>...</td>\n",
       "      <td>...</td>\n",
       "      <td>...</td>\n",
       "      <td>...</td>\n",
       "      <td>...</td>\n",
       "      <td>...</td>\n",
       "      <td>...</td>\n",
       "      <td>...</td>\n",
       "      <td>...</td>\n",
       "      <td>...</td>\n",
       "    </tr>\n",
       "    <tr>\n",
       "      <th>139</th>\n",
       "      <td>Russia</td>\n",
       "      <td>2023</td>\n",
       "      <td>1.64</td>\n",
       "      <td>10978.0</td>\n",
       "      <td>3.20</td>\n",
       "      <td>138.04</td>\n",
       "      <td>0.10</td>\n",
       "      <td>71.56</td>\n",
       "      <td>73.47</td>\n",
       "      <td>539.70</td>\n",
       "      <td>...</td>\n",
       "      <td>12.36</td>\n",
       "      <td>24.55</td>\n",
       "      <td>35.28</td>\n",
       "      <td>12.54</td>\n",
       "      <td>4.69</td>\n",
       "      <td>58.62</td>\n",
       "      <td>477.50</td>\n",
       "      <td>31.02</td>\n",
       "      <td>150.15</td>\n",
       "      <td>65.33</td>\n",
       "    </tr>\n",
       "    <tr>\n",
       "      <th>140</th>\n",
       "      <td>Canada</td>\n",
       "      <td>2023</td>\n",
       "      <td>1.73</td>\n",
       "      <td>44804.0</td>\n",
       "      <td>1.88</td>\n",
       "      <td>35.59</td>\n",
       "      <td>0.93</td>\n",
       "      <td>83.11</td>\n",
       "      <td>79.17</td>\n",
       "      <td>5139.75</td>\n",
       "      <td>...</td>\n",
       "      <td>9.24</td>\n",
       "      <td>21.32</td>\n",
       "      <td>29.13</td>\n",
       "      <td>6.96</td>\n",
       "      <td>5.44</td>\n",
       "      <td>64.61</td>\n",
       "      <td>800.80</td>\n",
       "      <td>72.37</td>\n",
       "      <td>15.52</td>\n",
       "      <td>62.28</td>\n",
       "    </tr>\n",
       "    <tr>\n",
       "      <th>141</th>\n",
       "      <td>China</td>\n",
       "      <td>2023</td>\n",
       "      <td>13.72</td>\n",
       "      <td>9870.0</td>\n",
       "      <td>2.29</td>\n",
       "      <td>1407.79</td>\n",
       "      <td>0.29</td>\n",
       "      <td>61.86</td>\n",
       "      <td>73.10</td>\n",
       "      <td>430.20</td>\n",
       "      <td>...</td>\n",
       "      <td>1.92</td>\n",
       "      <td>64.67</td>\n",
       "      <td>116.76</td>\n",
       "      <td>56.54</td>\n",
       "      <td>3.58</td>\n",
       "      <td>65.77</td>\n",
       "      <td>95.30</td>\n",
       "      <td>43.22</td>\n",
       "      <td>184.26</td>\n",
       "      <td>71.14</td>\n",
       "    </tr>\n",
       "    <tr>\n",
       "      <th>142</th>\n",
       "      <td>India</td>\n",
       "      <td>2023</td>\n",
       "      <td>2.79</td>\n",
       "      <td>2070.6</td>\n",
       "      <td>4.70</td>\n",
       "      <td>1411.74</td>\n",
       "      <td>1.03</td>\n",
       "      <td>34.05</td>\n",
       "      <td>70.09</td>\n",
       "      <td>76.07</td>\n",
       "      <td>...</td>\n",
       "      <td>21.94</td>\n",
       "      <td>10.74</td>\n",
       "      <td>28.00</td>\n",
       "      <td>57.36</td>\n",
       "      <td>7.16</td>\n",
       "      <td>48.25</td>\n",
       "      <td>240.75</td>\n",
       "      <td>41.36</td>\n",
       "      <td>133.28</td>\n",
       "      <td>66.20</td>\n",
       "    </tr>\n",
       "    <tr>\n",
       "      <th>143</th>\n",
       "      <td>Australia</td>\n",
       "      <td>2023</td>\n",
       "      <td>1.27</td>\n",
       "      <td>51304.0</td>\n",
       "      <td>1.54</td>\n",
       "      <td>24.38</td>\n",
       "      <td>1.36</td>\n",
       "      <td>84.37</td>\n",
       "      <td>83.40</td>\n",
       "      <td>5434.00</td>\n",
       "      <td>...</td>\n",
       "      <td>9.99</td>\n",
       "      <td>9.77</td>\n",
       "      <td>58.26</td>\n",
       "      <td>53.80</td>\n",
       "      <td>4.75</td>\n",
       "      <td>69.23</td>\n",
       "      <td>910.80</td>\n",
       "      <td>75.92</td>\n",
       "      <td>25.88</td>\n",
       "      <td>94.39</td>\n",
       "    </tr>\n",
       "  </tbody>\n",
       "</table>\n",
       "<p>144 rows × 36 columns</p>\n",
       "</div>"
      ],
      "text/plain": [
       "       Country  Year  GDP (in Trillions USD)  GDP per Capita (in USD)  \\\n",
       "0          USA  2000                   20.87                  65455.0   \n",
       "1       Russia  2000                    1.64                  10923.0   \n",
       "2       Canada  2000                    1.65                  47932.0   \n",
       "3        China  2000                   13.64                  10060.0   \n",
       "4        India  2000                    2.98                   2102.1   \n",
       "..         ...   ...                     ...                      ...   \n",
       "139     Russia  2023                    1.64                  10978.0   \n",
       "140     Canada  2023                    1.73                  44804.0   \n",
       "141      China  2023                   13.72                   9870.0   \n",
       "142      India  2023                    2.79                   2070.6   \n",
       "143  Australia  2023                    1.27                  51304.0   \n",
       "\n",
       "     Inflation Rate (%)  Population (in Millions)  Population Growth Rate (%)  \\\n",
       "0                  2.28                    330.34                        0.58   \n",
       "1                  3.25                    141.81                        0.10   \n",
       "2                  1.96                     36.63                        0.90   \n",
       "3                  2.43                   1446.93                        0.31   \n",
       "4                  4.87                   1313.76                        1.04   \n",
       "..                  ...                       ...                         ...   \n",
       "139                3.20                    138.04                        0.10   \n",
       "140                1.88                     35.59                        0.93   \n",
       "141                2.29                   1407.79                        0.29   \n",
       "142                4.70                   1411.74                        1.03   \n",
       "143                1.54                     24.38                        1.36   \n",
       "\n",
       "     Urban Population (%)  Life Expectancy (Years)  \\\n",
       "0                   83.42                    78.39   \n",
       "1                   72.67                    69.91   \n",
       "2                   79.54                    84.60   \n",
       "3                   58.56                    76.09   \n",
       "4                   34.09                    68.78   \n",
       "..                    ...                      ...   \n",
       "139                 71.56                    73.47   \n",
       "140                 83.11                    79.17   \n",
       "141                 61.86                    73.10   \n",
       "142                 34.05                    70.09   \n",
       "143                 84.37                    83.40   \n",
       "\n",
       "     Healthcare Expenditure per Capita (USD)  ...  Poverty Rate (%)  \\\n",
       "0                                   11209.00  ...             10.98   \n",
       "1                                     534.45  ...             12.89   \n",
       "2                                    5113.50  ...              9.46   \n",
       "3                                     459.00  ...              2.04   \n",
       "4                                      76.07  ...             22.25   \n",
       "..                                       ...  ...               ...   \n",
       "139                                   539.70  ...             12.36   \n",
       "140                                  5139.75  ...              9.24   \n",
       "141                                   430.20  ...              1.92   \n",
       "142                                    76.07  ...             21.94   \n",
       "143                                  5434.00  ...              9.99   \n",
       "\n",
       "     Number of International Visitors (in Millions)  \\\n",
       "0                                             80.80   \n",
       "1                                             24.70   \n",
       "2                                             22.33   \n",
       "3                                             62.20   \n",
       "4                                             11.25   \n",
       "..                                              ...   \n",
       "139                                           24.55   \n",
       "140                                           21.32   \n",
       "141                                           64.67   \n",
       "142                                           10.74   \n",
       "143                                            9.77   \n",
       "\n",
       "     Tourism Revenue (in Billion USD)  Agricultural Land (%)  \\\n",
       "0                              210.98                  42.37   \n",
       "1                               36.47                  12.53   \n",
       "2                               29.52                   7.22   \n",
       "3                              115.80                  54.00   \n",
       "4                               29.12                  57.60   \n",
       "..                                ...                    ...   \n",
       "139                             35.28                  12.54   \n",
       "140                             29.13                   6.96   \n",
       "141                            116.76                  56.54   \n",
       "142                             28.00                  57.36   \n",
       "143                             58.26                  53.80   \n",
       "\n",
       "     Unemployment Rate (%)  Labor Force Participation Rate (%)  \\\n",
       "0                     3.55                               65.52   \n",
       "1                     4.63                               57.54   \n",
       "2                     5.43                               65.06   \n",
       "3                     3.68                               63.13   \n",
       "4                     7.31                               52.10   \n",
       "..                     ...                                 ...   \n",
       "139                   4.69                               58.62   \n",
       "140                   5.44                               64.61   \n",
       "141                   3.58                               65.77   \n",
       "142                   7.16                               48.25   \n",
       "143                   4.75                               69.23   \n",
       "\n",
       "     Crime Rate (per 100,000)  Corruption Perception Index  \\\n",
       "0                      287.40                        67.41   \n",
       "1                      497.50                        30.90   \n",
       "2                      795.20                        74.74   \n",
       "3                      102.90                        41.75   \n",
       "4                      245.25                        40.12   \n",
       "..                        ...                          ...   \n",
       "139                    477.50                        31.02   \n",
       "140                    800.80                        72.37   \n",
       "141                     95.30                        43.22   \n",
       "142                    240.75                        41.36   \n",
       "143                    910.80                        75.92   \n",
       "\n",
       "     Freedom of Press Index  Voting Participation Rate (%)  \n",
       "0                     45.27                          68.81  \n",
       "1                    146.10                          65.00  \n",
       "2                     16.42                          63.00  \n",
       "3                    185.32                          72.14  \n",
       "4                    136.36                          67.65  \n",
       "..                      ...                            ...  \n",
       "139                  150.15                          65.33  \n",
       "140                   15.52                          62.28  \n",
       "141                  184.26                          71.14  \n",
       "142                  133.28                          66.20  \n",
       "143                   25.88                          94.39  \n",
       "\n",
       "[144 rows x 36 columns]"
      ]
     },
     "execution_count": 45,
     "metadata": {},
     "output_type": "execute_result"
    }
   ],
   "source": [
    "df = pd.read_csv('country_comparison_large_dataset.csv')\n",
    "df"
   ]
  },
  {
   "cell_type": "code",
   "execution_count": 46,
   "metadata": {},
   "outputs": [
    {
     "data": {
      "text/html": [
       "<div>\n",
       "<style scoped>\n",
       "    .dataframe tbody tr th:only-of-type {\n",
       "        vertical-align: middle;\n",
       "    }\n",
       "\n",
       "    .dataframe tbody tr th {\n",
       "        vertical-align: top;\n",
       "    }\n",
       "\n",
       "    .dataframe thead th {\n",
       "        text-align: right;\n",
       "    }\n",
       "</style>\n",
       "<table border=\"1\" class=\"dataframe\">\n",
       "  <thead>\n",
       "    <tr style=\"text-align: right;\">\n",
       "      <th></th>\n",
       "      <th>Year</th>\n",
       "      <th>GDP (in Trillions USD)</th>\n",
       "      <th>GDP per Capita (in USD)</th>\n",
       "      <th>Inflation Rate (%)</th>\n",
       "      <th>Population (in Millions)</th>\n",
       "      <th>Population Growth Rate (%)</th>\n",
       "      <th>Urban Population (%)</th>\n",
       "      <th>Life Expectancy (Years)</th>\n",
       "      <th>Healthcare Expenditure per Capita (USD)</th>\n",
       "      <th>Doctor-to-Patient Ratio</th>\n",
       "      <th>...</th>\n",
       "      <th>Poverty Rate (%)</th>\n",
       "      <th>Number of International Visitors (in Millions)</th>\n",
       "      <th>Tourism Revenue (in Billion USD)</th>\n",
       "      <th>Agricultural Land (%)</th>\n",
       "      <th>Unemployment Rate (%)</th>\n",
       "      <th>Labor Force Participation Rate (%)</th>\n",
       "      <th>Crime Rate (per 100,000)</th>\n",
       "      <th>Corruption Perception Index</th>\n",
       "      <th>Freedom of Press Index</th>\n",
       "      <th>Voting Participation Rate (%)</th>\n",
       "    </tr>\n",
       "  </thead>\n",
       "  <tbody>\n",
       "    <tr>\n",
       "      <th>count</th>\n",
       "      <td>144.000000</td>\n",
       "      <td>144.000000</td>\n",
       "      <td>144.000000</td>\n",
       "      <td>144.000000</td>\n",
       "      <td>144.000000</td>\n",
       "      <td>144.000000</td>\n",
       "      <td>144.000000</td>\n",
       "      <td>144.000000</td>\n",
       "      <td>144.000000</td>\n",
       "      <td>144.000000</td>\n",
       "      <td>...</td>\n",
       "      <td>144.000000</td>\n",
       "      <td>144.000000</td>\n",
       "      <td>144.000000</td>\n",
       "      <td>144.000000</td>\n",
       "      <td>144.000000</td>\n",
       "      <td>144.000000</td>\n",
       "      <td>144.00000</td>\n",
       "      <td>144.000000</td>\n",
       "      <td>144.000000</td>\n",
       "      <td>144.000000</td>\n",
       "    </tr>\n",
       "    <tr>\n",
       "      <th>mean</th>\n",
       "      <td>2011.500000</td>\n",
       "      <td>7.186667</td>\n",
       "      <td>31118.720139</td>\n",
       "      <td>2.653125</td>\n",
       "      <td>550.913542</td>\n",
       "      <td>0.702153</td>\n",
       "      <td>69.617222</td>\n",
       "      <td>77.323194</td>\n",
       "      <td>3747.403819</td>\n",
       "      <td>2.598194</td>\n",
       "      <td>...</td>\n",
       "      <td>10.975139</td>\n",
       "      <td>35.271806</td>\n",
       "      <td>82.536458</td>\n",
       "      <td>38.506458</td>\n",
       "      <td>4.980833</td>\n",
       "      <td>61.001181</td>\n",
       "      <td>474.94375</td>\n",
       "      <td>55.235347</td>\n",
       "      <td>92.348403</td>\n",
       "      <td>70.296736</td>\n",
       "    </tr>\n",
       "    <tr>\n",
       "      <th>std</th>\n",
       "      <td>6.946348</td>\n",
       "      <td>7.807163</td>\n",
       "      <td>24438.786379</td>\n",
       "      <td>1.067940</td>\n",
       "      <td>600.169798</td>\n",
       "      <td>0.417256</td>\n",
       "      <td>17.862888</td>\n",
       "      <td>5.411696</td>\n",
       "      <td>3914.846503</td>\n",
       "      <td>1.029520</td>\n",
       "      <td>...</td>\n",
       "      <td>5.885337</td>\n",
       "      <td>27.234486</td>\n",
       "      <td>69.991391</td>\n",
       "      <td>20.921471</td>\n",
       "      <td>1.327104</td>\n",
       "      <td>5.520543</td>\n",
       "      <td>292.35926</td>\n",
       "      <td>18.662935</td>\n",
       "      <td>65.630659</td>\n",
       "      <td>10.602064</td>\n",
       "    </tr>\n",
       "    <tr>\n",
       "      <th>min</th>\n",
       "      <td>2000.000000</td>\n",
       "      <td>1.270000</td>\n",
       "      <td>2009.700000</td>\n",
       "      <td>1.440000</td>\n",
       "      <td>23.900000</td>\n",
       "      <td>0.100000</td>\n",
       "      <td>33.600000</td>\n",
       "      <td>66.140000</td>\n",
       "      <td>69.420000</td>\n",
       "      <td>0.860000</td>\n",
       "      <td>...</td>\n",
       "      <td>1.910000</td>\n",
       "      <td>8.970000</td>\n",
       "      <td>26.850000</td>\n",
       "      <td>6.730000</td>\n",
       "      <td>3.430000</td>\n",
       "      <td>47.700000</td>\n",
       "      <td>95.30000</td>\n",
       "      <td>28.560000</td>\n",
       "      <td>15.280000</td>\n",
       "      <td>57.240000</td>\n",
       "    </tr>\n",
       "    <tr>\n",
       "      <th>25%</th>\n",
       "      <td>2005.750000</td>\n",
       "      <td>1.630000</td>\n",
       "      <td>9972.500000</td>\n",
       "      <td>1.887500</td>\n",
       "      <td>37.342500</td>\n",
       "      <td>0.300000</td>\n",
       "      <td>59.940000</td>\n",
       "      <td>73.042500</td>\n",
       "      <td>447.750000</td>\n",
       "      <td>1.810000</td>\n",
       "      <td>...</td>\n",
       "      <td>9.317500</td>\n",
       "      <td>10.960000</td>\n",
       "      <td>29.812500</td>\n",
       "      <td>13.010000</td>\n",
       "      <td>3.735000</td>\n",
       "      <td>59.340000</td>\n",
       "      <td>250.43750</td>\n",
       "      <td>40.070000</td>\n",
       "      <td>25.137500</td>\n",
       "      <td>63.420000</td>\n",
       "    </tr>\n",
       "    <tr>\n",
       "      <th>50%</th>\n",
       "      <td>2011.500000</td>\n",
       "      <td>2.275000</td>\n",
       "      <td>27548.000000</td>\n",
       "      <td>2.330000</td>\n",
       "      <td>233.770000</td>\n",
       "      <td>0.745000</td>\n",
       "      <td>77.330000</td>\n",
       "      <td>78.020000</td>\n",
       "      <td>2747.700000</td>\n",
       "      <td>2.735000</td>\n",
       "      <td>...</td>\n",
       "      <td>10.040000</td>\n",
       "      <td>23.370000</td>\n",
       "      <td>46.995000</td>\n",
       "      <td>48.140000</td>\n",
       "      <td>4.760000</td>\n",
       "      <td>62.230000</td>\n",
       "      <td>395.35000</td>\n",
       "      <td>54.820000</td>\n",
       "      <td>90.220000</td>\n",
       "      <td>67.615000</td>\n",
       "    </tr>\n",
       "    <tr>\n",
       "      <th>75%</th>\n",
       "      <td>2017.250000</td>\n",
       "      <td>14.232500</td>\n",
       "      <td>52231.500000</td>\n",
       "      <td>3.072500</td>\n",
       "      <td>1341.540000</td>\n",
       "      <td>1.010000</td>\n",
       "      <td>83.110000</td>\n",
       "      <td>81.715000</td>\n",
       "      <td>5379.400000</td>\n",
       "      <td>3.417500</td>\n",
       "      <td>...</td>\n",
       "      <td>12.360000</td>\n",
       "      <td>64.625000</td>\n",
       "      <td>120.870000</td>\n",
       "      <td>55.090000</td>\n",
       "      <td>5.517500</td>\n",
       "      <td>65.112500</td>\n",
       "      <td>796.40000</td>\n",
       "      <td>73.410000</td>\n",
       "      <td>150.337500</td>\n",
       "      <td>71.192500</td>\n",
       "    </tr>\n",
       "    <tr>\n",
       "      <th>max</th>\n",
       "      <td>2023.000000</td>\n",
       "      <td>22.240000</td>\n",
       "      <td>68120.000000</td>\n",
       "      <td>5.040000</td>\n",
       "      <td>1462.310000</td>\n",
       "      <td>1.360000</td>\n",
       "      <td>90.040000</td>\n",
       "      <td>87.150000</td>\n",
       "      <td>11528.000000</td>\n",
       "      <td>4.200000</td>\n",
       "      <td>...</td>\n",
       "      <td>22.970000</td>\n",
       "      <td>83.600000</td>\n",
       "      <td>230.340000</td>\n",
       "      <td>62.940000</td>\n",
       "      <td>7.870000</td>\n",
       "      <td>69.230000</td>\n",
       "      <td>943.20000</td>\n",
       "      <td>80.850000</td>\n",
       "      <td>185.320000</td>\n",
       "      <td>96.600000</td>\n",
       "    </tr>\n",
       "  </tbody>\n",
       "</table>\n",
       "<p>8 rows × 35 columns</p>\n",
       "</div>"
      ],
      "text/plain": [
       "              Year  GDP (in Trillions USD)  GDP per Capita (in USD)  \\\n",
       "count   144.000000              144.000000               144.000000   \n",
       "mean   2011.500000                7.186667             31118.720139   \n",
       "std       6.946348                7.807163             24438.786379   \n",
       "min    2000.000000                1.270000              2009.700000   \n",
       "25%    2005.750000                1.630000              9972.500000   \n",
       "50%    2011.500000                2.275000             27548.000000   \n",
       "75%    2017.250000               14.232500             52231.500000   \n",
       "max    2023.000000               22.240000             68120.000000   \n",
       "\n",
       "       Inflation Rate (%)  Population (in Millions)  \\\n",
       "count          144.000000                144.000000   \n",
       "mean             2.653125                550.913542   \n",
       "std              1.067940                600.169798   \n",
       "min              1.440000                 23.900000   \n",
       "25%              1.887500                 37.342500   \n",
       "50%              2.330000                233.770000   \n",
       "75%              3.072500               1341.540000   \n",
       "max              5.040000               1462.310000   \n",
       "\n",
       "       Population Growth Rate (%)  Urban Population (%)  \\\n",
       "count                  144.000000            144.000000   \n",
       "mean                     0.702153             69.617222   \n",
       "std                      0.417256             17.862888   \n",
       "min                      0.100000             33.600000   \n",
       "25%                      0.300000             59.940000   \n",
       "50%                      0.745000             77.330000   \n",
       "75%                      1.010000             83.110000   \n",
       "max                      1.360000             90.040000   \n",
       "\n",
       "       Life Expectancy (Years)  Healthcare Expenditure per Capita (USD)  \\\n",
       "count               144.000000                               144.000000   \n",
       "mean                 77.323194                              3747.403819   \n",
       "std                   5.411696                              3914.846503   \n",
       "min                  66.140000                                69.420000   \n",
       "25%                  73.042500                               447.750000   \n",
       "50%                  78.020000                              2747.700000   \n",
       "75%                  81.715000                              5379.400000   \n",
       "max                  87.150000                             11528.000000   \n",
       "\n",
       "       Doctor-to-Patient Ratio  ...  Poverty Rate (%)  \\\n",
       "count               144.000000  ...        144.000000   \n",
       "mean                  2.598194  ...         10.975139   \n",
       "std                   1.029520  ...          5.885337   \n",
       "min                   0.860000  ...          1.910000   \n",
       "25%                   1.810000  ...          9.317500   \n",
       "50%                   2.735000  ...         10.040000   \n",
       "75%                   3.417500  ...         12.360000   \n",
       "max                   4.200000  ...         22.970000   \n",
       "\n",
       "       Number of International Visitors (in Millions)  \\\n",
       "count                                      144.000000   \n",
       "mean                                        35.271806   \n",
       "std                                         27.234486   \n",
       "min                                          8.970000   \n",
       "25%                                         10.960000   \n",
       "50%                                         23.370000   \n",
       "75%                                         64.625000   \n",
       "max                                         83.600000   \n",
       "\n",
       "       Tourism Revenue (in Billion USD)  Agricultural Land (%)  \\\n",
       "count                        144.000000             144.000000   \n",
       "mean                          82.536458              38.506458   \n",
       "std                           69.991391              20.921471   \n",
       "min                           26.850000               6.730000   \n",
       "25%                           29.812500              13.010000   \n",
       "50%                           46.995000              48.140000   \n",
       "75%                          120.870000              55.090000   \n",
       "max                          230.340000              62.940000   \n",
       "\n",
       "       Unemployment Rate (%)  Labor Force Participation Rate (%)  \\\n",
       "count             144.000000                          144.000000   \n",
       "mean                4.980833                           61.001181   \n",
       "std                 1.327104                            5.520543   \n",
       "min                 3.430000                           47.700000   \n",
       "25%                 3.735000                           59.340000   \n",
       "50%                 4.760000                           62.230000   \n",
       "75%                 5.517500                           65.112500   \n",
       "max                 7.870000                           69.230000   \n",
       "\n",
       "       Crime Rate (per 100,000)  Corruption Perception Index  \\\n",
       "count                 144.00000                   144.000000   \n",
       "mean                  474.94375                    55.235347   \n",
       "std                   292.35926                    18.662935   \n",
       "min                    95.30000                    28.560000   \n",
       "25%                   250.43750                    40.070000   \n",
       "50%                   395.35000                    54.820000   \n",
       "75%                   796.40000                    73.410000   \n",
       "max                   943.20000                    80.850000   \n",
       "\n",
       "       Freedom of Press Index  Voting Participation Rate (%)  \n",
       "count              144.000000                     144.000000  \n",
       "mean                92.348403                      70.296736  \n",
       "std                 65.630659                      10.602064  \n",
       "min                 15.280000                      57.240000  \n",
       "25%                 25.137500                      63.420000  \n",
       "50%                 90.220000                      67.615000  \n",
       "75%                150.337500                      71.192500  \n",
       "max                185.320000                      96.600000  \n",
       "\n",
       "[8 rows x 35 columns]"
      ]
     },
     "execution_count": 46,
     "metadata": {},
     "output_type": "execute_result"
    }
   ],
   "source": [
    "df.describe()"
   ]
  },
  {
   "cell_type": "code",
   "execution_count": 47,
   "metadata": {},
   "outputs": [
    {
     "name": "stdout",
     "output_type": "stream",
     "text": [
      "<class 'pandas.core.frame.DataFrame'>\n",
      "RangeIndex: 144 entries, 0 to 143\n",
      "Data columns (total 36 columns):\n",
      " #   Column                                          Non-Null Count  Dtype  \n",
      "---  ------                                          --------------  -----  \n",
      " 0   Country                                         144 non-null    object \n",
      " 1   Year                                            144 non-null    int64  \n",
      " 2   GDP (in Trillions USD)                          144 non-null    float64\n",
      " 3   GDP per Capita (in USD)                         144 non-null    float64\n",
      " 4   Inflation Rate (%)                              144 non-null    float64\n",
      " 5   Population (in Millions)                        144 non-null    float64\n",
      " 6   Population Growth Rate (%)                      144 non-null    float64\n",
      " 7   Urban Population (%)                            144 non-null    float64\n",
      " 8   Life Expectancy (Years)                         144 non-null    float64\n",
      " 9   Healthcare Expenditure per Capita (USD)         144 non-null    float64\n",
      " 10  Doctor-to-Patient Ratio                         144 non-null    float64\n",
      " 11  Literacy Rate (%)                               144 non-null    float64\n",
      " 12  Education Expenditure as % of GDP               144 non-null    float64\n",
      " 13  Internet Penetration (%)                        144 non-null    float64\n",
      " 14  Smartphone Adoption (%)                         144 non-null    float64\n",
      " 15  Energy Consumption (TWh)                        144 non-null    float64\n",
      " 16  Renewable Energy Share (%)                      144 non-null    float64\n",
      " 17  Military Expenditure (in Billion USD)           144 non-null    float64\n",
      " 18  Number of Active Military Personnel             144 non-null    float64\n",
      " 19  CO2 Emissions (Million Metric Tons)             144 non-null    float64\n",
      " 20  Forest Coverage (%)                             144 non-null    float64\n",
      " 21  Number of Airports                              144 non-null    float64\n",
      " 22  Road Network Length (in km)                     144 non-null    float64\n",
      " 23  Public Transport Usage (%)                      144 non-null    float64\n",
      " 24  Human Development Index (HDI)                   144 non-null    float64\n",
      " 25  Gender Equality Index                           144 non-null    float64\n",
      " 26  Poverty Rate (%)                                144 non-null    float64\n",
      " 27  Number of International Visitors (in Millions)  144 non-null    float64\n",
      " 28  Tourism Revenue (in Billion USD)                144 non-null    float64\n",
      " 29  Agricultural Land (%)                           144 non-null    float64\n",
      " 30  Unemployment Rate (%)                           144 non-null    float64\n",
      " 31  Labor Force Participation Rate (%)              144 non-null    float64\n",
      " 32  Crime Rate (per 100,000)                        144 non-null    float64\n",
      " 33  Corruption Perception Index                     144 non-null    float64\n",
      " 34  Freedom of Press Index                          144 non-null    float64\n",
      " 35  Voting Participation Rate (%)                   144 non-null    float64\n",
      "dtypes: float64(34), int64(1), object(1)\n",
      "memory usage: 40.6+ KB\n"
     ]
    }
   ],
   "source": [
    "df.info()"
   ]
  },
  {
   "cell_type": "markdown",
   "metadata": {},
   "source": [
    "## 1. The relationship between many different socio-economic development indicators of many countries (Correlation matrix)"
   ]
  },
  {
   "cell_type": "code",
   "execution_count": 48,
   "metadata": {},
   "outputs": [
    {
     "data": {
      "application/vnd.plotly.v1+json": {
       "config": {
        "plotlyServerURL": "https://plot.ly"
       },
       "data": [
        {
         "coloraxis": "coloraxis",
         "hovertemplate": "x: %{x}<br>y: %{y}<br>color: %{z}<extra></extra>",
         "name": "0",
         "texttemplate": "%{z:.2f}",
         "type": "heatmap",
         "x": [
          "Year",
          "GDP (in Trillions USD)",
          "GDP per Capita (in USD)",
          "Inflation Rate (%)",
          "Population (in Millions)",
          "Population Growth Rate (%)",
          "Urban Population (%)",
          "Life Expectancy (Years)",
          "Healthcare Expenditure per Capita (USD)",
          "Doctor-to-Patient Ratio",
          "Literacy Rate (%)",
          "Education Expenditure as % of GDP",
          "Internet Penetration (%)",
          "Smartphone Adoption (%)",
          "Energy Consumption (TWh)",
          "Renewable Energy Share (%)",
          "Military Expenditure (in Billion USD)",
          "Number of Active Military Personnel",
          "CO2 Emissions (Million Metric Tons)",
          "Forest Coverage (%)",
          "Number of Airports",
          "Road Network Length (in km)",
          "Public Transport Usage (%)",
          "Human Development Index (HDI)",
          "Gender Equality Index",
          "Poverty Rate (%)",
          "Number of International Visitors (in Millions)",
          "Tourism Revenue (in Billion USD)",
          "Agricultural Land (%)",
          "Unemployment Rate (%)",
          "Labor Force Participation Rate (%)",
          "Crime Rate (per 100,000)",
          "Corruption Perception Index",
          "Freedom of Press Index",
          "Voting Participation Rate (%)"
         ],
         "xaxis": "x",
         "y": [
          "Year",
          "GDP (in Trillions USD)",
          "GDP per Capita (in USD)",
          "Inflation Rate (%)",
          "Population (in Millions)",
          "Population Growth Rate (%)",
          "Urban Population (%)",
          "Life Expectancy (Years)",
          "Healthcare Expenditure per Capita (USD)",
          "Doctor-to-Patient Ratio",
          "Literacy Rate (%)",
          "Education Expenditure as % of GDP",
          "Internet Penetration (%)",
          "Smartphone Adoption (%)",
          "Energy Consumption (TWh)",
          "Renewable Energy Share (%)",
          "Military Expenditure (in Billion USD)",
          "Number of Active Military Personnel",
          "CO2 Emissions (Million Metric Tons)",
          "Forest Coverage (%)",
          "Number of Airports",
          "Road Network Length (in km)",
          "Public Transport Usage (%)",
          "Human Development Index (HDI)",
          "Gender Equality Index",
          "Poverty Rate (%)",
          "Number of International Visitors (in Millions)",
          "Tourism Revenue (in Billion USD)",
          "Agricultural Land (%)",
          "Unemployment Rate (%)",
          "Labor Force Participation Rate (%)",
          "Crime Rate (per 100,000)",
          "Corruption Perception Index",
          "Freedom of Press Index",
          "Voting Participation Rate (%)"
         ],
         "yaxis": "y",
         "z": [
          [
           1,
           0.0023829566944392616,
           -0.00817441516029348,
           0.0009002517408712884,
           0.000347730733255465,
           -0.00025333456447394954,
           0.006917383905661409,
           -0.0031959294911413317,
           0.0008687254695364167,
           0.009553603599492682,
           0.02874294463436943,
           -0.0007648605255989238,
           -0.0007266384197496221,
           0.006619517808716924,
           -0.0023853469751429542,
           -0.0006869228230412402,
           -0.0019446381166316167,
           0.003940124919250066,
           0.004508211348178265,
           -0.008828899050133874,
           0.00025162012228931293,
           -0.0071838268678206295,
           0.0048857655710411365,
           0.002369088358674003,
           0.005191895816925058,
           -0.0010194886286402035,
           0.0019332585282511273,
           -0.000043797579519376444,
           -0.004767856119457291,
           -0.0024578054571572677,
           0.03719289422328064,
           -0.00022778253969947657,
           -0.007828880432646746,
           -0.0014040670895980759,
           -0.002341111162047963
          ],
          [
           0.0023829566944392616,
           1,
           0.32390111097422347,
           -0.1555160782839531,
           0.26773780609065456,
           -0.3534935564399554,
           0.10791794915174041,
           0.06880989537690556,
           0.5232770863525938,
           -0.25918361829149483,
           0.23681303198124987,
           0.017442861467735375,
           0.022996336129857613,
           0.19866985155808942,
           0.824293671828329,
           -0.24286231908554282,
           0.9503955372606219,
           0.6365992561386641,
           0.7570387754211868,
           -0.09993124310170468,
           0.7890016331274398,
           0.7483869471926375,
           -0.0902007901170882,
           0.10631159144612652,
           0.32627603568419306,
           -0.39373906790237095,
           0.9681903496299995,
           0.9645665114635016,
           0.3301333990813741,
           -0.6487993911772383,
           0.14648322160009922,
           -0.6306245259724018,
           0.1005510363357915,
           0.06987065232597822,
           -0.1118774856514744
          ],
          [
           -0.00817441516029348,
           0.32390111097422347,
           1,
           -0.7298678301129399,
           -0.6835347556057969,
           0.4029963046891828,
           0.8062301461324123,
           0.7505107012115811,
           0.9524709260931694,
           0.39539979496198974,
           0.576604329063267,
           0.7857877972759709,
           0.7748986165736139,
           0.779900654156422,
           -0.14422188064318675,
           0.2621368328424148,
           0.4684333842090926,
           -0.5136376557364085,
           -0.24244273000142935,
           -0.06589678295559466,
           0.632854149779543,
           -0.1373040428868155,
           -0.8303615984174235,
           0.884454775389333,
           0.9274629989450054,
           -0.2595106884991293,
           0.2753151965129446,
           0.5150077476752615,
           -0.1386117233137032,
           -0.36899683110751774,
           0.637078579697054,
           0.5077422500060141,
           0.9044648185370723,
           -0.8955149269207419,
           0.2701930417666829
          ],
          [
           0.0009002517408712884,
           -0.1555160782839531,
           -0.7298678301129399,
           1,
           0.6377400078548847,
           -0.12456366993510473,
           -0.8975450462623207,
           -0.8658619837686877,
           -0.5584703804970694,
           -0.6020864852349573,
           -0.8439375523155169,
           -0.8221879521596062,
           -0.8479444528016847,
           -0.9248135170792143,
           -0.02685051613915059,
           -0.49106492267125174,
           -0.1330009459827057,
           0.4929356074392731,
           0.021491721220556075,
           0.08285488367600827,
           -0.16976627435571282,
           0.4931983530002997,
           0.2873066606977269,
           -0.8685231078701064,
           -0.8505750898504322,
           0.7677663503012141,
           -0.23089799145819073,
           -0.2944322126245224,
           0.27276623580780157,
           0.6542760592880132,
           -0.9373891939056505,
           -0.5575421502493401,
           -0.7083969013760743,
           0.6182258199691213,
           -0.40754118006598977
          ],
          [
           0.000347730733255465,
           0.26773780609065456,
           -0.6835347556057969,
           0.6377400078548847,
           1,
           -0.1669179493347188,
           -0.8656447351415613,
           -0.5977748934860107,
           -0.5450523199012314,
           -0.8749426072423778,
           -0.664149923168455,
           -0.8022481780377089,
           -0.9134958539444826,
           -0.7907585999792127,
           0.6154166231390831,
           -0.3548984264169084,
           0.07098323183175541,
           0.8155370739507225,
           0.6733338065335278,
           -0.4266399602005567,
           -0.20865166978994995,
           0.7015652308670444,
           0.6522183859629412,
           -0.8406280616457986,
           -0.6008325109658388,
           0.11396066968556413,
           0.20032056959120373,
           0.06095447875441453,
           0.656952189486609,
           0.21013067658176765,
           -0.5711822362260123,
           -0.8251127401915166,
           -0.5592179091205302,
           0.7372118997125433,
           -0.13868747622659716
          ],
          [
           -0.00025333456447394954,
           -0.3534935564399554,
           0.4029963046891828,
           -0.12456366993510473,
           -0.1669179493347188,
           1,
           0.04318300555711132,
           0.35023087659710894,
           0.2715151637519603,
           -0.1933068998114143,
           -0.28275706936932204,
           0.16456609385211132,
           0.026428372673202815,
           -0.03284028526395071,
           -0.5232628835988843,
           0.12761852023746348,
           -0.2724241694307078,
           -0.5928340976765951,
           -0.5303690088723473,
           -0.6198918193551989,
           -0.13521675365428862,
           -0.18218001460641622,
           -0.5211874388378981,
           0.22156433398772782,
           0.33934687222217863,
           0.33918255818262993,
           -0.5276273652106892,
           -0.23619825092891622,
           0.3325970074243039,
           0.540875262051186,
           0.04467441114108805,
           0.5608161518660867,
           0.6781130640656879,
           -0.6517874059735633,
           0.4984812567158592
          ],
          [
           0.006917383905661409,
           0.10791794915174041,
           0.8062301461324123,
           -0.8975450462623207,
           -0.8656447351415613,
           0.04318300555711132,
           1,
           0.7711012501723188,
           0.6784306695233389,
           0.805866864060186,
           0.8841395494791038,
           0.870264620488576,
           0.9752642403219932,
           0.9737285063063493,
           -0.18750921246178964,
           0.3728833099616916,
           0.20630998305586037,
           -0.5882175168555894,
           -0.25747344795497834,
           0.22399612197750682,
           0.35815631328111847,
           -0.5286946174892918,
           -0.5212606485511121,
           0.94478070782405,
           0.8150475646286542,
           -0.5333445084222415,
           0.18855452792169394,
           0.29510277666268636,
           -0.47532118708214033,
           -0.6008694985661944,
           0.8251702181815526,
           0.6331471012252369,
           0.6592395972622421,
           -0.6932175935350285,
           0.2641848219546316
          ],
          [
           -0.0031959294911413317,
           0.06880989537690556,
           0.7505107012115811,
           -0.8658619837686877,
           -0.5977748934860107,
           0.35023087659710894,
           0.7711012501723188,
           1,
           0.5906455079919196,
           0.4344225335536591,
           0.6371467453804197,
           0.7897210867244974,
           0.7363573604450853,
           0.787362728966836,
           -0.11738803467648753,
           0.5270123542855742,
           0.07905406780294874,
           -0.5773408645919788,
           -0.16807821091133252,
           -0.16126726230072902,
           0.15531908837300223,
           -0.43680419689914773,
           -0.42757906990247735,
           0.8104230128725474,
           0.839753398154519,
           -0.5455438130230349,
           0.09086182922622439,
           0.2051168702090344,
           -0.21797953532944722,
           -0.3955417684843281,
           0.7758509100841962,
           0.6099191436685076,
           0.7955267887565792,
           -0.733689334649832,
           0.3544227478718753
          ],
          [
           0.0008687254695364167,
           0.5232770863525938,
           0.9524709260931694,
           -0.5584703804970694,
           -0.5450523199012314,
           0.2715151637519603,
           0.6784306695233389,
           0.5906455079919196,
           1,
           0.2503000397082987,
           0.4822021945054177,
           0.6652235372253661,
           0.6478317195194405,
           0.6613241093164872,
           0.004630060710367031,
           0.12991799563224302,
           0.683116754950298,
           -0.29144219930434584,
           -0.10567585859972706,
           0.012109584955559416,
           0.8255468423420367,
           0.12691714529162115,
           -0.844673590650623,
           0.7591564382722608,
           0.8442033854271266,
           -0.16340513280471386,
           0.4592007771287656,
           0.6820665839740238,
           -0.08018685498152435,
           -0.3811253183701263,
           0.4737514280671331,
           0.26562980456850027,
           0.7884163717337571,
           -0.7848712432750498,
           0.09547204916309639
          ],
          [
           0.009553603599492682,
           -0.25918361829149483,
           0.39539979496198974,
           -0.6020864852349573,
           -0.8749426072423778,
           -0.1933068998114143,
           0.805866864060186,
           0.4344225335536591,
           0.2503000397082987,
           1,
           0.7574172003080876,
           0.5990878410448026,
           0.8360022967378344,
           0.7592808870438743,
           -0.42318489181181973,
           0.17945849055125992,
           -0.13477986994489277,
           -0.5833664589744193,
           -0.45092174300308546,
           0.5065050229657231,
           0.0592487668549747,
           -0.7386487164896749,
           -0.27506215551371377,
           0.6817182288026161,
           0.3573366715058245,
           -0.3000908167812356,
           -0.12713292799832443,
           -0.08799132320643896,
           -0.6471073113418379,
           -0.4274819259471091,
           0.568783423767446,
           0.6445021852702254,
           0.2055879581886047,
           -0.3574121236292349,
           0.18771823828798423
          ],
          [
           0.02874294463436943,
           0.23681303198124987,
           0.576604329063267,
           -0.8439375523155169,
           -0.664149923168455,
           -0.28275706936932204,
           0.8841395494791038,
           0.6371467453804197,
           0.4822021945054177,
           0.7574172003080876,
           1,
           0.7351074820632367,
           0.8606076262336754,
           0.9093228926839005,
           0.09247572161252547,
           0.33844754681739564,
           0.251317794323949,
           -0.3051831443295362,
           0.039437370773631374,
           0.2975185348625354,
           0.2982820997441649,
           -0.4279459168898571,
           -0.2004242083572278,
           0.7739435290141377,
           0.6532315386492533,
           -0.7184230578159041,
           0.3729611140778696,
           0.35413621360877146,
           -0.476107447609043,
           -0.7841819304181034,
           0.7942925430572189,
           0.37206940232378066,
           0.3901255306638465,
           -0.382630897841617,
           0.15381068312508955
          ],
          [
           -0.0007648605255989238,
           0.017442861467735375,
           0.7857877972759709,
           -0.8221879521596062,
           -0.8022481780377089,
           0.16456609385211132,
           0.870264620488576,
           0.7897210867244974,
           0.6652235372253661,
           0.5990878410448026,
           0.7351074820632367,
           1,
           0.8976300481847638,
           0.8615158869163201,
           -0.25868208767529033,
           0.7202024865973427,
           0.09922842977645185,
           -0.6754105545296719,
           -0.32994210180420025,
           0.2779337072574925,
           0.2549455676699046,
           -0.5283054338868931,
           -0.5496562557900387,
           0.8899616113691261,
           0.8430164461023757,
           -0.45030803334194774,
           0.10408572421659343,
           0.14533530979459205,
           -0.6255879991406758,
           -0.367171348220231,
           0.7754029754287759,
           0.6659049825123176,
           0.7518547976870381,
           -0.803455490482055,
           -0.012251479275578257
          ],
          [
           -0.0007266384197496221,
           0.022996336129857613,
           0.7748986165736139,
           -0.8479444528016847,
           -0.9134958539444826,
           0.026428372673202815,
           0.9752642403219932,
           0.7363573604450853,
           0.6478317195194405,
           0.8360022967378344,
           0.8606076262336754,
           0.8976300481847638,
           1,
           0.9527126583800192,
           -0.27880244278110045,
           0.43958798273659494,
           0.1397842875088227,
           -0.645943231343924,
           -0.34949214485182023,
           0.3375629529214475,
           0.3215908640809411,
           -0.5859790430196373,
           -0.540432635223315,
           0.9334533262451652,
           0.7760252336197897,
           -0.4617935530269197,
           0.11768043560685171,
           0.2041442340407824,
           -0.5927139561647483,
           -0.5268880812063552,
           0.7852052991296898,
           0.6778280654467228,
           0.628250978394744,
           -0.7066136306203089,
           0.16714683940811056
          ],
          [
           0.006619517808716924,
           0.19866985155808942,
           0.779900654156422,
           -0.9248135170792143,
           -0.7907585999792127,
           -0.03284028526395071,
           0.9737285063063493,
           0.787362728966836,
           0.6613241093164872,
           0.7592808870438743,
           0.9093228926839005,
           0.8615158869163201,
           0.9527126583800192,
           1,
           -0.053914504709636886,
           0.40532698752055835,
           0.25747595063441947,
           -0.49378183045538787,
           -0.12383781732699388,
           0.20409548745665754,
           0.36440947913349164,
           -0.47157399899907587,
           -0.4350112740520902,
           0.9263078807194107,
           0.8243701157578015,
           -0.641456351491313,
           0.29276092092397454,
           0.3609772261382122,
           -0.4538264456937305,
           -0.6922514270560727,
           0.8680210689547828,
           0.5453154534950615,
           0.6313133093743009,
           -0.6327858594542716,
           0.24069588429492889
          ],
          [
           -0.0023853469751429542,
           0.824293671828329,
           -0.14422188064318675,
           -0.02685051613915059,
           0.6154166231390831,
           -0.5232628835988843,
           -0.18750921246178964,
           -0.11738803467648753,
           0.004630060710367031,
           -0.42318489181181973,
           0.09247572161252547,
           -0.25868208767529033,
           -0.27880244278110045,
           -0.053914504709636886,
           1,
           -0.19024663060799785,
           0.6196167126024988,
           0.839634841410702,
           0.9917165607045376,
           -0.22319420392305073,
           0.31397500726130284,
           0.6776514893978678,
           0.4715761150912563,
           -0.2357933094298936,
           -0.006990054963799852,
           -0.5573223055773853,
           0.8473343174057021,
           0.6864118128649865,
           0.41736350668179245,
           -0.6084590693208085,
           0.07065098035020609,
           -0.8024844155099872,
           -0.2448633460980592,
           0.48929995268248366,
           -0.09633821152468429
          ],
          [
           -0.0006869228230412402,
           -0.24286231908554282,
           0.2621368328424148,
           -0.49106492267125174,
           -0.3548984264169084,
           0.12761852023746348,
           0.3728833099616916,
           0.5270123542855742,
           0.12991799563224302,
           0.17945849055125992,
           0.33844754681739564,
           0.7202024865973427,
           0.43958798273659494,
           0.40532698752055835,
           -0.19024663060799785,
           1,
           -0.30385519474573575,
           -0.5140089786262031,
           -0.20368553860926109,
           0.22356997258574918,
           -0.26862351757536723,
           -0.5118539054434019,
           -0.06302739216678444,
           0.41731292833542966,
           0.45594710998858917,
           -0.38704914703359006,
           -0.12139050335557726,
           -0.2748183979951283,
           -0.6354653914343199,
           -0.011411139458516274,
           0.5082965966943341,
           0.47520744704351187,
           0.4364774840246022,
           -0.45960970424503855,
           -0.3095758385102545
          ],
          [
           -0.0019446381166316167,
           0.9503955372606219,
           0.4684333842090926,
           -0.1330009459827057,
           0.07098323183175541,
           -0.2724241694307078,
           0.20630998305586037,
           0.07905406780294874,
           0.683116754950298,
           -0.13477986994489277,
           0.251317794323949,
           0.09922842977645185,
           0.1397842875088227,
           0.25747595063441947,
           0.6196167126024988,
           -0.30385519474573575,
           1,
           0.48898796115381027,
           0.5324893136285983,
           0.025777324369023153,
           0.9375209494094658,
           0.7092899755378397,
           -0.3480647200653076,
           0.21628233661501417,
           0.3840968764647909,
           -0.20496778682387895,
           0.8981571715773363,
           0.970455030445394,
           0.23697090293860967,
           -0.5683403642403153,
           0.10326011705253842,
           -0.5003552877233955,
           0.18736828674914655,
           -0.09477978586647186,
           -0.13505753653782682
          ],
          [
           0.003940124919250066,
           0.6365992561386641,
           -0.5136376557364085,
           0.4929356074392731,
           0.8155370739507225,
           -0.5928340976765951,
           -0.5882175168555894,
           -0.5773408645919788,
           -0.29144219930434584,
           -0.5833664589744193,
           -0.3051831443295362,
           -0.6754105545296719,
           -0.645943231343924,
           -0.49378183045538787,
           0.839634841410702,
           -0.5140089786262031,
           0.48898796115381027,
           1,
           0.8584113819327989,
           -0.09053576097245286,
           0.21847594456665623,
           0.8224754862144471,
           0.5588811721675715,
           -0.6429399063005234,
           -0.47888644323952356,
           -0.08031614044210779,
           0.6260987784371198,
           0.4622137918771954,
           0.4855957028689224,
           -0.24504047596419323,
           -0.42663243769939724,
           -0.9874566357705253,
           -0.638197844315736,
           0.7866294645264814,
           -0.26497703213473656
          ],
          [
           0.004508211348178265,
           0.7570387754211868,
           -0.24244273000142935,
           0.021491721220556075,
           0.6733338065335278,
           -0.5303690088723473,
           -0.25747344795497834,
           -0.16807821091133252,
           -0.10567585859972706,
           -0.45092174300308546,
           0.039437370773631374,
           -0.32994210180420025,
           -0.34949214485182023,
           -0.12383781732699388,
           0.9917165607045376,
           -0.20368553860926109,
           0.5324893136285983,
           0.8584113819327989,
           1,
           -0.2503171388398256,
           0.21074380089971292,
           0.6528140787260968,
           0.5627836597797706,
           -0.31178359367419073,
           -0.0923827096525556,
           -0.5452827912104883,
           0.7840127813196672,
           0.605043109179479,
           0.4412457122042686,
           -0.563625734886131,
           0.029043088594625465,
           -0.8166766414139388,
           -0.3161890234227913,
           0.5659663465784321,
           -0.08056849931083582
          ],
          [
           -0.008828899050133874,
           -0.09993124310170468,
           -0.06589678295559466,
           0.08285488367600827,
           -0.4266399602005567,
           -0.6198918193551989,
           0.22399612197750682,
           -0.16126726230072902,
           0.012109584955559416,
           0.5065050229657231,
           0.2975185348625354,
           0.2779337072574925,
           0.3375629529214475,
           0.20409548745665754,
           -0.22319420392305073,
           0.22356997258574918,
           0.025777324369023153,
           -0.09053576097245286,
           -0.2503171388398256,
           1,
           0.1659687591276987,
           -0.23597724455736757,
           -0.08067150271580951,
           0.12011213398304164,
           -0.12490242993896765,
           0.0963256934122899,
           0.06568622818301943,
           -0.1154561899172078,
           -0.852992095751186,
           -0.11534199221406513,
           -0.03777476202912113,
           0.051109213652959694,
           -0.316804449661375,
           0.06462518780863571,
           -0.7054305610891104
          ],
          [
           0.00025162012228931293,
           0.7890016331274398,
           0.632854149779543,
           -0.16976627435571282,
           -0.20865166978994995,
           -0.13521675365428862,
           0.35815631328111847,
           0.15531908837300223,
           0.8255468423420367,
           0.0592487668549747,
           0.2982820997441649,
           0.2549455676699046,
           0.3215908640809411,
           0.36440947913349164,
           0.31397500726130284,
           -0.26862351757536723,
           0.9375209494094658,
           0.21847594456665623,
           0.21074380089971292,
           0.1659687591276987,
           1,
           0.5388809299295142,
           -0.62013312228728,
           0.3863550371275185,
           0.47355311795564387,
           -0.028784784625799045,
           0.7265385886043806,
           0.8746133755280613,
           0.06638337643980774,
           -0.4509708908583775,
           0.11805450833804032,
           -0.24622347595944663,
           0.32606813565563075,
           -0.3259381590986094,
           -0.1342718565647679
          ],
          [
           -0.0071838268678206295,
           0.7483869471926375,
           -0.1373040428868155,
           0.4931983530002997,
           0.7015652308670444,
           -0.18218001460641622,
           -0.5286946174892918,
           -0.43680419689914773,
           0.12691714529162115,
           -0.7386487164896749,
           -0.4279459168898571,
           -0.5283054338868931,
           -0.5859790430196373,
           -0.47157399899907587,
           0.6776514893978678,
           -0.5118539054434019,
           0.7092899755378397,
           0.8224754862144471,
           0.6528140787260968,
           -0.23597724455736757,
           0.5388809299295142,
           1,
           0.05788100019816184,
           -0.4725064197660225,
           -0.20594092576453743,
           0.1855749142491602,
           0.630087745730053,
           0.6354021000543777,
           0.610167948584837,
           -0.04382710941989957,
           -0.4771038554075074,
           -0.8632078247211531,
           -0.24187609156985732,
           0.37096336437367805,
           -0.2441225231139073
          ],
          [
           0.0048857655710411365,
           -0.0902007901170882,
           -0.8303615984174235,
           0.2873066606977269,
           0.6522183859629412,
           -0.5211874388378981,
           -0.5212606485511121,
           -0.42757906990247735,
           -0.844673590650623,
           -0.27506215551371377,
           -0.2004242083572278,
           -0.5496562557900387,
           -0.540432635223315,
           -0.4350112740520902,
           0.4715761150912563,
           -0.06302739216678444,
           -0.3480647200653076,
           0.5588811721675715,
           0.5627836597797706,
           -0.08067150271580951,
           -0.62013312228728,
           0.05788100019816184,
           1,
           -0.6381358526526874,
           -0.626240540764792,
           -0.3021185071959448,
           0.015019826864301969,
           -0.2824066331309526,
           0.1542986507777047,
           -0.08491215034543705,
           -0.19696326059835387,
           -0.5017823690915074,
           -0.7312721328602122,
           0.8557024366980672,
           -0.08602528440225983
          ],
          [
           0.002369088358674003,
           0.10631159144612652,
           0.884454775389333,
           -0.8685231078701064,
           -0.8406280616457986,
           0.22156433398772782,
           0.94478070782405,
           0.8104230128725474,
           0.7591564382722608,
           0.6817182288026161,
           0.7739435290141377,
           0.8899616113691261,
           0.9334533262451652,
           0.9263078807194107,
           -0.2357933094298936,
           0.41731292833542966,
           0.21628233661501417,
           -0.6429399063005234,
           -0.31178359367419073,
           0.12011213398304164,
           0.3863550371275185,
           -0.4725064197660225,
           -0.6381358526526874,
           1,
           0.8738924635847265,
           -0.44177042365677105,
           0.14713118907107078,
           0.29676846004934976,
           -0.405639339239867,
           -0.48381948710008604,
           0.8122942714915478,
           0.6661118447375745,
           0.7860039303298486,
           -0.8133648678289286,
           0.2780862361832132
          ],
          [
           0.005191895816925058,
           0.32627603568419306,
           0.9274629989450054,
           -0.8505750898504322,
           -0.6008325109658388,
           0.33934687222217863,
           0.8150475646286542,
           0.839753398154519,
           0.8442033854271266,
           0.3573366715058245,
           0.6532315386492533,
           0.8430164461023757,
           0.7760252336197897,
           0.8243701157578015,
           -0.006990054963799852,
           0.45594710998858917,
           0.3840968764647909,
           -0.47888644323952356,
           -0.0923827096525556,
           -0.12490242993896765,
           0.47355311795564387,
           -0.20594092576453743,
           -0.626240540764792,
           0.8738924635847265,
           1,
           -0.4957196479953955,
           0.32033042920908755,
           0.47471920786058674,
           -0.17095380706598393,
           -0.46830821127170813,
           0.7658900818660742,
           0.486088497136689,
           0.8991085453508718,
           -0.8323365963343524,
           0.2641205595175366
          ],
          [
           -0.0010194886286402035,
           -0.39373906790237095,
           -0.2595106884991293,
           0.7677663503012141,
           0.11396066968556413,
           0.33918255818262993,
           -0.5333445084222415,
           -0.5455438130230349,
           -0.16340513280471386,
           -0.3000908167812356,
           -0.7184230578159041,
           -0.45030803334194774,
           -0.4617935530269197,
           -0.641456351491313,
           -0.5573223055773853,
           -0.38704914703359006,
           -0.20496778682387895,
           -0.08031614044210779,
           -0.5452827912104883,
           0.0963256934122899,
           -0.028784784625799045,
           0.1855749142491602,
           -0.3021185071959448,
           -0.44177042365677105,
           -0.4957196479953955,
           1,
           -0.5268008387202011,
           -0.3845022459511161,
           0.11548911650816267,
           0.8363152377715891,
           -0.7766005021313621,
           -0.005387274285291482,
           -0.22755823129546815,
           0.03139239753133018,
           -0.20847931890247667
          ],
          [
           0.0019332585282511273,
           0.9681903496299995,
           0.2753151965129446,
           -0.23089799145819073,
           0.20032056959120373,
           -0.5276273652106892,
           0.18855452792169394,
           0.09086182922622439,
           0.4592007771287656,
           -0.12713292799832443,
           0.3729611140778696,
           0.10408572421659343,
           0.11768043560685171,
           0.29276092092397454,
           0.8473343174057021,
           -0.12139050335557726,
           0.8981571715773363,
           0.6260987784371198,
           0.7840127813196672,
           0.06568622818301943,
           0.7265385886043806,
           0.630087745730053,
           0.015019826864301969,
           0.14713118907107078,
           0.32033042920908755,
           -0.5268008387202011,
           1,
           0.9174264948547696,
           0.1436012050489413,
           -0.7595197922244273,
           0.23852604650680484,
           -0.6114811987974964,
           0.025614631785447955,
           0.12671359351283693,
           -0.20959470742749872
          ],
          [
           -0.000043797579519376444,
           0.9645665114635016,
           0.5150077476752615,
           -0.2944322126245224,
           0.06095447875441453,
           -0.23619825092891622,
           0.29510277666268636,
           0.2051168702090344,
           0.6820665839740238,
           -0.08799132320643896,
           0.35413621360877146,
           0.14533530979459205,
           0.2041442340407824,
           0.3609772261382122,
           0.6864118128649865,
           -0.2748183979951283,
           0.970455030445394,
           0.4622137918771954,
           0.605043109179479,
           -0.1154561899172078,
           0.8746133755280613,
           0.6354021000543777,
           -0.2824066331309526,
           0.29676846004934976,
           0.47471920786058674,
           -0.3845022459511161,
           0.9174264948547696,
           1,
           0.30872996748763815,
           -0.6887298150140405,
           0.2575687300502266,
           -0.4464171273062504,
           0.2646753709127719,
           -0.1153855041996564,
           0.040468954469443645
          ],
          [
           -0.004767856119457291,
           0.3301333990813741,
           -0.1386117233137032,
           0.27276623580780157,
           0.656952189486609,
           0.3325970074243039,
           -0.47532118708214033,
           -0.21797953532944722,
           -0.08018685498152435,
           -0.6471073113418379,
           -0.476107447609043,
           -0.6255879991406758,
           -0.5927139561647483,
           -0.4538264456937305,
           0.41736350668179245,
           -0.6354653914343199,
           0.23697090293860967,
           0.4855957028689224,
           0.4412457122042686,
           -0.852992095751186,
           0.06638337643980774,
           0.610167948584837,
           0.1542986507777047,
           -0.405639339239867,
           -0.17095380706598393,
           0.11548911650816267,
           0.1436012050489413,
           0.30872996748763815,
           1,
           0.09596717397434916,
           -0.3023072680264503,
           -0.45321054686592604,
           -0.03266148131883376,
           0.2603914914420295,
           0.5326648247008189
          ],
          [
           -0.0024578054571572677,
           -0.6487993911772383,
           -0.36899683110751774,
           0.6542760592880132,
           0.21013067658176765,
           0.540875262051186,
           -0.6008694985661944,
           -0.3955417684843281,
           -0.3811253183701263,
           -0.4274819259471091,
           -0.7841819304181034,
           -0.367171348220231,
           -0.5268880812063552,
           -0.6922514270560727,
           -0.6084590693208085,
           -0.011411139458516274,
           -0.5683403642403153,
           -0.24504047596419323,
           -0.563625734886131,
           -0.11534199221406513,
           -0.4509708908583775,
           -0.04382710941989957,
           -0.08491215034543705,
           -0.48381948710008604,
           -0.46830821127170813,
           0.8363152377715891,
           -0.7595197922244273,
           -0.6887298150140405,
           0.09596717397434916,
           1,
           -0.6458757125551047,
           0.16125231271285648,
           -0.12374004504164435,
           -0.008409236563300327,
           -0.15019529594789066
          ],
          [
           0.03719289422328064,
           0.14648322160009922,
           0.637078579697054,
           -0.9373891939056505,
           -0.5711822362260123,
           0.04467441114108805,
           0.8251702181815526,
           0.7758509100841962,
           0.4737514280671331,
           0.568783423767446,
           0.7942925430572189,
           0.7754029754287759,
           0.7852052991296898,
           0.8680210689547828,
           0.07065098035020609,
           0.5082965966943341,
           0.10326011705253842,
           -0.42663243769939724,
           0.029043088594625465,
           -0.03777476202912113,
           0.11805450833804032,
           -0.4771038554075074,
           -0.19696326059835387,
           0.8122942714915478,
           0.7658900818660742,
           -0.7766005021313621,
           0.23852604650680484,
           0.2575687300502266,
           -0.3023072680264503,
           -0.6458757125551047,
           1,
           0.49115962143936637,
           0.617037742305048,
           -0.5276203936267477,
           0.33696921474892155
          ],
          [
           -0.00022778253969947657,
           -0.6306245259724018,
           0.5077422500060141,
           -0.5575421502493401,
           -0.8251127401915166,
           0.5608161518660867,
           0.6331471012252369,
           0.6099191436685076,
           0.26562980456850027,
           0.6445021852702254,
           0.37206940232378066,
           0.6659049825123176,
           0.6778280654467228,
           0.5453154534950615,
           -0.8024844155099872,
           0.47520744704351187,
           -0.5003552877233955,
           -0.9874566357705253,
           -0.8166766414139388,
           0.051109213652959694,
           -0.24622347595944663,
           -0.8632078247211531,
           -0.5017823690915074,
           0.6661118447375745,
           0.486088497136689,
           -0.005387274285291482,
           -0.6114811987974964,
           -0.4464171273062504,
           -0.45321054686592604,
           0.16125231271285648,
           0.49115962143936637,
           1,
           0.6245780137450351,
           -0.7525004545804233,
           0.36079331639520357
          ],
          [
           -0.007828880432646746,
           0.1005510363357915,
           0.9044648185370723,
           -0.7083969013760743,
           -0.5592179091205302,
           0.6781130640656879,
           0.6592395972622421,
           0.7955267887565792,
           0.7884163717337571,
           0.2055879581886047,
           0.3901255306638465,
           0.7518547976870381,
           0.628250978394744,
           0.6313133093743009,
           -0.2448633460980592,
           0.4364774840246022,
           0.18736828674914655,
           -0.638197844315736,
           -0.3161890234227913,
           -0.316804449661375,
           0.32606813565563075,
           -0.24187609156985732,
           -0.7312721328602122,
           0.7860039303298486,
           0.8991085453508718,
           -0.22755823129546815,
           0.025614631785447955,
           0.2646753709127719,
           -0.03266148131883376,
           -0.12374004504164435,
           0.617037742305048,
           0.6245780137450351,
           1,
           -0.9404723815499225,
           0.37468130332174476
          ],
          [
           -0.0014040670895980759,
           0.06987065232597822,
           -0.8955149269207419,
           0.6182258199691213,
           0.7372118997125433,
           -0.6517874059735633,
           -0.6932175935350285,
           -0.733689334649832,
           -0.7848712432750498,
           -0.3574121236292349,
           -0.382630897841617,
           -0.803455490482055,
           -0.7066136306203089,
           -0.6327858594542716,
           0.48929995268248366,
           -0.45960970424503855,
           -0.09477978586647186,
           0.7866294645264814,
           0.5659663465784321,
           0.06462518780863571,
           -0.3259381590986094,
           0.37096336437367805,
           0.8557024366980672,
           -0.8133648678289286,
           -0.8323365963343524,
           0.03139239753133018,
           0.12671359351283693,
           -0.1153855041996564,
           0.2603914914420295,
           -0.008409236563300327,
           -0.5276203936267477,
           -0.7525004545804233,
           -0.9404723815499225,
           1,
           -0.22637350436947748
          ],
          [
           -0.002341111162047963,
           -0.1118774856514744,
           0.2701930417666829,
           -0.40754118006598977,
           -0.13868747622659716,
           0.4984812567158592,
           0.2641848219546316,
           0.3544227478718753,
           0.09547204916309639,
           0.18771823828798423,
           0.15381068312508955,
           -0.012251479275578257,
           0.16714683940811056,
           0.24069588429492889,
           -0.09633821152468429,
           -0.3095758385102545,
           -0.13505753653782682,
           -0.26497703213473656,
           -0.08056849931083582,
           -0.7054305610891104,
           -0.1342718565647679,
           -0.2441225231139073,
           -0.08602528440225983,
           0.2780862361832132,
           0.2641205595175366,
           -0.20847931890247667,
           -0.20959470742749872,
           0.040468954469443645,
           0.5326648247008189,
           -0.15019529594789066,
           0.33696921474892155,
           0.36079331639520357,
           0.37468130332174476,
           -0.22637350436947748,
           1
          ]
         ]
        }
       ],
       "layout": {
        "coloraxis": {
         "cmax": 1,
         "cmin": -1,
         "colorbar": {
          "ticktext": [
           "-1",
           "-0.5",
           "0",
           "0.5",
           "1"
          ],
          "tickvals": [
           -1,
           -0.5,
           0,
           0.5,
           1
          ],
          "title": {
           "text": "Correlation"
          }
         },
         "colorscale": [
          [
           0,
           "rgb(103,0,31)"
          ],
          [
           0.1,
           "rgb(178,24,43)"
          ],
          [
           0.2,
           "rgb(214,96,77)"
          ],
          [
           0.3,
           "rgb(244,165,130)"
          ],
          [
           0.4,
           "rgb(253,219,199)"
          ],
          [
           0.5,
           "rgb(247,247,247)"
          ],
          [
           0.6,
           "rgb(209,229,240)"
          ],
          [
           0.7,
           "rgb(146,197,222)"
          ],
          [
           0.8,
           "rgb(67,147,195)"
          ],
          [
           0.9,
           "rgb(33,102,172)"
          ],
          [
           1,
           "rgb(5,48,97)"
          ]
         ]
        },
        "height": 800,
        "margin": {
         "b": 40,
         "l": 40,
         "r": 40,
         "t": 40
        },
        "template": {
         "data": {
          "bar": [
           {
            "error_x": {
             "color": "#2a3f5f"
            },
            "error_y": {
             "color": "#2a3f5f"
            },
            "marker": {
             "line": {
              "color": "#E5ECF6",
              "width": 0.5
             },
             "pattern": {
              "fillmode": "overlay",
              "size": 10,
              "solidity": 0.2
             }
            },
            "type": "bar"
           }
          ],
          "barpolar": [
           {
            "marker": {
             "line": {
              "color": "#E5ECF6",
              "width": 0.5
             },
             "pattern": {
              "fillmode": "overlay",
              "size": 10,
              "solidity": 0.2
             }
            },
            "type": "barpolar"
           }
          ],
          "carpet": [
           {
            "aaxis": {
             "endlinecolor": "#2a3f5f",
             "gridcolor": "white",
             "linecolor": "white",
             "minorgridcolor": "white",
             "startlinecolor": "#2a3f5f"
            },
            "baxis": {
             "endlinecolor": "#2a3f5f",
             "gridcolor": "white",
             "linecolor": "white",
             "minorgridcolor": "white",
             "startlinecolor": "#2a3f5f"
            },
            "type": "carpet"
           }
          ],
          "choropleth": [
           {
            "colorbar": {
             "outlinewidth": 0,
             "ticks": ""
            },
            "type": "choropleth"
           }
          ],
          "contour": [
           {
            "colorbar": {
             "outlinewidth": 0,
             "ticks": ""
            },
            "colorscale": [
             [
              0,
              "#0d0887"
             ],
             [
              0.1111111111111111,
              "#46039f"
             ],
             [
              0.2222222222222222,
              "#7201a8"
             ],
             [
              0.3333333333333333,
              "#9c179e"
             ],
             [
              0.4444444444444444,
              "#bd3786"
             ],
             [
              0.5555555555555556,
              "#d8576b"
             ],
             [
              0.6666666666666666,
              "#ed7953"
             ],
             [
              0.7777777777777778,
              "#fb9f3a"
             ],
             [
              0.8888888888888888,
              "#fdca26"
             ],
             [
              1,
              "#f0f921"
             ]
            ],
            "type": "contour"
           }
          ],
          "contourcarpet": [
           {
            "colorbar": {
             "outlinewidth": 0,
             "ticks": ""
            },
            "type": "contourcarpet"
           }
          ],
          "heatmap": [
           {
            "colorbar": {
             "outlinewidth": 0,
             "ticks": ""
            },
            "colorscale": [
             [
              0,
              "#0d0887"
             ],
             [
              0.1111111111111111,
              "#46039f"
             ],
             [
              0.2222222222222222,
              "#7201a8"
             ],
             [
              0.3333333333333333,
              "#9c179e"
             ],
             [
              0.4444444444444444,
              "#bd3786"
             ],
             [
              0.5555555555555556,
              "#d8576b"
             ],
             [
              0.6666666666666666,
              "#ed7953"
             ],
             [
              0.7777777777777778,
              "#fb9f3a"
             ],
             [
              0.8888888888888888,
              "#fdca26"
             ],
             [
              1,
              "#f0f921"
             ]
            ],
            "type": "heatmap"
           }
          ],
          "heatmapgl": [
           {
            "colorbar": {
             "outlinewidth": 0,
             "ticks": ""
            },
            "colorscale": [
             [
              0,
              "#0d0887"
             ],
             [
              0.1111111111111111,
              "#46039f"
             ],
             [
              0.2222222222222222,
              "#7201a8"
             ],
             [
              0.3333333333333333,
              "#9c179e"
             ],
             [
              0.4444444444444444,
              "#bd3786"
             ],
             [
              0.5555555555555556,
              "#d8576b"
             ],
             [
              0.6666666666666666,
              "#ed7953"
             ],
             [
              0.7777777777777778,
              "#fb9f3a"
             ],
             [
              0.8888888888888888,
              "#fdca26"
             ],
             [
              1,
              "#f0f921"
             ]
            ],
            "type": "heatmapgl"
           }
          ],
          "histogram": [
           {
            "marker": {
             "pattern": {
              "fillmode": "overlay",
              "size": 10,
              "solidity": 0.2
             }
            },
            "type": "histogram"
           }
          ],
          "histogram2d": [
           {
            "colorbar": {
             "outlinewidth": 0,
             "ticks": ""
            },
            "colorscale": [
             [
              0,
              "#0d0887"
             ],
             [
              0.1111111111111111,
              "#46039f"
             ],
             [
              0.2222222222222222,
              "#7201a8"
             ],
             [
              0.3333333333333333,
              "#9c179e"
             ],
             [
              0.4444444444444444,
              "#bd3786"
             ],
             [
              0.5555555555555556,
              "#d8576b"
             ],
             [
              0.6666666666666666,
              "#ed7953"
             ],
             [
              0.7777777777777778,
              "#fb9f3a"
             ],
             [
              0.8888888888888888,
              "#fdca26"
             ],
             [
              1,
              "#f0f921"
             ]
            ],
            "type": "histogram2d"
           }
          ],
          "histogram2dcontour": [
           {
            "colorbar": {
             "outlinewidth": 0,
             "ticks": ""
            },
            "colorscale": [
             [
              0,
              "#0d0887"
             ],
             [
              0.1111111111111111,
              "#46039f"
             ],
             [
              0.2222222222222222,
              "#7201a8"
             ],
             [
              0.3333333333333333,
              "#9c179e"
             ],
             [
              0.4444444444444444,
              "#bd3786"
             ],
             [
              0.5555555555555556,
              "#d8576b"
             ],
             [
              0.6666666666666666,
              "#ed7953"
             ],
             [
              0.7777777777777778,
              "#fb9f3a"
             ],
             [
              0.8888888888888888,
              "#fdca26"
             ],
             [
              1,
              "#f0f921"
             ]
            ],
            "type": "histogram2dcontour"
           }
          ],
          "mesh3d": [
           {
            "colorbar": {
             "outlinewidth": 0,
             "ticks": ""
            },
            "type": "mesh3d"
           }
          ],
          "parcoords": [
           {
            "line": {
             "colorbar": {
              "outlinewidth": 0,
              "ticks": ""
             }
            },
            "type": "parcoords"
           }
          ],
          "pie": [
           {
            "automargin": true,
            "type": "pie"
           }
          ],
          "scatter": [
           {
            "fillpattern": {
             "fillmode": "overlay",
             "size": 10,
             "solidity": 0.2
            },
            "type": "scatter"
           }
          ],
          "scatter3d": [
           {
            "line": {
             "colorbar": {
              "outlinewidth": 0,
              "ticks": ""
             }
            },
            "marker": {
             "colorbar": {
              "outlinewidth": 0,
              "ticks": ""
             }
            },
            "type": "scatter3d"
           }
          ],
          "scattercarpet": [
           {
            "marker": {
             "colorbar": {
              "outlinewidth": 0,
              "ticks": ""
             }
            },
            "type": "scattercarpet"
           }
          ],
          "scattergeo": [
           {
            "marker": {
             "colorbar": {
              "outlinewidth": 0,
              "ticks": ""
             }
            },
            "type": "scattergeo"
           }
          ],
          "scattergl": [
           {
            "marker": {
             "colorbar": {
              "outlinewidth": 0,
              "ticks": ""
             }
            },
            "type": "scattergl"
           }
          ],
          "scattermapbox": [
           {
            "marker": {
             "colorbar": {
              "outlinewidth": 0,
              "ticks": ""
             }
            },
            "type": "scattermapbox"
           }
          ],
          "scatterpolar": [
           {
            "marker": {
             "colorbar": {
              "outlinewidth": 0,
              "ticks": ""
             }
            },
            "type": "scatterpolar"
           }
          ],
          "scatterpolargl": [
           {
            "marker": {
             "colorbar": {
              "outlinewidth": 0,
              "ticks": ""
             }
            },
            "type": "scatterpolargl"
           }
          ],
          "scatterternary": [
           {
            "marker": {
             "colorbar": {
              "outlinewidth": 0,
              "ticks": ""
             }
            },
            "type": "scatterternary"
           }
          ],
          "surface": [
           {
            "colorbar": {
             "outlinewidth": 0,
             "ticks": ""
            },
            "colorscale": [
             [
              0,
              "#0d0887"
             ],
             [
              0.1111111111111111,
              "#46039f"
             ],
             [
              0.2222222222222222,
              "#7201a8"
             ],
             [
              0.3333333333333333,
              "#9c179e"
             ],
             [
              0.4444444444444444,
              "#bd3786"
             ],
             [
              0.5555555555555556,
              "#d8576b"
             ],
             [
              0.6666666666666666,
              "#ed7953"
             ],
             [
              0.7777777777777778,
              "#fb9f3a"
             ],
             [
              0.8888888888888888,
              "#fdca26"
             ],
             [
              1,
              "#f0f921"
             ]
            ],
            "type": "surface"
           }
          ],
          "table": [
           {
            "cells": {
             "fill": {
              "color": "#EBF0F8"
             },
             "line": {
              "color": "white"
             }
            },
            "header": {
             "fill": {
              "color": "#C8D4E3"
             },
             "line": {
              "color": "white"
             }
            },
            "type": "table"
           }
          ]
         },
         "layout": {
          "annotationdefaults": {
           "arrowcolor": "#2a3f5f",
           "arrowhead": 0,
           "arrowwidth": 1
          },
          "autotypenumbers": "strict",
          "coloraxis": {
           "colorbar": {
            "outlinewidth": 0,
            "ticks": ""
           }
          },
          "colorscale": {
           "diverging": [
            [
             0,
             "#8e0152"
            ],
            [
             0.1,
             "#c51b7d"
            ],
            [
             0.2,
             "#de77ae"
            ],
            [
             0.3,
             "#f1b6da"
            ],
            [
             0.4,
             "#fde0ef"
            ],
            [
             0.5,
             "#f7f7f7"
            ],
            [
             0.6,
             "#e6f5d0"
            ],
            [
             0.7,
             "#b8e186"
            ],
            [
             0.8,
             "#7fbc41"
            ],
            [
             0.9,
             "#4d9221"
            ],
            [
             1,
             "#276419"
            ]
           ],
           "sequential": [
            [
             0,
             "#0d0887"
            ],
            [
             0.1111111111111111,
             "#46039f"
            ],
            [
             0.2222222222222222,
             "#7201a8"
            ],
            [
             0.3333333333333333,
             "#9c179e"
            ],
            [
             0.4444444444444444,
             "#bd3786"
            ],
            [
             0.5555555555555556,
             "#d8576b"
            ],
            [
             0.6666666666666666,
             "#ed7953"
            ],
            [
             0.7777777777777778,
             "#fb9f3a"
            ],
            [
             0.8888888888888888,
             "#fdca26"
            ],
            [
             1,
             "#f0f921"
            ]
           ],
           "sequentialminus": [
            [
             0,
             "#0d0887"
            ],
            [
             0.1111111111111111,
             "#46039f"
            ],
            [
             0.2222222222222222,
             "#7201a8"
            ],
            [
             0.3333333333333333,
             "#9c179e"
            ],
            [
             0.4444444444444444,
             "#bd3786"
            ],
            [
             0.5555555555555556,
             "#d8576b"
            ],
            [
             0.6666666666666666,
             "#ed7953"
            ],
            [
             0.7777777777777778,
             "#fb9f3a"
            ],
            [
             0.8888888888888888,
             "#fdca26"
            ],
            [
             1,
             "#f0f921"
            ]
           ]
          },
          "colorway": [
           "#636efa",
           "#EF553B",
           "#00cc96",
           "#ab63fa",
           "#FFA15A",
           "#19d3f3",
           "#FF6692",
           "#B6E880",
           "#FF97FF",
           "#FECB52"
          ],
          "font": {
           "color": "#2a3f5f"
          },
          "geo": {
           "bgcolor": "white",
           "lakecolor": "white",
           "landcolor": "#E5ECF6",
           "showlakes": true,
           "showland": true,
           "subunitcolor": "white"
          },
          "hoverlabel": {
           "align": "left"
          },
          "hovermode": "closest",
          "mapbox": {
           "style": "light"
          },
          "paper_bgcolor": "white",
          "plot_bgcolor": "#E5ECF6",
          "polar": {
           "angularaxis": {
            "gridcolor": "white",
            "linecolor": "white",
            "ticks": ""
           },
           "bgcolor": "#E5ECF6",
           "radialaxis": {
            "gridcolor": "white",
            "linecolor": "white",
            "ticks": ""
           }
          },
          "scene": {
           "xaxis": {
            "backgroundcolor": "#E5ECF6",
            "gridcolor": "white",
            "gridwidth": 2,
            "linecolor": "white",
            "showbackground": true,
            "ticks": "",
            "zerolinecolor": "white"
           },
           "yaxis": {
            "backgroundcolor": "#E5ECF6",
            "gridcolor": "white",
            "gridwidth": 2,
            "linecolor": "white",
            "showbackground": true,
            "ticks": "",
            "zerolinecolor": "white"
           },
           "zaxis": {
            "backgroundcolor": "#E5ECF6",
            "gridcolor": "white",
            "gridwidth": 2,
            "linecolor": "white",
            "showbackground": true,
            "ticks": "",
            "zerolinecolor": "white"
           }
          },
          "shapedefaults": {
           "line": {
            "color": "#2a3f5f"
           }
          },
          "ternary": {
           "aaxis": {
            "gridcolor": "white",
            "linecolor": "white",
            "ticks": ""
           },
           "baxis": {
            "gridcolor": "white",
            "linecolor": "white",
            "ticks": ""
           },
           "bgcolor": "#E5ECF6",
           "caxis": {
            "gridcolor": "white",
            "linecolor": "white",
            "ticks": ""
           }
          },
          "title": {
           "x": 0.05
          },
          "xaxis": {
           "automargin": true,
           "gridcolor": "white",
           "linecolor": "white",
           "ticks": "",
           "title": {
            "standoff": 15
           },
           "zerolinecolor": "white",
           "zerolinewidth": 2
          },
          "yaxis": {
           "automargin": true,
           "gridcolor": "white",
           "linecolor": "white",
           "ticks": "",
           "title": {
            "standoff": 15
           },
           "zerolinecolor": "white",
           "zerolinewidth": 2
          }
         }
        },
        "title": {
         "text": "Correlation Matrix"
        },
        "width": 800,
        "xaxis": {
         "anchor": "y",
         "domain": [
          0,
          1
         ],
         "side": "top",
         "tickangle": 90
        },
        "yaxis": {
         "anchor": "x",
         "autorange": "reversed",
         "domain": [
          0,
          1
         ]
        }
       }
      }
     },
     "metadata": {},
     "output_type": "display_data"
    }
   ],
   "source": [
    "# Assuming df is already defined\n",
    "numeric_df = df.select_dtypes(include=[float, int])\n",
    "correlation_matrix = numeric_df.corr()\n",
    "\n",
    "# Customize the figure\n",
    "fig = px.imshow(\n",
    "    correlation_matrix,\n",
    "    text_auto=\".2f\",  # Display values with two decimal places\n",
    "    aspect=\"auto\",\n",
    "    title='Correlation Matrix',\n",
    "    color_continuous_scale=px.colors.diverging.RdBu,\n",
    "    zmin=-1,\n",
    "    zmax=1\n",
    ")\n",
    "\n",
    "# Update layout for better appearance\n",
    "fig.update_layout(\n",
    "    width=800,\n",
    "    height=800,\n",
    "    margin=dict(l=40, r=40, t=40, b=40),\n",
    "    coloraxis_colorbar=dict(\n",
    "        title=\"Correlation\",\n",
    "        tickvals=[-1, -0.5, 0, 0.5, 1],\n",
    "        ticktext=[\"-1\", \"-0.5\", \"0\", \"0.5\", \"1\"]\n",
    "    )\n",
    ")\n",
    "\n",
    "# Update axes to have vertical labels\n",
    "fig.update_xaxes(tickangle=90, side=\"top\")\n",
    "fig.update_yaxes(autorange=\"reversed\")\n",
    "\n",
    "fig.show()\n"
   ]
  },
  {
   "cell_type": "markdown",
   "metadata": {},
   "source": [
    "## 2. Distribution of Life Expectancy in Years Across Different Countries (Violin Chart)"
   ]
  },
  {
   "cell_type": "code",
   "execution_count": 49,
   "metadata": {},
   "outputs": [
    {
     "data": {
      "application/vnd.plotly.v1+json": {
       "config": {
        "plotlyServerURL": "https://plot.ly"
       },
       "data": [
        {
         "alignmentgroup": "True",
         "box": {
          "visible": true
         },
         "hovertemplate": "Country=%{x}<br>Life Expectancy (Years)=%{y}<extra></extra>",
         "legendgroup": "",
         "marker": {
          "color": "#636efa"
         },
         "name": "",
         "offsetgroup": "",
         "orientation": "v",
         "points": "all",
         "scalegroup": "True",
         "showlegend": false,
         "type": "violin",
         "x": [
          "USA",
          "Russia",
          "Canada",
          "China",
          "India",
          "Australia",
          "USA",
          "Russia",
          "Canada",
          "China",
          "India",
          "Australia",
          "USA",
          "Russia",
          "Canada",
          "China",
          "India",
          "Australia",
          "USA",
          "Russia",
          "Canada",
          "China",
          "India",
          "Australia",
          "USA",
          "Russia",
          "Canada",
          "China",
          "India",
          "Australia",
          "USA",
          "Russia",
          "Canada",
          "China",
          "India",
          "Australia",
          "USA",
          "Russia",
          "Canada",
          "China",
          "India",
          "Australia",
          "USA",
          "Russia",
          "Canada",
          "China",
          "India",
          "Australia",
          "USA",
          "Russia",
          "Canada",
          "China",
          "India",
          "Australia",
          "USA",
          "Russia",
          "Canada",
          "China",
          "India",
          "Australia",
          "USA",
          "Russia",
          "Canada",
          "China",
          "India",
          "Australia",
          "USA",
          "Russia",
          "Canada",
          "China",
          "India",
          "Australia",
          "USA",
          "Russia",
          "Canada",
          "China",
          "India",
          "Australia",
          "USA",
          "Russia",
          "Canada",
          "China",
          "India",
          "Australia",
          "USA",
          "Russia",
          "Canada",
          "China",
          "India",
          "Australia",
          "USA",
          "Russia",
          "Canada",
          "China",
          "India",
          "Australia",
          "USA",
          "Russia",
          "Canada",
          "China",
          "India",
          "Australia",
          "USA",
          "Russia",
          "Canada",
          "China",
          "India",
          "Australia",
          "USA",
          "Russia",
          "Canada",
          "China",
          "India",
          "Australia",
          "USA",
          "Russia",
          "Canada",
          "China",
          "India",
          "Australia",
          "USA",
          "Russia",
          "Canada",
          "China",
          "India",
          "Australia",
          "USA",
          "Russia",
          "Canada",
          "China",
          "India",
          "Australia",
          "USA",
          "Russia",
          "Canada",
          "China",
          "India",
          "Australia",
          "USA",
          "Russia",
          "Canada",
          "China",
          "India",
          "Australia"
         ],
         "x0": " ",
         "xaxis": "x",
         "y": [
          78.39,
          69.91,
          84.6,
          76.09,
          68.78,
          80.9,
          77.52,
          69.99,
          79.58,
          79.46,
          71.27,
          85.57,
          81.63,
          76.16,
          85.18,
          75.09,
          68.29,
          82.4,
          78.39,
          74.78,
          85.51,
          73.4,
          66.42,
          80.4,
          81.79,
          76.23,
          84.93,
          73.94,
          68.98,
          82.23,
          82.18,
          73.25,
          85.67,
          78.92,
          67.94,
          80.31,
          81.55,
          70.86,
          83.7,
          78.39,
          68.78,
          82.07,
          77.68,
          74.49,
          78.68,
          79.69,
          71,
          84.98,
          76.81,
          74.85,
          78.27,
          73.48,
          69.4,
          82.98,
          76.49,
          74.05,
          81.97,
          77.16,
          68.5,
          81.32,
          82.66,
          69.91,
          84.85,
          79.31,
          66.14,
          81.06,
          81.71,
          76.08,
          78.76,
          72.87,
          66.62,
          87.15,
          80.6,
          75.29,
          85.18,
          79.84,
          71.14,
          82.23,
          76.57,
          71.37,
          79.75,
          76.47,
          70.79,
          83.65,
          76.57,
          73.62,
          85.35,
          80.46,
          68.91,
          86.07,
          79.18,
          72.75,
          82.55,
          78.46,
          69.96,
          81.73,
          75.38,
          73.76,
          78.93,
          76.7,
          70.51,
          82.57,
          79.73,
          74.12,
          82.46,
          75.63,
          72.59,
          82.65,
          76.57,
          71.8,
          82.05,
          77.77,
          70.58,
          85.99,
          78.55,
          70.28,
          85.43,
          74.17,
          69.96,
          86.74,
          81.24,
          72.38,
          81.48,
          79.23,
          71.27,
          80.9,
          82.11,
          75.87,
          79.42,
          72.87,
          69.54,
          86.57,
          76.73,
          71.87,
          85.26,
          75.93,
          66.97,
          81.23,
          80.68,
          73.47,
          79.17,
          73.1,
          70.09,
          83.4
         ],
         "y0": " ",
         "yaxis": "y"
        }
       ],
       "layout": {
        "legend": {
         "tracegroupgap": 0
        },
        "template": {
         "data": {
          "bar": [
           {
            "error_x": {
             "color": "#2a3f5f"
            },
            "error_y": {
             "color": "#2a3f5f"
            },
            "marker": {
             "line": {
              "color": "#E5ECF6",
              "width": 0.5
             },
             "pattern": {
              "fillmode": "overlay",
              "size": 10,
              "solidity": 0.2
             }
            },
            "type": "bar"
           }
          ],
          "barpolar": [
           {
            "marker": {
             "line": {
              "color": "#E5ECF6",
              "width": 0.5
             },
             "pattern": {
              "fillmode": "overlay",
              "size": 10,
              "solidity": 0.2
             }
            },
            "type": "barpolar"
           }
          ],
          "carpet": [
           {
            "aaxis": {
             "endlinecolor": "#2a3f5f",
             "gridcolor": "white",
             "linecolor": "white",
             "minorgridcolor": "white",
             "startlinecolor": "#2a3f5f"
            },
            "baxis": {
             "endlinecolor": "#2a3f5f",
             "gridcolor": "white",
             "linecolor": "white",
             "minorgridcolor": "white",
             "startlinecolor": "#2a3f5f"
            },
            "type": "carpet"
           }
          ],
          "choropleth": [
           {
            "colorbar": {
             "outlinewidth": 0,
             "ticks": ""
            },
            "type": "choropleth"
           }
          ],
          "contour": [
           {
            "colorbar": {
             "outlinewidth": 0,
             "ticks": ""
            },
            "colorscale": [
             [
              0,
              "#0d0887"
             ],
             [
              0.1111111111111111,
              "#46039f"
             ],
             [
              0.2222222222222222,
              "#7201a8"
             ],
             [
              0.3333333333333333,
              "#9c179e"
             ],
             [
              0.4444444444444444,
              "#bd3786"
             ],
             [
              0.5555555555555556,
              "#d8576b"
             ],
             [
              0.6666666666666666,
              "#ed7953"
             ],
             [
              0.7777777777777778,
              "#fb9f3a"
             ],
             [
              0.8888888888888888,
              "#fdca26"
             ],
             [
              1,
              "#f0f921"
             ]
            ],
            "type": "contour"
           }
          ],
          "contourcarpet": [
           {
            "colorbar": {
             "outlinewidth": 0,
             "ticks": ""
            },
            "type": "contourcarpet"
           }
          ],
          "heatmap": [
           {
            "colorbar": {
             "outlinewidth": 0,
             "ticks": ""
            },
            "colorscale": [
             [
              0,
              "#0d0887"
             ],
             [
              0.1111111111111111,
              "#46039f"
             ],
             [
              0.2222222222222222,
              "#7201a8"
             ],
             [
              0.3333333333333333,
              "#9c179e"
             ],
             [
              0.4444444444444444,
              "#bd3786"
             ],
             [
              0.5555555555555556,
              "#d8576b"
             ],
             [
              0.6666666666666666,
              "#ed7953"
             ],
             [
              0.7777777777777778,
              "#fb9f3a"
             ],
             [
              0.8888888888888888,
              "#fdca26"
             ],
             [
              1,
              "#f0f921"
             ]
            ],
            "type": "heatmap"
           }
          ],
          "heatmapgl": [
           {
            "colorbar": {
             "outlinewidth": 0,
             "ticks": ""
            },
            "colorscale": [
             [
              0,
              "#0d0887"
             ],
             [
              0.1111111111111111,
              "#46039f"
             ],
             [
              0.2222222222222222,
              "#7201a8"
             ],
             [
              0.3333333333333333,
              "#9c179e"
             ],
             [
              0.4444444444444444,
              "#bd3786"
             ],
             [
              0.5555555555555556,
              "#d8576b"
             ],
             [
              0.6666666666666666,
              "#ed7953"
             ],
             [
              0.7777777777777778,
              "#fb9f3a"
             ],
             [
              0.8888888888888888,
              "#fdca26"
             ],
             [
              1,
              "#f0f921"
             ]
            ],
            "type": "heatmapgl"
           }
          ],
          "histogram": [
           {
            "marker": {
             "pattern": {
              "fillmode": "overlay",
              "size": 10,
              "solidity": 0.2
             }
            },
            "type": "histogram"
           }
          ],
          "histogram2d": [
           {
            "colorbar": {
             "outlinewidth": 0,
             "ticks": ""
            },
            "colorscale": [
             [
              0,
              "#0d0887"
             ],
             [
              0.1111111111111111,
              "#46039f"
             ],
             [
              0.2222222222222222,
              "#7201a8"
             ],
             [
              0.3333333333333333,
              "#9c179e"
             ],
             [
              0.4444444444444444,
              "#bd3786"
             ],
             [
              0.5555555555555556,
              "#d8576b"
             ],
             [
              0.6666666666666666,
              "#ed7953"
             ],
             [
              0.7777777777777778,
              "#fb9f3a"
             ],
             [
              0.8888888888888888,
              "#fdca26"
             ],
             [
              1,
              "#f0f921"
             ]
            ],
            "type": "histogram2d"
           }
          ],
          "histogram2dcontour": [
           {
            "colorbar": {
             "outlinewidth": 0,
             "ticks": ""
            },
            "colorscale": [
             [
              0,
              "#0d0887"
             ],
             [
              0.1111111111111111,
              "#46039f"
             ],
             [
              0.2222222222222222,
              "#7201a8"
             ],
             [
              0.3333333333333333,
              "#9c179e"
             ],
             [
              0.4444444444444444,
              "#bd3786"
             ],
             [
              0.5555555555555556,
              "#d8576b"
             ],
             [
              0.6666666666666666,
              "#ed7953"
             ],
             [
              0.7777777777777778,
              "#fb9f3a"
             ],
             [
              0.8888888888888888,
              "#fdca26"
             ],
             [
              1,
              "#f0f921"
             ]
            ],
            "type": "histogram2dcontour"
           }
          ],
          "mesh3d": [
           {
            "colorbar": {
             "outlinewidth": 0,
             "ticks": ""
            },
            "type": "mesh3d"
           }
          ],
          "parcoords": [
           {
            "line": {
             "colorbar": {
              "outlinewidth": 0,
              "ticks": ""
             }
            },
            "type": "parcoords"
           }
          ],
          "pie": [
           {
            "automargin": true,
            "type": "pie"
           }
          ],
          "scatter": [
           {
            "fillpattern": {
             "fillmode": "overlay",
             "size": 10,
             "solidity": 0.2
            },
            "type": "scatter"
           }
          ],
          "scatter3d": [
           {
            "line": {
             "colorbar": {
              "outlinewidth": 0,
              "ticks": ""
             }
            },
            "marker": {
             "colorbar": {
              "outlinewidth": 0,
              "ticks": ""
             }
            },
            "type": "scatter3d"
           }
          ],
          "scattercarpet": [
           {
            "marker": {
             "colorbar": {
              "outlinewidth": 0,
              "ticks": ""
             }
            },
            "type": "scattercarpet"
           }
          ],
          "scattergeo": [
           {
            "marker": {
             "colorbar": {
              "outlinewidth": 0,
              "ticks": ""
             }
            },
            "type": "scattergeo"
           }
          ],
          "scattergl": [
           {
            "marker": {
             "colorbar": {
              "outlinewidth": 0,
              "ticks": ""
             }
            },
            "type": "scattergl"
           }
          ],
          "scattermapbox": [
           {
            "marker": {
             "colorbar": {
              "outlinewidth": 0,
              "ticks": ""
             }
            },
            "type": "scattermapbox"
           }
          ],
          "scatterpolar": [
           {
            "marker": {
             "colorbar": {
              "outlinewidth": 0,
              "ticks": ""
             }
            },
            "type": "scatterpolar"
           }
          ],
          "scatterpolargl": [
           {
            "marker": {
             "colorbar": {
              "outlinewidth": 0,
              "ticks": ""
             }
            },
            "type": "scatterpolargl"
           }
          ],
          "scatterternary": [
           {
            "marker": {
             "colorbar": {
              "outlinewidth": 0,
              "ticks": ""
             }
            },
            "type": "scatterternary"
           }
          ],
          "surface": [
           {
            "colorbar": {
             "outlinewidth": 0,
             "ticks": ""
            },
            "colorscale": [
             [
              0,
              "#0d0887"
             ],
             [
              0.1111111111111111,
              "#46039f"
             ],
             [
              0.2222222222222222,
              "#7201a8"
             ],
             [
              0.3333333333333333,
              "#9c179e"
             ],
             [
              0.4444444444444444,
              "#bd3786"
             ],
             [
              0.5555555555555556,
              "#d8576b"
             ],
             [
              0.6666666666666666,
              "#ed7953"
             ],
             [
              0.7777777777777778,
              "#fb9f3a"
             ],
             [
              0.8888888888888888,
              "#fdca26"
             ],
             [
              1,
              "#f0f921"
             ]
            ],
            "type": "surface"
           }
          ],
          "table": [
           {
            "cells": {
             "fill": {
              "color": "#EBF0F8"
             },
             "line": {
              "color": "white"
             }
            },
            "header": {
             "fill": {
              "color": "#C8D4E3"
             },
             "line": {
              "color": "white"
             }
            },
            "type": "table"
           }
          ]
         },
         "layout": {
          "annotationdefaults": {
           "arrowcolor": "#2a3f5f",
           "arrowhead": 0,
           "arrowwidth": 1
          },
          "autotypenumbers": "strict",
          "coloraxis": {
           "colorbar": {
            "outlinewidth": 0,
            "ticks": ""
           }
          },
          "colorscale": {
           "diverging": [
            [
             0,
             "#8e0152"
            ],
            [
             0.1,
             "#c51b7d"
            ],
            [
             0.2,
             "#de77ae"
            ],
            [
             0.3,
             "#f1b6da"
            ],
            [
             0.4,
             "#fde0ef"
            ],
            [
             0.5,
             "#f7f7f7"
            ],
            [
             0.6,
             "#e6f5d0"
            ],
            [
             0.7,
             "#b8e186"
            ],
            [
             0.8,
             "#7fbc41"
            ],
            [
             0.9,
             "#4d9221"
            ],
            [
             1,
             "#276419"
            ]
           ],
           "sequential": [
            [
             0,
             "#0d0887"
            ],
            [
             0.1111111111111111,
             "#46039f"
            ],
            [
             0.2222222222222222,
             "#7201a8"
            ],
            [
             0.3333333333333333,
             "#9c179e"
            ],
            [
             0.4444444444444444,
             "#bd3786"
            ],
            [
             0.5555555555555556,
             "#d8576b"
            ],
            [
             0.6666666666666666,
             "#ed7953"
            ],
            [
             0.7777777777777778,
             "#fb9f3a"
            ],
            [
             0.8888888888888888,
             "#fdca26"
            ],
            [
             1,
             "#f0f921"
            ]
           ],
           "sequentialminus": [
            [
             0,
             "#0d0887"
            ],
            [
             0.1111111111111111,
             "#46039f"
            ],
            [
             0.2222222222222222,
             "#7201a8"
            ],
            [
             0.3333333333333333,
             "#9c179e"
            ],
            [
             0.4444444444444444,
             "#bd3786"
            ],
            [
             0.5555555555555556,
             "#d8576b"
            ],
            [
             0.6666666666666666,
             "#ed7953"
            ],
            [
             0.7777777777777778,
             "#fb9f3a"
            ],
            [
             0.8888888888888888,
             "#fdca26"
            ],
            [
             1,
             "#f0f921"
            ]
           ]
          },
          "colorway": [
           "#636efa",
           "#EF553B",
           "#00cc96",
           "#ab63fa",
           "#FFA15A",
           "#19d3f3",
           "#FF6692",
           "#B6E880",
           "#FF97FF",
           "#FECB52"
          ],
          "font": {
           "color": "#2a3f5f"
          },
          "geo": {
           "bgcolor": "white",
           "lakecolor": "white",
           "landcolor": "#E5ECF6",
           "showlakes": true,
           "showland": true,
           "subunitcolor": "white"
          },
          "hoverlabel": {
           "align": "left"
          },
          "hovermode": "closest",
          "mapbox": {
           "style": "light"
          },
          "paper_bgcolor": "white",
          "plot_bgcolor": "#E5ECF6",
          "polar": {
           "angularaxis": {
            "gridcolor": "white",
            "linecolor": "white",
            "ticks": ""
           },
           "bgcolor": "#E5ECF6",
           "radialaxis": {
            "gridcolor": "white",
            "linecolor": "white",
            "ticks": ""
           }
          },
          "scene": {
           "xaxis": {
            "backgroundcolor": "#E5ECF6",
            "gridcolor": "white",
            "gridwidth": 2,
            "linecolor": "white",
            "showbackground": true,
            "ticks": "",
            "zerolinecolor": "white"
           },
           "yaxis": {
            "backgroundcolor": "#E5ECF6",
            "gridcolor": "white",
            "gridwidth": 2,
            "linecolor": "white",
            "showbackground": true,
            "ticks": "",
            "zerolinecolor": "white"
           },
           "zaxis": {
            "backgroundcolor": "#E5ECF6",
            "gridcolor": "white",
            "gridwidth": 2,
            "linecolor": "white",
            "showbackground": true,
            "ticks": "",
            "zerolinecolor": "white"
           }
          },
          "shapedefaults": {
           "line": {
            "color": "#2a3f5f"
           }
          },
          "ternary": {
           "aaxis": {
            "gridcolor": "white",
            "linecolor": "white",
            "ticks": ""
           },
           "baxis": {
            "gridcolor": "white",
            "linecolor": "white",
            "ticks": ""
           },
           "bgcolor": "#E5ECF6",
           "caxis": {
            "gridcolor": "white",
            "linecolor": "white",
            "ticks": ""
           }
          },
          "title": {
           "x": 0.05
          },
          "xaxis": {
           "automargin": true,
           "gridcolor": "white",
           "linecolor": "white",
           "ticks": "",
           "title": {
            "standoff": 15
           },
           "zerolinecolor": "white",
           "zerolinewidth": 2
          },
          "yaxis": {
           "automargin": true,
           "gridcolor": "white",
           "linecolor": "white",
           "ticks": "",
           "title": {
            "standoff": 15
           },
           "zerolinecolor": "white",
           "zerolinewidth": 2
          }
         }
        },
        "title": {
         "text": "Violin Plot of Life Expectancy by Country"
        },
        "violinmode": "group",
        "xaxis": {
         "anchor": "y",
         "domain": [
          0,
          1
         ],
         "title": {
          "text": "Country"
         }
        },
        "yaxis": {
         "anchor": "x",
         "domain": [
          0,
          1
         ],
         "title": {
          "text": "Life Expectancy (Years)"
         }
        }
       }
      }
     },
     "metadata": {},
     "output_type": "display_data"
    }
   ],
   "source": [
    "fig_violin = px.violin(df, y='Life Expectancy (Years)', x='Country', box=True, points=\"all\", title=\"Violin Plot of Life Expectancy by Country\")\n",
    "fig_violin.show()"
   ]
  },
  {
   "cell_type": "markdown",
   "metadata": {},
   "source": [
    "## 3. Compare the Human Development Index (HDI), literacy rate (% Literacy Rate), and internet penetration rate (% Internet Penetration) of countries. (heatmap)"
   ]
  },
  {
   "cell_type": "code",
   "execution_count": 50,
   "metadata": {},
   "outputs": [
    {
     "data": {
      "image/png": "[encoded data removed]",
      "text/plain": [
       "<Figure size 1500x800 with 2 Axes>"
      ]
     },
     "metadata": {},
     "output_type": "display_data"
    }
   ],
   "source": [
    "df_pivot = df.pivot_table(values=['Human Development Index (HDI)', 'Literacy Rate (%)', \n",
    "                                  'Internet Penetration (%)'], index='Country')\n",
    "\n",
    "plt.figure(figsize=(15, 8))\n",
    "sns.heatmap(df_pivot, annot=True, cmap='YlGnBu', linewidths=0.5)\n",
    "plt.title('Comparison of HDI, Literacy Rate, and Internet Penetration by Country')\n",
    "plt.show()\n"
   ]
  },
  {
   "cell_type": "markdown",
   "metadata": {},
   "source": [
    "## 4. Compare renewable productivity (%) across countries (Bar plot)"
   ]
  },
  {
   "cell_type": "code",
   "execution_count": 51,
   "metadata": {},
   "outputs": [
    {
     "data": {
      "image/png": "[encoded data removed]",
      "text/plain": [
       "<Figure size 1200x800 with 1 Axes>"
      ]
     },
     "metadata": {},
     "output_type": "display_data"
    }
   ],
   "source": [
    "# Sort the data by 'Renewable Energy Share (%)' for better visualization\n",
    "data_sorted = df.sort_values(by='Renewable Energy Share (%)', ascending=False)\n",
    "\n",
    "plt.figure(figsize=(12, 8))\n",
    "sns.barplot(x='Country', y='Renewable Energy Share (%)', data=data_sorted, palette='viridis')\n",
    "plt.title('Comparison of Renewable Energy Share (%) Across Countries', fontsize=16)\n",
    "plt.xlabel('Country', fontsize=12)\n",
    "plt.ylabel('Renewable Energy Share (%)', fontsize=12)\n",
    "plt.xticks(rotation=90)\n",
    "plt.tight_layout()\n",
    "plt.show()"
   ]
  },
  {
   "cell_type": "markdown",
   "metadata": {},
   "source": [
    "## 5. Compare crime rates between countries (Box plot)"
   ]
  },
  {
   "cell_type": "code",
   "execution_count": 52,
   "metadata": {},
   "outputs": [
    {
     "data": {
      "image/png": "[encoded data removed]",
      "text/plain": [
       "<Figure size 1200x800 with 1 Axes>"
      ]
     },
     "metadata": {},
     "output_type": "display_data"
    }
   ],
   "source": [
    "plt.figure(figsize=(12, 8))\n",
    "sorted_data = df.sort_values(by='Crime Rate (per 100,000)', ascending=False)\n",
    "sns.barplot(x='Crime Rate (per 100,000)', y='Country', data=sorted_data, palette='viridis')\n",
    "plt.title('Crime Rate per 100,000 by Country')\n",
    "plt.xlabel('Crime Rate (per 100,000)')\n",
    "plt.ylabel('Country')\n",
    "plt.tight_layout()\n",
    "plt.show()\n"
   ]
  },
  {
   "cell_type": "code",
   "execution_count": 53,
   "metadata": {},
   "outputs": [],
   "source": [
    "import pycountry\n",
    "\n",
    "def get_country_code(country_name):\n",
    "    try:\n",
    "        country = pycountry.countries.get(name=country_name)\n",
    "        if country:\n",
    "            return country.alpha_3  \n",
    "        else:\n",
    "            return country_name  \n",
    "    except Exception as e:\n",
    "        return None\n",
    "df['Country_Code'] = df['Country'].apply(get_country_code)"
   ]
  },
  {
   "cell_type": "markdown",
   "metadata": {},
   "source": [
    "## 6. 'GDP per Capita (in USD)' (Box plot)"
   ]
  },
  {
   "cell_type": "code",
   "execution_count": 54,
   "metadata": {},
   "outputs": [
    {
     "data": {
      "image/png": "[encoded data removed]",
      "text/plain": [
       "<Figure size 800x600 with 1 Axes>"
      ]
     },
     "metadata": {},
     "output_type": "display_data"
    }
   ],
   "source": [
    "plt.figure(figsize=(8, 6))\n",
    "sns.boxplot(y=df['GDP per Capita (in USD)'], color='orange')\n",
    "plt.title('GDP per Capita (in USD)')\n",
    "plt.tight_layout()\n",
    "plt.show()\n"
   ]
  },
  {
   "cell_type": "markdown",
   "metadata": {},
   "source": [
    "## 7. 'GDP (in Trillions USD)' (Histogram)"
   ]
  },
  {
   "cell_type": "code",
   "execution_count": 55,
   "metadata": {},
   "outputs": [
    {
     "data": {
      "image/png": "[encoded data removed]",
      "text/plain": [
       "<Figure size 1000x600 with 1 Axes>"
      ]
     },
     "metadata": {},
     "output_type": "display_data"
    }
   ],
   "source": [
    "plt.figure(figsize=(10, 6))\n",
    "sorted_data = df.sort_values(by='GDP (in Trillions USD)', ascending=False)\n",
    "colors = sns.color_palette(\"Spectral\", len(df))\n",
    "plt.bar(sorted_data['Country'], sorted_data['GDP (in Trillions USD)'], color=colors)\n",
    "plt.title('GDP (in Trillions USD) năm 2020')\n",
    "plt.tight_layout()\n",
    "plt.show()\n"
   ]
  },
  {
   "cell_type": "markdown",
   "metadata": {},
   "source": [
    "## 8. How has the change in GDP (in trillions of USD) of countries around the world changed over time? (Bubble Map)"
   ]
  },
  {
   "cell_type": "code",
   "execution_count": 56,
   "metadata": {},
   "outputs": [
    {
     "data": {
      "application/vnd.plotly.v1+json": {
       "config": {
        "plotlyServerURL": "https://plot.ly"
       },
       "data": [
        {
         "geo": "geo",
         "hovertemplate": "<b>%{hovertext}</b><br><br>Country_Code=%{location}<br>Year=2000<br>GDP (in Trillions USD)=%{marker.size}<extra></extra>",
         "hovertext": [
          "USA"
         ],
         "legendgroup": "USA",
         "locations": [
          "USA"
         ],
         "marker": {
          "color": "#636efa",
          "size": [
           20.87
          ],
          "sizemode": "area",
          "sizeref": 0.0556,
          "symbol": "circle"
         },
         "mode": "markers",
         "name": "USA",
         "showlegend": true,
         "type": "scattergeo"
        },
        {
         "geo": "geo",
         "hovertemplate": "<b>%{hovertext}</b><br><br>Country_Code=%{location}<br>Year=2000<br>GDP (in Trillions USD)=%{marker.size}<extra></extra>",
         "hovertext": [
          "Russia"
         ],
         "legendgroup": "Russia",
         "locations": [
          "Russia"
         ],
         "marker": {
          "color": "#EF553B",
          "size": [
           1.64
          ],
          "sizemode": "area",
          "sizeref": 0.0556,
          "symbol": "circle"
         },
         "mode": "markers",
         "name": "Russia",
         "showlegend": true,
         "type": "scattergeo"
        },
        {
         "geo": "geo",
         "hovertemplate": "<b>%{hovertext}</b><br><br>Country_Code=%{location}<br>Year=2000<br>GDP (in Trillions USD)=%{marker.size}<extra></extra>",
         "hovertext": [
          "CAN"
         ],
         "legendgroup": "CAN",
         "locations": [
          "CAN"
         ],
         "marker": {
          "color": "#00cc96",
          "size": [
           1.65
          ],
          "sizemode": "area",
          "sizeref": 0.0556,
          "symbol": "circle"
         },
         "mode": "markers",
         "name": "CAN",
         "showlegend": true,
         "type": "scattergeo"
        },
        {
         "geo": "geo",
         "hovertemplate": "<b>%{hovertext}</b><br><br>Country_Code=%{location}<br>Year=2000<br>GDP (in Trillions USD)=%{marker.size}<extra></extra>",
         "hovertext": [
          "CHN"
         ],
         "legendgroup": "CHN",
         "locations": [
          "CHN"
         ],
         "marker": {
          "color": "#ab63fa",
          "size": [
           13.64
          ],
          "sizemode": "area",
          "sizeref": 0.0556,
          "symbol": "circle"
         },
         "mode": "markers",
         "name": "CHN",
         "showlegend": true,
         "type": "scattergeo"
        },
        {
         "geo": "geo",
         "hovertemplate": "<b>%{hovertext}</b><br><br>Country_Code=%{location}<br>Year=2000<br>GDP (in Trillions USD)=%{marker.size}<extra></extra>",
         "hovertext": [
          "IND"
         ],
         "legendgroup": "IND",
         "locations": [
          "IND"
         ],
         "marker": {
          "color": "#FFA15A",
          "size": [
           2.98
          ],
          "sizemode": "area",
          "sizeref": 0.0556,
          "symbol": "circle"
         },
         "mode": "markers",
         "name": "IND",
         "showlegend": true,
         "type": "scattergeo"
        },
        {
         "geo": "geo",
         "hovertemplate": "<b>%{hovertext}</b><br><br>Country_Code=%{location}<br>Year=2000<br>GDP (in Trillions USD)=%{marker.size}<extra></extra>",
         "hovertext": [
          "AUS"
         ],
         "legendgroup": "AUS",
         "locations": [
          "AUS"
         ],
         "marker": {
          "color": "#19d3f3",
          "size": [
           1.38
          ],
          "sizemode": "area",
          "sizeref": 0.0556,
          "symbol": "circle"
         },
         "mode": "markers",
         "name": "AUS",
         "showlegend": true,
         "type": "scattergeo"
        }
       ],
       "frames": [
        {
         "data": [
          {
           "geo": "geo",
           "hovertemplate": "<b>%{hovertext}</b><br><br>Country_Code=%{location}<br>Year=2000<br>GDP (in Trillions USD)=%{marker.size}<extra></extra>",
           "hovertext": [
            "USA"
           ],
           "legendgroup": "USA",
           "locations": [
            "USA"
           ],
           "marker": {
            "color": "#636efa",
            "size": [
             20.87
            ],
            "sizemode": "area",
            "sizeref": 0.0556,
            "symbol": "circle"
           },
           "mode": "markers",
           "name": "USA",
           "showlegend": true,
           "type": "scattergeo"
          },
          {
           "geo": "geo",
           "hovertemplate": "<b>%{hovertext}</b><br><br>Country_Code=%{location}<br>Year=2000<br>GDP (in Trillions USD)=%{marker.size}<extra></extra>",
           "hovertext": [
            "Russia"
           ],
           "legendgroup": "Russia",
           "locations": [
            "Russia"
           ],
           "marker": {
            "color": "#EF553B",
            "size": [
             1.64
            ],
            "sizemode": "area",
            "sizeref": 0.0556,
            "symbol": "circle"
           },
           "mode": "markers",
           "name": "Russia",
           "showlegend": true,
           "type": "scattergeo"
          },
          {
           "geo": "geo",
           "hovertemplate": "<b>%{hovertext}</b><br><br>Country_Code=%{location}<br>Year=2000<br>GDP (in Trillions USD)=%{marker.size}<extra></extra>",
           "hovertext": [
            "CAN"
           ],
           "legendgroup": "CAN",
           "locations": [
            "CAN"
           ],
           "marker": {
            "color": "#00cc96",
            "size": [
             1.65
            ],
            "sizemode": "area",
            "sizeref": 0.0556,
            "symbol": "circle"
           },
           "mode": "markers",
           "name": "CAN",
           "showlegend": true,
           "type": "scattergeo"
          },
          {
           "geo": "geo",
           "hovertemplate": "<b>%{hovertext}</b><br><br>Country_Code=%{location}<br>Year=2000<br>GDP (in Trillions USD)=%{marker.size}<extra></extra>",
           "hovertext": [
            "CHN"
           ],
           "legendgroup": "CHN",
           "locations": [
            "CHN"
           ],
           "marker": {
            "color": "#ab63fa",
            "size": [
             13.64
            ],
            "sizemode": "area",
            "sizeref": 0.0556,
            "symbol": "circle"
           },
           "mode": "markers",
           "name": "CHN",
           "showlegend": true,
           "type": "scattergeo"
          },
          {
           "geo": "geo",
           "hovertemplate": "<b>%{hovertext}</b><br><br>Country_Code=%{location}<br>Year=2000<br>GDP (in Trillions USD)=%{marker.size}<extra></extra>",
           "hovertext": [
            "IND"
           ],
           "legendgroup": "IND",
           "locations": [
            "IND"
           ],
           "marker": {
            "color": "#FFA15A",
            "size": [
             2.98
            ],
            "sizemode": "area",
            "sizeref": 0.0556,
            "symbol": "circle"
           },
           "mode": "markers",
           "name": "IND",
           "showlegend": true,
           "type": "scattergeo"
          },
          {
           "geo": "geo",
           "hovertemplate": "<b>%{hovertext}</b><br><br>Country_Code=%{location}<br>Year=2000<br>GDP (in Trillions USD)=%{marker.size}<extra></extra>",
           "hovertext": [
            "AUS"
           ],
           "legendgroup": "AUS",
           "locations": [
            "AUS"
           ],
           "marker": {
            "color": "#19d3f3",
            "size": [
             1.38
            ],
            "sizemode": "area",
            "sizeref": 0.0556,
            "symbol": "circle"
           },
           "mode": "markers",
           "name": "AUS",
           "showlegend": true,
           "type": "scattergeo"
          }
         ],
         "name": "2000"
        },
        {
         "data": [
          {
           "geo": "geo",
           "hovertemplate": "<b>%{hovertext}</b><br><br>Country_Code=%{location}<br>Year=2001<br>GDP (in Trillions USD)=%{marker.size}<extra></extra>",
           "hovertext": [
            "USA"
           ],
           "legendgroup": "USA",
           "locations": [
            "USA"
           ],
           "marker": {
            "color": "#636efa",
            "size": [
             22.01
            ],
            "sizemode": "area",
            "sizeref": 0.0556,
            "symbol": "circle"
           },
           "mode": "markers",
           "name": "USA",
           "showlegend": true,
           "type": "scattergeo"
          },
          {
           "geo": "geo",
           "hovertemplate": "<b>%{hovertext}</b><br><br>Country_Code=%{location}<br>Year=2001<br>GDP (in Trillions USD)=%{marker.size}<extra></extra>",
           "hovertext": [
            "Russia"
           ],
           "legendgroup": "Russia",
           "locations": [
            "Russia"
           ],
           "marker": {
            "color": "#EF553B",
            "size": [
             1.66
            ],
            "sizemode": "area",
            "sizeref": 0.0556,
            "symbol": "circle"
           },
           "mode": "markers",
           "name": "Russia",
           "showlegend": true,
           "type": "scattergeo"
          },
          {
           "geo": "geo",
           "hovertemplate": "<b>%{hovertext}</b><br><br>Country_Code=%{location}<br>Year=2001<br>GDP (in Trillions USD)=%{marker.size}<extra></extra>",
           "hovertext": [
            "CAN"
           ],
           "legendgroup": "CAN",
           "locations": [
            "CAN"
           ],
           "marker": {
            "color": "#00cc96",
            "size": [
             1.72
            ],
            "sizemode": "area",
            "sizeref": 0.0556,
            "symbol": "circle"
           },
           "mode": "markers",
           "name": "CAN",
           "showlegend": true,
           "type": "scattergeo"
          },
          {
           "geo": "geo",
           "hovertemplate": "<b>%{hovertext}</b><br><br>Country_Code=%{location}<br>Year=2001<br>GDP (in Trillions USD)=%{marker.size}<extra></extra>",
           "hovertext": [
            "CHN"
           ],
           "legendgroup": "CHN",
           "locations": [
            "CHN"
           ],
           "marker": {
            "color": "#ab63fa",
            "size": [
             14
            ],
            "sizemode": "area",
            "sizeref": 0.0556,
            "symbol": "circle"
           },
           "mode": "markers",
           "name": "CHN",
           "showlegend": true,
           "type": "scattergeo"
          },
          {
           "geo": "geo",
           "hovertemplate": "<b>%{hovertext}</b><br><br>Country_Code=%{location}<br>Year=2001<br>GDP (in Trillions USD)=%{marker.size}<extra></extra>",
           "hovertext": [
            "IND"
           ],
           "legendgroup": "IND",
           "locations": [
            "IND"
           ],
           "marker": {
            "color": "#FFA15A",
            "size": [
             3
            ],
            "sizemode": "area",
            "sizeref": 0.0556,
            "symbol": "circle"
           },
           "mode": "markers",
           "name": "IND",
           "showlegend": true,
           "type": "scattergeo"
          },
          {
           "geo": "geo",
           "hovertemplate": "<b>%{hovertext}</b><br><br>Country_Code=%{location}<br>Year=2001<br>GDP (in Trillions USD)=%{marker.size}<extra></extra>",
           "hovertext": [
            "AUS"
           ],
           "legendgroup": "AUS",
           "locations": [
            "AUS"
           ],
           "marker": {
            "color": "#19d3f3",
            "size": [
             1.34
            ],
            "sizemode": "area",
            "sizeref": 0.0556,
            "symbol": "circle"
           },
           "mode": "markers",
           "name": "AUS",
           "showlegend": true,
           "type": "scattergeo"
          }
         ],
         "name": "2001"
        },
        {
         "data": [
          {
           "geo": "geo",
           "hovertemplate": "<b>%{hovertext}</b><br><br>Country_Code=%{location}<br>Year=2002<br>GDP (in Trillions USD)=%{marker.size}<extra></extra>",
           "hovertext": [
            "USA"
           ],
           "legendgroup": "USA",
           "locations": [
            "USA"
           ],
           "marker": {
            "color": "#636efa",
            "size": [
             21.17
            ],
            "sizemode": "area",
            "sizeref": 0.0556,
            "symbol": "circle"
           },
           "mode": "markers",
           "name": "USA",
           "showlegend": true,
           "type": "scattergeo"
          },
          {
           "geo": "geo",
           "hovertemplate": "<b>%{hovertext}</b><br><br>Country_Code=%{location}<br>Year=2002<br>GDP (in Trillions USD)=%{marker.size}<extra></extra>",
           "hovertext": [
            "Russia"
           ],
           "legendgroup": "Russia",
           "locations": [
            "Russia"
           ],
           "marker": {
            "color": "#EF553B",
            "size": [
             1.58
            ],
            "sizemode": "area",
            "sizeref": 0.0556,
            "symbol": "circle"
           },
           "mode": "markers",
           "name": "Russia",
           "showlegend": true,
           "type": "scattergeo"
          },
          {
           "geo": "geo",
           "hovertemplate": "<b>%{hovertext}</b><br><br>Country_Code=%{location}<br>Year=2002<br>GDP (in Trillions USD)=%{marker.size}<extra></extra>",
           "hovertext": [
            "CAN"
           ],
           "legendgroup": "CAN",
           "locations": [
            "CAN"
           ],
           "marker": {
            "color": "#00cc96",
            "size": [
             1.79
            ],
            "sizemode": "area",
            "sizeref": 0.0556,
            "symbol": "circle"
           },
           "mode": "markers",
           "name": "CAN",
           "showlegend": true,
           "type": "scattergeo"
          },
          {
           "geo": "geo",
           "hovertemplate": "<b>%{hovertext}</b><br><br>Country_Code=%{location}<br>Year=2002<br>GDP (in Trillions USD)=%{marker.size}<extra></extra>",
           "hovertext": [
            "CHN"
           ],
           "legendgroup": "CHN",
           "locations": [
            "CHN"
           ],
           "marker": {
            "color": "#ab63fa",
            "size": [
             13.97
            ],
            "sizemode": "area",
            "sizeref": 0.0556,
            "symbol": "circle"
           },
           "mode": "markers",
           "name": "CHN",
           "showlegend": true,
           "type": "scattergeo"
          },
          {
           "geo": "geo",
           "hovertemplate": "<b>%{hovertext}</b><br><br>Country_Code=%{location}<br>Year=2002<br>GDP (in Trillions USD)=%{marker.size}<extra></extra>",
           "hovertext": [
            "IND"
           ],
           "legendgroup": "IND",
           "locations": [
            "IND"
           ],
           "marker": {
            "color": "#FFA15A",
            "size": [
             2.86
            ],
            "sizemode": "area",
            "sizeref": 0.0556,
            "symbol": "circle"
           },
           "mode": "markers",
           "name": "IND",
           "showlegend": true,
           "type": "scattergeo"
          },
          {
           "geo": "geo",
           "hovertemplate": "<b>%{hovertext}</b><br><br>Country_Code=%{location}<br>Year=2002<br>GDP (in Trillions USD)=%{marker.size}<extra></extra>",
           "hovertext": [
            "AUS"
           ],
           "legendgroup": "AUS",
           "locations": [
            "AUS"
           ],
           "marker": {
            "color": "#19d3f3",
            "size": [
             1.36
            ],
            "sizemode": "area",
            "sizeref": 0.0556,
            "symbol": "circle"
           },
           "mode": "markers",
           "name": "AUS",
           "showlegend": true,
           "type": "scattergeo"
          }
         ],
         "name": "2002"
        },
        {
         "data": [
          {
           "geo": "geo",
           "hovertemplate": "<b>%{hovertext}</b><br><br>Country_Code=%{location}<br>Year=2003<br>GDP (in Trillions USD)=%{marker.size}<extra></extra>",
           "hovertext": [
            "USA"
           ],
           "legendgroup": "USA",
           "locations": [
            "USA"
           ],
           "marker": {
            "color": "#636efa",
            "size": [
             20.55
            ],
            "sizemode": "area",
            "sizeref": 0.0556,
            "symbol": "circle"
           },
           "mode": "markers",
           "name": "USA",
           "showlegend": true,
           "type": "scattergeo"
          },
          {
           "geo": "geo",
           "hovertemplate": "<b>%{hovertext}</b><br><br>Country_Code=%{location}<br>Year=2003<br>GDP (in Trillions USD)=%{marker.size}<extra></extra>",
           "hovertext": [
            "Russia"
           ],
           "legendgroup": "Russia",
           "locations": [
            "Russia"
           ],
           "marker": {
            "color": "#EF553B",
            "size": [
             1.6
            ],
            "sizemode": "area",
            "sizeref": 0.0556,
            "symbol": "circle"
           },
           "mode": "markers",
           "name": "Russia",
           "showlegend": true,
           "type": "scattergeo"
          },
          {
           "geo": "geo",
           "hovertemplate": "<b>%{hovertext}</b><br><br>Country_Code=%{location}<br>Year=2003<br>GDP (in Trillions USD)=%{marker.size}<extra></extra>",
           "hovertext": [
            "CAN"
           ],
           "legendgroup": "CAN",
           "locations": [
            "CAN"
           ],
           "marker": {
            "color": "#00cc96",
            "size": [
             1.8
            ],
            "sizemode": "area",
            "sizeref": 0.0556,
            "symbol": "circle"
           },
           "mode": "markers",
           "name": "CAN",
           "showlegend": true,
           "type": "scattergeo"
          },
          {
           "geo": "geo",
           "hovertemplate": "<b>%{hovertext}</b><br><br>Country_Code=%{location}<br>Year=2003<br>GDP (in Trillions USD)=%{marker.size}<extra></extra>",
           "hovertext": [
            "CHN"
           ],
           "legendgroup": "CHN",
           "locations": [
            "CHN"
           ],
           "marker": {
            "color": "#ab63fa",
            "size": [
             13.71
            ],
            "sizemode": "area",
            "sizeref": 0.0556,
            "symbol": "circle"
           },
           "mode": "markers",
           "name": "CHN",
           "showlegend": true,
           "type": "scattergeo"
          },
          {
           "geo": "geo",
           "hovertemplate": "<b>%{hovertext}</b><br><br>Country_Code=%{location}<br>Year=2003<br>GDP (in Trillions USD)=%{marker.size}<extra></extra>",
           "hovertext": [
            "IND"
           ],
           "legendgroup": "IND",
           "locations": [
            "IND"
           ],
           "marker": {
            "color": "#FFA15A",
            "size": [
             2.93
            ],
            "sizemode": "area",
            "sizeref": 0.0556,
            "symbol": "circle"
           },
           "mode": "markers",
           "name": "IND",
           "showlegend": true,
           "type": "scattergeo"
          },
          {
           "geo": "geo",
           "hovertemplate": "<b>%{hovertext}</b><br><br>Country_Code=%{location}<br>Year=2003<br>GDP (in Trillions USD)=%{marker.size}<extra></extra>",
           "hovertext": [
            "AUS"
           ],
           "legendgroup": "AUS",
           "locations": [
            "AUS"
           ],
           "marker": {
            "color": "#19d3f3",
            "size": [
             1.37
            ],
            "sizemode": "area",
            "sizeref": 0.0556,
            "symbol": "circle"
           },
           "mode": "markers",
           "name": "AUS",
           "showlegend": true,
           "type": "scattergeo"
          }
         ],
         "name": "2003"
        },
        {
         "data": [
          {
           "geo": "geo",
           "hovertemplate": "<b>%{hovertext}</b><br><br>Country_Code=%{location}<br>Year=2004<br>GDP (in Trillions USD)=%{marker.size}<extra></extra>",
           "hovertext": [
            "USA"
           ],
           "legendgroup": "USA",
           "locations": [
            "USA"
           ],
           "marker": {
            "color": "#636efa",
            "size": [
             21.43
            ],
            "sizemode": "area",
            "sizeref": 0.0556,
            "symbol": "circle"
           },
           "mode": "markers",
           "name": "USA",
           "showlegend": true,
           "type": "scattergeo"
          },
          {
           "geo": "geo",
           "hovertemplate": "<b>%{hovertext}</b><br><br>Country_Code=%{location}<br>Year=2004<br>GDP (in Trillions USD)=%{marker.size}<extra></extra>",
           "hovertext": [
            "Russia"
           ],
           "legendgroup": "Russia",
           "locations": [
            "Russia"
           ],
           "marker": {
            "color": "#EF553B",
            "size": [
             1.7
            ],
            "sizemode": "area",
            "sizeref": 0.0556,
            "symbol": "circle"
           },
           "mode": "markers",
           "name": "Russia",
           "showlegend": true,
           "type": "scattergeo"
          },
          {
           "geo": "geo",
           "hovertemplate": "<b>%{hovertext}</b><br><br>Country_Code=%{location}<br>Year=2004<br>GDP (in Trillions USD)=%{marker.size}<extra></extra>",
           "hovertext": [
            "CAN"
           ],
           "legendgroup": "CAN",
           "locations": [
            "CAN"
           ],
           "marker": {
            "color": "#00cc96",
            "size": [
             1.8
            ],
            "sizemode": "area",
            "sizeref": 0.0556,
            "symbol": "circle"
           },
           "mode": "markers",
           "name": "CAN",
           "showlegend": true,
           "type": "scattergeo"
          },
          {
           "geo": "geo",
           "hovertemplate": "<b>%{hovertext}</b><br><br>Country_Code=%{location}<br>Year=2004<br>GDP (in Trillions USD)=%{marker.size}<extra></extra>",
           "hovertext": [
            "CHN"
           ],
           "legendgroup": "CHN",
           "locations": [
            "CHN"
           ],
           "marker": {
            "color": "#ab63fa",
            "size": [
             14.11
            ],
            "sizemode": "area",
            "sizeref": 0.0556,
            "symbol": "circle"
           },
           "mode": "markers",
           "name": "CHN",
           "showlegend": true,
           "type": "scattergeo"
          },
          {
           "geo": "geo",
           "hovertemplate": "<b>%{hovertext}</b><br><br>Country_Code=%{location}<br>Year=2004<br>GDP (in Trillions USD)=%{marker.size}<extra></extra>",
           "hovertext": [
            "IND"
           ],
           "legendgroup": "IND",
           "locations": [
            "IND"
           ],
           "marker": {
            "color": "#FFA15A",
            "size": [
             2.87
            ],
            "sizemode": "area",
            "sizeref": 0.0556,
            "symbol": "circle"
           },
           "mode": "markers",
           "name": "IND",
           "showlegend": true,
           "type": "scattergeo"
          },
          {
           "geo": "geo",
           "hovertemplate": "<b>%{hovertext}</b><br><br>Country_Code=%{location}<br>Year=2004<br>GDP (in Trillions USD)=%{marker.size}<extra></extra>",
           "hovertext": [
            "AUS"
           ],
           "legendgroup": "AUS",
           "locations": [
            "AUS"
           ],
           "marker": {
            "color": "#19d3f3",
            "size": [
             1.36
            ],
            "sizemode": "area",
            "sizeref": 0.0556,
            "symbol": "circle"
           },
           "mode": "markers",
           "name": "AUS",
           "showlegend": true,
           "type": "scattergeo"
          }
         ],
         "name": "2004"
        },
        {
         "data": [
          {
           "geo": "geo",
           "hovertemplate": "<b>%{hovertext}</b><br><br>Country_Code=%{location}<br>Year=2005<br>GDP (in Trillions USD)=%{marker.size}<extra></extra>",
           "hovertext": [
            "USA"
           ],
           "legendgroup": "USA",
           "locations": [
            "USA"
           ],
           "marker": {
            "color": "#636efa",
            "size": [
             21.34
            ],
            "sizemode": "area",
            "sizeref": 0.0556,
            "symbol": "circle"
           },
           "mode": "markers",
           "name": "USA",
           "showlegend": true,
           "type": "scattergeo"
          },
          {
           "geo": "geo",
           "hovertemplate": "<b>%{hovertext}</b><br><br>Country_Code=%{location}<br>Year=2005<br>GDP (in Trillions USD)=%{marker.size}<extra></extra>",
           "hovertext": [
            "Russia"
           ],
           "legendgroup": "Russia",
           "locations": [
            "Russia"
           ],
           "marker": {
            "color": "#EF553B",
            "size": [
             1.7
            ],
            "sizemode": "area",
            "sizeref": 0.0556,
            "symbol": "circle"
           },
           "mode": "markers",
           "name": "Russia",
           "showlegend": true,
           "type": "scattergeo"
          },
          {
           "geo": "geo",
           "hovertemplate": "<b>%{hovertext}</b><br><br>Country_Code=%{location}<br>Year=2005<br>GDP (in Trillions USD)=%{marker.size}<extra></extra>",
           "hovertext": [
            "CAN"
           ],
           "legendgroup": "CAN",
           "locations": [
            "CAN"
           ],
           "marker": {
            "color": "#00cc96",
            "size": [
             1.81
            ],
            "sizemode": "area",
            "sizeref": 0.0556,
            "symbol": "circle"
           },
           "mode": "markers",
           "name": "CAN",
           "showlegend": true,
           "type": "scattergeo"
          },
          {
           "geo": "geo",
           "hovertemplate": "<b>%{hovertext}</b><br><br>Country_Code=%{location}<br>Year=2005<br>GDP (in Trillions USD)=%{marker.size}<extra></extra>",
           "hovertext": [
            "CHN"
           ],
           "legendgroup": "CHN",
           "locations": [
            "CHN"
           ],
           "marker": {
            "color": "#ab63fa",
            "size": [
             14.67
            ],
            "sizemode": "area",
            "sizeref": 0.0556,
            "symbol": "circle"
           },
           "mode": "markers",
           "name": "CHN",
           "showlegend": true,
           "type": "scattergeo"
          },
          {
           "geo": "geo",
           "hovertemplate": "<b>%{hovertext}</b><br><br>Country_Code=%{location}<br>Year=2005<br>GDP (in Trillions USD)=%{marker.size}<extra></extra>",
           "hovertext": [
            "IND"
           ],
           "legendgroup": "IND",
           "locations": [
            "IND"
           ],
           "marker": {
            "color": "#FFA15A",
            "size": [
             2.9
            ],
            "sizemode": "area",
            "sizeref": 0.0556,
            "symbol": "circle"
           },
           "mode": "markers",
           "name": "IND",
           "showlegend": true,
           "type": "scattergeo"
          },
          {
           "geo": "geo",
           "hovertemplate": "<b>%{hovertext}</b><br><br>Country_Code=%{location}<br>Year=2005<br>GDP (in Trillions USD)=%{marker.size}<extra></extra>",
           "hovertext": [
            "AUS"
           ],
           "legendgroup": "AUS",
           "locations": [
            "AUS"
           ],
           "marker": {
            "color": "#19d3f3",
            "size": [
             1.29
            ],
            "sizemode": "area",
            "sizeref": 0.0556,
            "symbol": "circle"
           },
           "mode": "markers",
           "name": "AUS",
           "showlegend": true,
           "type": "scattergeo"
          }
         ],
         "name": "2005"
        },
        {
         "data": [
          {
           "geo": "geo",
           "hovertemplate": "<b>%{hovertext}</b><br><br>Country_Code=%{location}<br>Year=2006<br>GDP (in Trillions USD)=%{marker.size}<extra></extra>",
           "hovertext": [
            "USA"
           ],
           "legendgroup": "USA",
           "locations": [
            "USA"
           ],
           "marker": {
            "color": "#636efa",
            "size": [
             21.26
            ],
            "sizemode": "area",
            "sizeref": 0.0556,
            "symbol": "circle"
           },
           "mode": "markers",
           "name": "USA",
           "showlegend": true,
           "type": "scattergeo"
          },
          {
           "geo": "geo",
           "hovertemplate": "<b>%{hovertext}</b><br><br>Country_Code=%{location}<br>Year=2006<br>GDP (in Trillions USD)=%{marker.size}<extra></extra>",
           "hovertext": [
            "Russia"
           ],
           "legendgroup": "Russia",
           "locations": [
            "Russia"
           ],
           "marker": {
            "color": "#EF553B",
            "size": [
             1.64
            ],
            "sizemode": "area",
            "sizeref": 0.0556,
            "symbol": "circle"
           },
           "mode": "markers",
           "name": "Russia",
           "showlegend": true,
           "type": "scattergeo"
          },
          {
           "geo": "geo",
           "hovertemplate": "<b>%{hovertext}</b><br><br>Country_Code=%{location}<br>Year=2006<br>GDP (in Trillions USD)=%{marker.size}<extra></extra>",
           "hovertext": [
            "CAN"
           ],
           "legendgroup": "CAN",
           "locations": [
            "CAN"
           ],
           "marker": {
            "color": "#00cc96",
            "size": [
             1.67
            ],
            "sizemode": "area",
            "sizeref": 0.0556,
            "symbol": "circle"
           },
           "mode": "markers",
           "name": "CAN",
           "showlegend": true,
           "type": "scattergeo"
          },
          {
           "geo": "geo",
           "hovertemplate": "<b>%{hovertext}</b><br><br>Country_Code=%{location}<br>Year=2006<br>GDP (in Trillions USD)=%{marker.size}<extra></extra>",
           "hovertext": [
            "CHN"
           ],
           "legendgroup": "CHN",
           "locations": [
            "CHN"
           ],
           "marker": {
            "color": "#ab63fa",
            "size": [
             14.76
            ],
            "sizemode": "area",
            "sizeref": 0.0556,
            "symbol": "circle"
           },
           "mode": "markers",
           "name": "CHN",
           "showlegend": true,
           "type": "scattergeo"
          },
          {
           "geo": "geo",
           "hovertemplate": "<b>%{hovertext}</b><br><br>Country_Code=%{location}<br>Year=2006<br>GDP (in Trillions USD)=%{marker.size}<extra></extra>",
           "hovertext": [
            "IND"
           ],
           "legendgroup": "IND",
           "locations": [
            "IND"
           ],
           "marker": {
            "color": "#FFA15A",
            "size": [
             2.81
            ],
            "sizemode": "area",
            "sizeref": 0.0556,
            "symbol": "circle"
           },
           "mode": "markers",
           "name": "IND",
           "showlegend": true,
           "type": "scattergeo"
          },
          {
           "geo": "geo",
           "hovertemplate": "<b>%{hovertext}</b><br><br>Country_Code=%{location}<br>Year=2006<br>GDP (in Trillions USD)=%{marker.size}<extra></extra>",
           "hovertext": [
            "AUS"
           ],
           "legendgroup": "AUS",
           "locations": [
            "AUS"
           ],
           "marker": {
            "color": "#19d3f3",
            "size": [
             1.27
            ],
            "sizemode": "area",
            "sizeref": 0.0556,
            "symbol": "circle"
           },
           "mode": "markers",
           "name": "AUS",
           "showlegend": true,
           "type": "scattergeo"
          }
         ],
         "name": "2006"
        },
        {
         "data": [
          {
           "geo": "geo",
           "hovertemplate": "<b>%{hovertext}</b><br><br>Country_Code=%{location}<br>Year=2007<br>GDP (in Trillions USD)=%{marker.size}<extra></extra>",
           "hovertext": [
            "USA"
           ],
           "legendgroup": "USA",
           "locations": [
            "USA"
           ],
           "marker": {
            "color": "#636efa",
            "size": [
             20.96
            ],
            "sizemode": "area",
            "sizeref": 0.0556,
            "symbol": "circle"
           },
           "mode": "markers",
           "name": "USA",
           "showlegend": true,
           "type": "scattergeo"
          },
          {
           "geo": "geo",
           "hovertemplate": "<b>%{hovertext}</b><br><br>Country_Code=%{location}<br>Year=2007<br>GDP (in Trillions USD)=%{marker.size}<extra></extra>",
           "hovertext": [
            "Russia"
           ],
           "legendgroup": "Russia",
           "locations": [
            "Russia"
           ],
           "marker": {
            "color": "#EF553B",
            "size": [
             1.56
            ],
            "sizemode": "area",
            "sizeref": 0.0556,
            "symbol": "circle"
           },
           "mode": "markers",
           "name": "Russia",
           "showlegend": true,
           "type": "scattergeo"
          },
          {
           "geo": "geo",
           "hovertemplate": "<b>%{hovertext}</b><br><br>Country_Code=%{location}<br>Year=2007<br>GDP (in Trillions USD)=%{marker.size}<extra></extra>",
           "hovertext": [
            "CAN"
           ],
           "legendgroup": "CAN",
           "locations": [
            "CAN"
           ],
           "marker": {
            "color": "#00cc96",
            "size": [
             1.82
            ],
            "sizemode": "area",
            "sizeref": 0.0556,
            "symbol": "circle"
           },
           "mode": "markers",
           "name": "CAN",
           "showlegend": true,
           "type": "scattergeo"
          },
          {
           "geo": "geo",
           "hovertemplate": "<b>%{hovertext}</b><br><br>Country_Code=%{location}<br>Year=2007<br>GDP (in Trillions USD)=%{marker.size}<extra></extra>",
           "hovertext": [
            "CHN"
           ],
           "legendgroup": "CHN",
           "locations": [
            "CHN"
           ],
           "marker": {
            "color": "#ab63fa",
            "size": [
             13.85
            ],
            "sizemode": "area",
            "sizeref": 0.0556,
            "symbol": "circle"
           },
           "mode": "markers",
           "name": "CHN",
           "showlegend": true,
           "type": "scattergeo"
          },
          {
           "geo": "geo",
           "hovertemplate": "<b>%{hovertext}</b><br><br>Country_Code=%{location}<br>Year=2007<br>GDP (in Trillions USD)=%{marker.size}<extra></extra>",
           "hovertext": [
            "IND"
           ],
           "legendgroup": "IND",
           "locations": [
            "IND"
           ],
           "marker": {
            "color": "#FFA15A",
            "size": [
             2.78
            ],
            "sizemode": "area",
            "sizeref": 0.0556,
            "symbol": "circle"
           },
           "mode": "markers",
           "name": "IND",
           "showlegend": true,
           "type": "scattergeo"
          },
          {
           "geo": "geo",
           "hovertemplate": "<b>%{hovertext}</b><br><br>Country_Code=%{location}<br>Year=2007<br>GDP (in Trillions USD)=%{marker.size}<extra></extra>",
           "hovertext": [
            "AUS"
           ],
           "legendgroup": "AUS",
           "locations": [
            "AUS"
           ],
           "marker": {
            "color": "#19d3f3",
            "size": [
             1.33
            ],
            "sizemode": "area",
            "sizeref": 0.0556,
            "symbol": "circle"
           },
           "mode": "markers",
           "name": "AUS",
           "showlegend": true,
           "type": "scattergeo"
          }
         ],
         "name": "2007"
        },
        {
         "data": [
          {
           "geo": "geo",
           "hovertemplate": "<b>%{hovertext}</b><br><br>Country_Code=%{location}<br>Year=2008<br>GDP (in Trillions USD)=%{marker.size}<extra></extra>",
           "hovertext": [
            "USA"
           ],
           "legendgroup": "USA",
           "locations": [
            "USA"
           ],
           "marker": {
            "color": "#636efa",
            "size": [
             20.66
            ],
            "sizemode": "area",
            "sizeref": 0.0556,
            "symbol": "circle"
           },
           "mode": "markers",
           "name": "USA",
           "showlegend": true,
           "type": "scattergeo"
          },
          {
           "geo": "geo",
           "hovertemplate": "<b>%{hovertext}</b><br><br>Country_Code=%{location}<br>Year=2008<br>GDP (in Trillions USD)=%{marker.size}<extra></extra>",
           "hovertext": [
            "Russia"
           ],
           "legendgroup": "Russia",
           "locations": [
            "Russia"
           ],
           "marker": {
            "color": "#EF553B",
            "size": [
             1.57
            ],
            "sizemode": "area",
            "sizeref": 0.0556,
            "symbol": "circle"
           },
           "mode": "markers",
           "name": "Russia",
           "showlegend": true,
           "type": "scattergeo"
          },
          {
           "geo": "geo",
           "hovertemplate": "<b>%{hovertext}</b><br><br>Country_Code=%{location}<br>Year=2008<br>GDP (in Trillions USD)=%{marker.size}<extra></extra>",
           "hovertext": [
            "CAN"
           ],
           "legendgroup": "CAN",
           "locations": [
            "CAN"
           ],
           "marker": {
            "color": "#00cc96",
            "size": [
             1.67
            ],
            "sizemode": "area",
            "sizeref": 0.0556,
            "symbol": "circle"
           },
           "mode": "markers",
           "name": "CAN",
           "showlegend": true,
           "type": "scattergeo"
          },
          {
           "geo": "geo",
           "hovertemplate": "<b>%{hovertext}</b><br><br>Country_Code=%{location}<br>Year=2008<br>GDP (in Trillions USD)=%{marker.size}<extra></extra>",
           "hovertext": [
            "CHN"
           ],
           "legendgroup": "CHN",
           "locations": [
            "CHN"
           ],
           "marker": {
            "color": "#ab63fa",
            "size": [
             14.71
            ],
            "sizemode": "area",
            "sizeref": 0.0556,
            "symbol": "circle"
           },
           "mode": "markers",
           "name": "CHN",
           "showlegend": true,
           "type": "scattergeo"
          },
          {
           "geo": "geo",
           "hovertemplate": "<b>%{hovertext}</b><br><br>Country_Code=%{location}<br>Year=2008<br>GDP (in Trillions USD)=%{marker.size}<extra></extra>",
           "hovertext": [
            "IND"
           ],
           "legendgroup": "IND",
           "locations": [
            "IND"
           ],
           "marker": {
            "color": "#FFA15A",
            "size": [
             2.85
            ],
            "sizemode": "area",
            "sizeref": 0.0556,
            "symbol": "circle"
           },
           "mode": "markers",
           "name": "IND",
           "showlegend": true,
           "type": "scattergeo"
          },
          {
           "geo": "geo",
           "hovertemplate": "<b>%{hovertext}</b><br><br>Country_Code=%{location}<br>Year=2008<br>GDP (in Trillions USD)=%{marker.size}<extra></extra>",
           "hovertext": [
            "AUS"
           ],
           "legendgroup": "AUS",
           "locations": [
            "AUS"
           ],
           "marker": {
            "color": "#19d3f3",
            "size": [
             1.34
            ],
            "sizemode": "area",
            "sizeref": 0.0556,
            "symbol": "circle"
           },
           "mode": "markers",
           "name": "AUS",
           "showlegend": true,
           "type": "scattergeo"
          }
         ],
         "name": "2008"
        },
        {
         "data": [
          {
           "geo": "geo",
           "hovertemplate": "<b>%{hovertext}</b><br><br>Country_Code=%{location}<br>Year=2009<br>GDP (in Trillions USD)=%{marker.size}<extra></extra>",
           "hovertext": [
            "USA"
           ],
           "legendgroup": "USA",
           "locations": [
            "USA"
           ],
           "marker": {
            "color": "#636efa",
            "size": [
             20.38
            ],
            "sizemode": "area",
            "sizeref": 0.0556,
            "symbol": "circle"
           },
           "mode": "markers",
           "name": "USA",
           "showlegend": true,
           "type": "scattergeo"
          },
          {
           "geo": "geo",
           "hovertemplate": "<b>%{hovertext}</b><br><br>Country_Code=%{location}<br>Year=2009<br>GDP (in Trillions USD)=%{marker.size}<extra></extra>",
           "hovertext": [
            "Russia"
           ],
           "legendgroup": "Russia",
           "locations": [
            "Russia"
           ],
           "marker": {
            "color": "#EF553B",
            "size": [
             1.62
            ],
            "sizemode": "area",
            "sizeref": 0.0556,
            "symbol": "circle"
           },
           "mode": "markers",
           "name": "Russia",
           "showlegend": true,
           "type": "scattergeo"
          },
          {
           "geo": "geo",
           "hovertemplate": "<b>%{hovertext}</b><br><br>Country_Code=%{location}<br>Year=2009<br>GDP (in Trillions USD)=%{marker.size}<extra></extra>",
           "hovertext": [
            "CAN"
           ],
           "legendgroup": "CAN",
           "locations": [
            "CAN"
           ],
           "marker": {
            "color": "#00cc96",
            "size": [
             1.75
            ],
            "sizemode": "area",
            "sizeref": 0.0556,
            "symbol": "circle"
           },
           "mode": "markers",
           "name": "CAN",
           "showlegend": true,
           "type": "scattergeo"
          },
          {
           "geo": "geo",
           "hovertemplate": "<b>%{hovertext}</b><br><br>Country_Code=%{location}<br>Year=2009<br>GDP (in Trillions USD)=%{marker.size}<extra></extra>",
           "hovertext": [
            "CHN"
           ],
           "legendgroup": "CHN",
           "locations": [
            "CHN"
           ],
           "marker": {
            "color": "#ab63fa",
            "size": [
             14.3
            ],
            "sizemode": "area",
            "sizeref": 0.0556,
            "symbol": "circle"
           },
           "mode": "markers",
           "name": "CHN",
           "showlegend": true,
           "type": "scattergeo"
          },
          {
           "geo": "geo",
           "hovertemplate": "<b>%{hovertext}</b><br><br>Country_Code=%{location}<br>Year=2009<br>GDP (in Trillions USD)=%{marker.size}<extra></extra>",
           "hovertext": [
            "IND"
           ],
           "legendgroup": "IND",
           "locations": [
            "IND"
           ],
           "marker": {
            "color": "#FFA15A",
            "size": [
             2.81
            ],
            "sizemode": "area",
            "sizeref": 0.0556,
            "symbol": "circle"
           },
           "mode": "markers",
           "name": "IND",
           "showlegend": true,
           "type": "scattergeo"
          },
          {
           "geo": "geo",
           "hovertemplate": "<b>%{hovertext}</b><br><br>Country_Code=%{location}<br>Year=2009<br>GDP (in Trillions USD)=%{marker.size}<extra></extra>",
           "hovertext": [
            "AUS"
           ],
           "legendgroup": "AUS",
           "locations": [
            "AUS"
           ],
           "marker": {
            "color": "#19d3f3",
            "size": [
             1.37
            ],
            "sizemode": "area",
            "sizeref": 0.0556,
            "symbol": "circle"
           },
           "mode": "markers",
           "name": "AUS",
           "showlegend": true,
           "type": "scattergeo"
          }
         ],
         "name": "2009"
        },
        {
         "data": [
          {
           "geo": "geo",
           "hovertemplate": "<b>%{hovertext}</b><br><br>Country_Code=%{location}<br>Year=2010<br>GDP (in Trillions USD)=%{marker.size}<extra></extra>",
           "hovertext": [
            "USA"
           ],
           "legendgroup": "USA",
           "locations": [
            "USA"
           ],
           "marker": {
            "color": "#636efa",
            "size": [
             21.86
            ],
            "sizemode": "area",
            "sizeref": 0.0556,
            "symbol": "circle"
           },
           "mode": "markers",
           "name": "USA",
           "showlegend": true,
           "type": "scattergeo"
          },
          {
           "geo": "geo",
           "hovertemplate": "<b>%{hovertext}</b><br><br>Country_Code=%{location}<br>Year=2010<br>GDP (in Trillions USD)=%{marker.size}<extra></extra>",
           "hovertext": [
            "Russia"
           ],
           "legendgroup": "Russia",
           "locations": [
            "Russia"
           ],
           "marker": {
            "color": "#EF553B",
            "size": [
             1.63
            ],
            "sizemode": "area",
            "sizeref": 0.0556,
            "symbol": "circle"
           },
           "mode": "markers",
           "name": "Russia",
           "showlegend": true,
           "type": "scattergeo"
          },
          {
           "geo": "geo",
           "hovertemplate": "<b>%{hovertext}</b><br><br>Country_Code=%{location}<br>Year=2010<br>GDP (in Trillions USD)=%{marker.size}<extra></extra>",
           "hovertext": [
            "CAN"
           ],
           "legendgroup": "CAN",
           "locations": [
            "CAN"
           ],
           "marker": {
            "color": "#00cc96",
            "size": [
             1.82
            ],
            "sizemode": "area",
            "sizeref": 0.0556,
            "symbol": "circle"
           },
           "mode": "markers",
           "name": "CAN",
           "showlegend": true,
           "type": "scattergeo"
          },
          {
           "geo": "geo",
           "hovertemplate": "<b>%{hovertext}</b><br><br>Country_Code=%{location}<br>Year=2010<br>GDP (in Trillions USD)=%{marker.size}<extra></extra>",
           "hovertext": [
            "CHN"
           ],
           "legendgroup": "CHN",
           "locations": [
            "CHN"
           ],
           "marker": {
            "color": "#ab63fa",
            "size": [
             14.87
            ],
            "sizemode": "area",
            "sizeref": 0.0556,
            "symbol": "circle"
           },
           "mode": "markers",
           "name": "CHN",
           "showlegend": true,
           "type": "scattergeo"
          },
          {
           "geo": "geo",
           "hovertemplate": "<b>%{hovertext}</b><br><br>Country_Code=%{location}<br>Year=2010<br>GDP (in Trillions USD)=%{marker.size}<extra></extra>",
           "hovertext": [
            "IND"
           ],
           "legendgroup": "IND",
           "locations": [
            "IND"
           ],
           "marker": {
            "color": "#FFA15A",
            "size": [
             2.86
            ],
            "sizemode": "area",
            "sizeref": 0.0556,
            "symbol": "circle"
           },
           "mode": "markers",
           "name": "IND",
           "showlegend": true,
           "type": "scattergeo"
          },
          {
           "geo": "geo",
           "hovertemplate": "<b>%{hovertext}</b><br><br>Country_Code=%{location}<br>Year=2010<br>GDP (in Trillions USD)=%{marker.size}<extra></extra>",
           "hovertext": [
            "AUS"
           ],
           "legendgroup": "AUS",
           "locations": [
            "AUS"
           ],
           "marker": {
            "color": "#19d3f3",
            "size": [
             1.35
            ],
            "sizemode": "area",
            "sizeref": 0.0556,
            "symbol": "circle"
           },
           "mode": "markers",
           "name": "AUS",
           "showlegend": true,
           "type": "scattergeo"
          }
         ],
         "name": "2010"
        },
        {
         "data": [
          {
           "geo": "geo",
           "hovertemplate": "<b>%{hovertext}</b><br><br>Country_Code=%{location}<br>Year=2011<br>GDP (in Trillions USD)=%{marker.size}<extra></extra>",
           "hovertext": [
            "USA"
           ],
           "legendgroup": "USA",
           "locations": [
            "USA"
           ],
           "marker": {
            "color": "#636efa",
            "size": [
             21.47
            ],
            "sizemode": "area",
            "sizeref": 0.0556,
            "symbol": "circle"
           },
           "mode": "markers",
           "name": "USA",
           "showlegend": true,
           "type": "scattergeo"
          },
          {
           "geo": "geo",
           "hovertemplate": "<b>%{hovertext}</b><br><br>Country_Code=%{location}<br>Year=2011<br>GDP (in Trillions USD)=%{marker.size}<extra></extra>",
           "hovertext": [
            "Russia"
           ],
           "legendgroup": "Russia",
           "locations": [
            "Russia"
           ],
           "marker": {
            "color": "#EF553B",
            "size": [
             1.64
            ],
            "sizemode": "area",
            "sizeref": 0.0556,
            "symbol": "circle"
           },
           "mode": "markers",
           "name": "Russia",
           "showlegend": true,
           "type": "scattergeo"
          },
          {
           "geo": "geo",
           "hovertemplate": "<b>%{hovertext}</b><br><br>Country_Code=%{location}<br>Year=2011<br>GDP (in Trillions USD)=%{marker.size}<extra></extra>",
           "hovertext": [
            "CAN"
           ],
           "legendgroup": "CAN",
           "locations": [
            "CAN"
           ],
           "marker": {
            "color": "#00cc96",
            "size": [
             1.74
            ],
            "sizemode": "area",
            "sizeref": 0.0556,
            "symbol": "circle"
           },
           "mode": "markers",
           "name": "CAN",
           "showlegend": true,
           "type": "scattergeo"
          },
          {
           "geo": "geo",
           "hovertemplate": "<b>%{hovertext}</b><br><br>Country_Code=%{location}<br>Year=2011<br>GDP (in Trillions USD)=%{marker.size}<extra></extra>",
           "hovertext": [
            "CHN"
           ],
           "legendgroup": "CHN",
           "locations": [
            "CHN"
           ],
           "marker": {
            "color": "#ab63fa",
            "size": [
             14.66
            ],
            "sizemode": "area",
            "sizeref": 0.0556,
            "symbol": "circle"
           },
           "mode": "markers",
           "name": "CHN",
           "showlegend": true,
           "type": "scattergeo"
          },
          {
           "geo": "geo",
           "hovertemplate": "<b>%{hovertext}</b><br><br>Country_Code=%{location}<br>Year=2011<br>GDP (in Trillions USD)=%{marker.size}<extra></extra>",
           "hovertext": [
            "IND"
           ],
           "legendgroup": "IND",
           "locations": [
            "IND"
           ],
           "marker": {
            "color": "#FFA15A",
            "size": [
             2.81
            ],
            "sizemode": "area",
            "sizeref": 0.0556,
            "symbol": "circle"
           },
           "mode": "markers",
           "name": "IND",
           "showlegend": true,
           "type": "scattergeo"
          },
          {
           "geo": "geo",
           "hovertemplate": "<b>%{hovertext}</b><br><br>Country_Code=%{location}<br>Year=2011<br>GDP (in Trillions USD)=%{marker.size}<extra></extra>",
           "hovertext": [
            "AUS"
           ],
           "legendgroup": "AUS",
           "locations": [
            "AUS"
           ],
           "marker": {
            "color": "#19d3f3",
            "size": [
             1.33
            ],
            "sizemode": "area",
            "sizeref": 0.0556,
            "symbol": "circle"
           },
           "mode": "markers",
           "name": "AUS",
           "showlegend": true,
           "type": "scattergeo"
          }
         ],
         "name": "2011"
        },
        {
         "data": [
          {
           "geo": "geo",
           "hovertemplate": "<b>%{hovertext}</b><br><br>Country_Code=%{location}<br>Year=2012<br>GDP (in Trillions USD)=%{marker.size}<extra></extra>",
           "hovertext": [
            "USA"
           ],
           "legendgroup": "USA",
           "locations": [
            "USA"
           ],
           "marker": {
            "color": "#636efa",
            "size": [
             21.9
            ],
            "sizemode": "area",
            "sizeref": 0.0556,
            "symbol": "circle"
           },
           "mode": "markers",
           "name": "USA",
           "showlegend": true,
           "type": "scattergeo"
          },
          {
           "geo": "geo",
           "hovertemplate": "<b>%{hovertext}</b><br><br>Country_Code=%{location}<br>Year=2012<br>GDP (in Trillions USD)=%{marker.size}<extra></extra>",
           "hovertext": [
            "Russia"
           ],
           "legendgroup": "Russia",
           "locations": [
            "Russia"
           ],
           "marker": {
            "color": "#EF553B",
            "size": [
             1.63
            ],
            "sizemode": "area",
            "sizeref": 0.0556,
            "symbol": "circle"
           },
           "mode": "markers",
           "name": "Russia",
           "showlegend": true,
           "type": "scattergeo"
          },
          {
           "geo": "geo",
           "hovertemplate": "<b>%{hovertext}</b><br><br>Country_Code=%{location}<br>Year=2012<br>GDP (in Trillions USD)=%{marker.size}<extra></extra>",
           "hovertext": [
            "CAN"
           ],
           "legendgroup": "CAN",
           "locations": [
            "CAN"
           ],
           "marker": {
            "color": "#00cc96",
            "size": [
             1.8
            ],
            "sizemode": "area",
            "sizeref": 0.0556,
            "symbol": "circle"
           },
           "mode": "markers",
           "name": "CAN",
           "showlegend": true,
           "type": "scattergeo"
          },
          {
           "geo": "geo",
           "hovertemplate": "<b>%{hovertext}</b><br><br>Country_Code=%{location}<br>Year=2012<br>GDP (in Trillions USD)=%{marker.size}<extra></extra>",
           "hovertext": [
            "CHN"
           ],
           "legendgroup": "CHN",
           "locations": [
            "CHN"
           ],
           "marker": {
            "color": "#ab63fa",
            "size": [
             13.97
            ],
            "sizemode": "area",
            "sizeref": 0.0556,
            "symbol": "circle"
           },
           "mode": "markers",
           "name": "CHN",
           "showlegend": true,
           "type": "scattergeo"
          },
          {
           "geo": "geo",
           "hovertemplate": "<b>%{hovertext}</b><br><br>Country_Code=%{location}<br>Year=2012<br>GDP (in Trillions USD)=%{marker.size}<extra></extra>",
           "hovertext": [
            "IND"
           ],
           "legendgroup": "IND",
           "locations": [
            "IND"
           ],
           "marker": {
            "color": "#FFA15A",
            "size": [
             2.98
            ],
            "sizemode": "area",
            "sizeref": 0.0556,
            "symbol": "circle"
           },
           "mode": "markers",
           "name": "IND",
           "showlegend": true,
           "type": "scattergeo"
          },
          {
           "geo": "geo",
           "hovertemplate": "<b>%{hovertext}</b><br><br>Country_Code=%{location}<br>Year=2012<br>GDP (in Trillions USD)=%{marker.size}<extra></extra>",
           "hovertext": [
            "AUS"
           ],
           "legendgroup": "AUS",
           "locations": [
            "AUS"
           ],
           "marker": {
            "color": "#19d3f3",
            "size": [
             1.29
            ],
            "sizemode": "area",
            "sizeref": 0.0556,
            "symbol": "circle"
           },
           "mode": "markers",
           "name": "AUS",
           "showlegend": true,
           "type": "scattergeo"
          }
         ],
         "name": "2012"
        },
        {
         "data": [
          {
           "geo": "geo",
           "hovertemplate": "<b>%{hovertext}</b><br><br>Country_Code=%{location}<br>Year=2013<br>GDP (in Trillions USD)=%{marker.size}<extra></extra>",
           "hovertext": [
            "USA"
           ],
           "legendgroup": "USA",
           "locations": [
            "USA"
           ],
           "marker": {
            "color": "#636efa",
            "size": [
             21.17
            ],
            "sizemode": "area",
            "sizeref": 0.0556,
            "symbol": "circle"
           },
           "mode": "markers",
           "name": "USA",
           "showlegend": true,
           "type": "scattergeo"
          },
          {
           "geo": "geo",
           "hovertemplate": "<b>%{hovertext}</b><br><br>Country_Code=%{location}<br>Year=2013<br>GDP (in Trillions USD)=%{marker.size}<extra></extra>",
           "hovertext": [
            "Russia"
           ],
           "legendgroup": "Russia",
           "locations": [
            "Russia"
           ],
           "marker": {
            "color": "#EF553B",
            "size": [
             1.56
            ],
            "sizemode": "area",
            "sizeref": 0.0556,
            "symbol": "circle"
           },
           "mode": "markers",
           "name": "Russia",
           "showlegend": true,
           "type": "scattergeo"
          },
          {
           "geo": "geo",
           "hovertemplate": "<b>%{hovertext}</b><br><br>Country_Code=%{location}<br>Year=2013<br>GDP (in Trillions USD)=%{marker.size}<extra></extra>",
           "hovertext": [
            "CAN"
           ],
           "legendgroup": "CAN",
           "locations": [
            "CAN"
           ],
           "marker": {
            "color": "#00cc96",
            "size": [
             1.79
            ],
            "sizemode": "area",
            "sizeref": 0.0556,
            "symbol": "circle"
           },
           "mode": "markers",
           "name": "CAN",
           "showlegend": true,
           "type": "scattergeo"
          },
          {
           "geo": "geo",
           "hovertemplate": "<b>%{hovertext}</b><br><br>Country_Code=%{location}<br>Year=2013<br>GDP (in Trillions USD)=%{marker.size}<extra></extra>",
           "hovertext": [
            "CHN"
           ],
           "legendgroup": "CHN",
           "locations": [
            "CHN"
           ],
           "marker": {
            "color": "#ab63fa",
            "size": [
             14.44
            ],
            "sizemode": "area",
            "sizeref": 0.0556,
            "symbol": "circle"
           },
           "mode": "markers",
           "name": "CHN",
           "showlegend": true,
           "type": "scattergeo"
          },
          {
           "geo": "geo",
           "hovertemplate": "<b>%{hovertext}</b><br><br>Country_Code=%{location}<br>Year=2013<br>GDP (in Trillions USD)=%{marker.size}<extra></extra>",
           "hovertext": [
            "IND"
           ],
           "legendgroup": "IND",
           "locations": [
            "IND"
           ],
           "marker": {
            "color": "#FFA15A",
            "size": [
             2.96
            ],
            "sizemode": "area",
            "sizeref": 0.0556,
            "symbol": "circle"
           },
           "mode": "markers",
           "name": "IND",
           "showlegend": true,
           "type": "scattergeo"
          },
          {
           "geo": "geo",
           "hovertemplate": "<b>%{hovertext}</b><br><br>Country_Code=%{location}<br>Year=2013<br>GDP (in Trillions USD)=%{marker.size}<extra></extra>",
           "hovertext": [
            "AUS"
           ],
           "legendgroup": "AUS",
           "locations": [
            "AUS"
           ],
           "marker": {
            "color": "#19d3f3",
            "size": [
             1.3
            ],
            "sizemode": "area",
            "sizeref": 0.0556,
            "symbol": "circle"
           },
           "mode": "markers",
           "name": "AUS",
           "showlegend": true,
           "type": "scattergeo"
          }
         ],
         "name": "2013"
        },
        {
         "data": [
          {
           "geo": "geo",
           "hovertemplate": "<b>%{hovertext}</b><br><br>Country_Code=%{location}<br>Year=2014<br>GDP (in Trillions USD)=%{marker.size}<extra></extra>",
           "hovertext": [
            "USA"
           ],
           "legendgroup": "USA",
           "locations": [
            "USA"
           ],
           "marker": {
            "color": "#636efa",
            "size": [
             21.49
            ],
            "sizemode": "area",
            "sizeref": 0.0556,
            "symbol": "circle"
           },
           "mode": "markers",
           "name": "USA",
           "showlegend": true,
           "type": "scattergeo"
          },
          {
           "geo": "geo",
           "hovertemplate": "<b>%{hovertext}</b><br><br>Country_Code=%{location}<br>Year=2014<br>GDP (in Trillions USD)=%{marker.size}<extra></extra>",
           "hovertext": [
            "Russia"
           ],
           "legendgroup": "Russia",
           "locations": [
            "Russia"
           ],
           "marker": {
            "color": "#EF553B",
            "size": [
             1.57
            ],
            "sizemode": "area",
            "sizeref": 0.0556,
            "symbol": "circle"
           },
           "mode": "markers",
           "name": "Russia",
           "showlegend": true,
           "type": "scattergeo"
          },
          {
           "geo": "geo",
           "hovertemplate": "<b>%{hovertext}</b><br><br>Country_Code=%{location}<br>Year=2014<br>GDP (in Trillions USD)=%{marker.size}<extra></extra>",
           "hovertext": [
            "CAN"
           ],
           "legendgroup": "CAN",
           "locations": [
            "CAN"
           ],
           "marker": {
            "color": "#00cc96",
            "size": [
             1.74
            ],
            "sizemode": "area",
            "sizeref": 0.0556,
            "symbol": "circle"
           },
           "mode": "markers",
           "name": "CAN",
           "showlegend": true,
           "type": "scattergeo"
          },
          {
           "geo": "geo",
           "hovertemplate": "<b>%{hovertext}</b><br><br>Country_Code=%{location}<br>Year=2014<br>GDP (in Trillions USD)=%{marker.size}<extra></extra>",
           "hovertext": [
            "CHN"
           ],
           "legendgroup": "CHN",
           "locations": [
            "CHN"
           ],
           "marker": {
            "color": "#ab63fa",
            "size": [
             14.24
            ],
            "sizemode": "area",
            "sizeref": 0.0556,
            "symbol": "circle"
           },
           "mode": "markers",
           "name": "CHN",
           "showlegend": true,
           "type": "scattergeo"
          },
          {
           "geo": "geo",
           "hovertemplate": "<b>%{hovertext}</b><br><br>Country_Code=%{location}<br>Year=2014<br>GDP (in Trillions USD)=%{marker.size}<extra></extra>",
           "hovertext": [
            "IND"
           ],
           "legendgroup": "IND",
           "locations": [
            "IND"
           ],
           "marker": {
            "color": "#FFA15A",
            "size": [
             2.73
            ],
            "sizemode": "area",
            "sizeref": 0.0556,
            "symbol": "circle"
           },
           "mode": "markers",
           "name": "IND",
           "showlegend": true,
           "type": "scattergeo"
          },
          {
           "geo": "geo",
           "hovertemplate": "<b>%{hovertext}</b><br><br>Country_Code=%{location}<br>Year=2014<br>GDP (in Trillions USD)=%{marker.size}<extra></extra>",
           "hovertext": [
            "AUS"
           ],
           "legendgroup": "AUS",
           "locations": [
            "AUS"
           ],
           "marker": {
            "color": "#19d3f3",
            "size": [
             1.32
            ],
            "sizemode": "area",
            "sizeref": 0.0556,
            "symbol": "circle"
           },
           "mode": "markers",
           "name": "AUS",
           "showlegend": true,
           "type": "scattergeo"
          }
         ],
         "name": "2014"
        },
        {
         "data": [
          {
           "geo": "geo",
           "hovertemplate": "<b>%{hovertext}</b><br><br>Country_Code=%{location}<br>Year=2015<br>GDP (in Trillions USD)=%{marker.size}<extra></extra>",
           "hovertext": [
            "USA"
           ],
           "legendgroup": "USA",
           "locations": [
            "USA"
           ],
           "marker": {
            "color": "#636efa",
            "size": [
             20.72
            ],
            "sizemode": "area",
            "sizeref": 0.0556,
            "symbol": "circle"
           },
           "mode": "markers",
           "name": "USA",
           "showlegend": true,
           "type": "scattergeo"
          },
          {
           "geo": "geo",
           "hovertemplate": "<b>%{hovertext}</b><br><br>Country_Code=%{location}<br>Year=2015<br>GDP (in Trillions USD)=%{marker.size}<extra></extra>",
           "hovertext": [
            "Russia"
           ],
           "legendgroup": "Russia",
           "locations": [
            "Russia"
           ],
           "marker": {
            "color": "#EF553B",
            "size": [
             1.63
            ],
            "sizemode": "area",
            "sizeref": 0.0556,
            "symbol": "circle"
           },
           "mode": "markers",
           "name": "Russia",
           "showlegend": true,
           "type": "scattergeo"
          },
          {
           "geo": "geo",
           "hovertemplate": "<b>%{hovertext}</b><br><br>Country_Code=%{location}<br>Year=2015<br>GDP (in Trillions USD)=%{marker.size}<extra></extra>",
           "hovertext": [
            "CAN"
           ],
           "legendgroup": "CAN",
           "locations": [
            "CAN"
           ],
           "marker": {
            "color": "#00cc96",
            "size": [
             1.75
            ],
            "sizemode": "area",
            "sizeref": 0.0556,
            "symbol": "circle"
           },
           "mode": "markers",
           "name": "CAN",
           "showlegend": true,
           "type": "scattergeo"
          },
          {
           "geo": "geo",
           "hovertemplate": "<b>%{hovertext}</b><br><br>Country_Code=%{location}<br>Year=2015<br>GDP (in Trillions USD)=%{marker.size}<extra></extra>",
           "hovertext": [
            "CHN"
           ],
           "legendgroup": "CHN",
           "locations": [
            "CHN"
           ],
           "marker": {
            "color": "#ab63fa",
            "size": [
             14.02
            ],
            "sizemode": "area",
            "sizeref": 0.0556,
            "symbol": "circle"
           },
           "mode": "markers",
           "name": "CHN",
           "showlegend": true,
           "type": "scattergeo"
          },
          {
           "geo": "geo",
           "hovertemplate": "<b>%{hovertext}</b><br><br>Country_Code=%{location}<br>Year=2015<br>GDP (in Trillions USD)=%{marker.size}<extra></extra>",
           "hovertext": [
            "IND"
           ],
           "legendgroup": "IND",
           "locations": [
            "IND"
           ],
           "marker": {
            "color": "#FFA15A",
            "size": [
             2.84
            ],
            "sizemode": "area",
            "sizeref": 0.0556,
            "symbol": "circle"
           },
           "mode": "markers",
           "name": "IND",
           "showlegend": true,
           "type": "scattergeo"
          },
          {
           "geo": "geo",
           "hovertemplate": "<b>%{hovertext}</b><br><br>Country_Code=%{location}<br>Year=2015<br>GDP (in Trillions USD)=%{marker.size}<extra></extra>",
           "hovertext": [
            "AUS"
           ],
           "legendgroup": "AUS",
           "locations": [
            "AUS"
           ],
           "marker": {
            "color": "#19d3f3",
            "size": [
             1.34
            ],
            "sizemode": "area",
            "sizeref": 0.0556,
            "symbol": "circle"
           },
           "mode": "markers",
           "name": "AUS",
           "showlegend": true,
           "type": "scattergeo"
          }
         ],
         "name": "2015"
        },
        {
         "data": [
          {
           "geo": "geo",
           "hovertemplate": "<b>%{hovertext}</b><br><br>Country_Code=%{location}<br>Year=2016<br>GDP (in Trillions USD)=%{marker.size}<extra></extra>",
           "hovertext": [
            "USA"
           ],
           "legendgroup": "USA",
           "locations": [
            "USA"
           ],
           "marker": {
            "color": "#636efa",
            "size": [
             20.4
            ],
            "sizemode": "area",
            "sizeref": 0.0556,
            "symbol": "circle"
           },
           "mode": "markers",
           "name": "USA",
           "showlegend": true,
           "type": "scattergeo"
          },
          {
           "geo": "geo",
           "hovertemplate": "<b>%{hovertext}</b><br><br>Country_Code=%{location}<br>Year=2016<br>GDP (in Trillions USD)=%{marker.size}<extra></extra>",
           "hovertext": [
            "Russia"
           ],
           "legendgroup": "Russia",
           "locations": [
            "Russia"
           ],
           "marker": {
            "color": "#EF553B",
            "size": [
             1.62
            ],
            "sizemode": "area",
            "sizeref": 0.0556,
            "symbol": "circle"
           },
           "mode": "markers",
           "name": "Russia",
           "showlegend": true,
           "type": "scattergeo"
          },
          {
           "geo": "geo",
           "hovertemplate": "<b>%{hovertext}</b><br><br>Country_Code=%{location}<br>Year=2016<br>GDP (in Trillions USD)=%{marker.size}<extra></extra>",
           "hovertext": [
            "CAN"
           ],
           "legendgroup": "CAN",
           "locations": [
            "CAN"
           ],
           "marker": {
            "color": "#00cc96",
            "size": [
             1.71
            ],
            "sizemode": "area",
            "sizeref": 0.0556,
            "symbol": "circle"
           },
           "mode": "markers",
           "name": "CAN",
           "showlegend": true,
           "type": "scattergeo"
          },
          {
           "geo": "geo",
           "hovertemplate": "<b>%{hovertext}</b><br><br>Country_Code=%{location}<br>Year=2016<br>GDP (in Trillions USD)=%{marker.size}<extra></extra>",
           "hovertext": [
            "CHN"
           ],
           "legendgroup": "CHN",
           "locations": [
            "CHN"
           ],
           "marker": {
            "color": "#ab63fa",
            "size": [
             14.34
            ],
            "sizemode": "area",
            "sizeref": 0.0556,
            "symbol": "circle"
           },
           "mode": "markers",
           "name": "CHN",
           "showlegend": true,
           "type": "scattergeo"
          },
          {
           "geo": "geo",
           "hovertemplate": "<b>%{hovertext}</b><br><br>Country_Code=%{location}<br>Year=2016<br>GDP (in Trillions USD)=%{marker.size}<extra></extra>",
           "hovertext": [
            "IND"
           ],
           "legendgroup": "IND",
           "locations": [
            "IND"
           ],
           "marker": {
            "color": "#FFA15A",
            "size": [
             2.97
            ],
            "sizemode": "area",
            "sizeref": 0.0556,
            "symbol": "circle"
           },
           "mode": "markers",
           "name": "IND",
           "showlegend": true,
           "type": "scattergeo"
          },
          {
           "geo": "geo",
           "hovertemplate": "<b>%{hovertext}</b><br><br>Country_Code=%{location}<br>Year=2016<br>GDP (in Trillions USD)=%{marker.size}<extra></extra>",
           "hovertext": [
            "AUS"
           ],
           "legendgroup": "AUS",
           "locations": [
            "AUS"
           ],
           "marker": {
            "color": "#19d3f3",
            "size": [
             1.29
            ],
            "sizemode": "area",
            "sizeref": 0.0556,
            "symbol": "circle"
           },
           "mode": "markers",
           "name": "AUS",
           "showlegend": true,
           "type": "scattergeo"
          }
         ],
         "name": "2016"
        },
        {
         "data": [
          {
           "geo": "geo",
           "hovertemplate": "<b>%{hovertext}</b><br><br>Country_Code=%{location}<br>Year=2017<br>GDP (in Trillions USD)=%{marker.size}<extra></extra>",
           "hovertext": [
            "USA"
           ],
           "legendgroup": "USA",
           "locations": [
            "USA"
           ],
           "marker": {
            "color": "#636efa",
            "size": [
             22.18
            ],
            "sizemode": "area",
            "sizeref": 0.0556,
            "symbol": "circle"
           },
           "mode": "markers",
           "name": "USA",
           "showlegend": true,
           "type": "scattergeo"
          },
          {
           "geo": "geo",
           "hovertemplate": "<b>%{hovertext}</b><br><br>Country_Code=%{location}<br>Year=2017<br>GDP (in Trillions USD)=%{marker.size}<extra></extra>",
           "hovertext": [
            "Russia"
           ],
           "legendgroup": "Russia",
           "locations": [
            "Russia"
           ],
           "marker": {
            "color": "#EF553B",
            "size": [
             1.64
            ],
            "sizemode": "area",
            "sizeref": 0.0556,
            "symbol": "circle"
           },
           "mode": "markers",
           "name": "Russia",
           "showlegend": true,
           "type": "scattergeo"
          },
          {
           "geo": "geo",
           "hovertemplate": "<b>%{hovertext}</b><br><br>Country_Code=%{location}<br>Year=2017<br>GDP (in Trillions USD)=%{marker.size}<extra></extra>",
           "hovertext": [
            "CAN"
           ],
           "legendgroup": "CAN",
           "locations": [
            "CAN"
           ],
           "marker": {
            "color": "#00cc96",
            "size": [
             1.75
            ],
            "sizemode": "area",
            "sizeref": 0.0556,
            "symbol": "circle"
           },
           "mode": "markers",
           "name": "CAN",
           "showlegend": true,
           "type": "scattergeo"
          },
          {
           "geo": "geo",
           "hovertemplate": "<b>%{hovertext}</b><br><br>Country_Code=%{location}<br>Year=2017<br>GDP (in Trillions USD)=%{marker.size}<extra></extra>",
           "hovertext": [
            "CHN"
           ],
           "legendgroup": "CHN",
           "locations": [
            "CHN"
           ],
           "marker": {
            "color": "#ab63fa",
            "size": [
             14.51
            ],
            "sizemode": "area",
            "sizeref": 0.0556,
            "symbol": "circle"
           },
           "mode": "markers",
           "name": "CHN",
           "showlegend": true,
           "type": "scattergeo"
          },
          {
           "geo": "geo",
           "hovertemplate": "<b>%{hovertext}</b><br><br>Country_Code=%{location}<br>Year=2017<br>GDP (in Trillions USD)=%{marker.size}<extra></extra>",
           "hovertext": [
            "IND"
           ],
           "legendgroup": "IND",
           "locations": [
            "IND"
           ],
           "marker": {
            "color": "#FFA15A",
            "size": [
             2.93
            ],
            "sizemode": "area",
            "sizeref": 0.0556,
            "symbol": "circle"
           },
           "mode": "markers",
           "name": "IND",
           "showlegend": true,
           "type": "scattergeo"
          },
          {
           "geo": "geo",
           "hovertemplate": "<b>%{hovertext}</b><br><br>Country_Code=%{location}<br>Year=2017<br>GDP (in Trillions USD)=%{marker.size}<extra></extra>",
           "hovertext": [
            "AUS"
           ],
           "legendgroup": "AUS",
           "locations": [
            "AUS"
           ],
           "marker": {
            "color": "#19d3f3",
            "size": [
             1.4
            ],
            "sizemode": "area",
            "sizeref": 0.0556,
            "symbol": "circle"
           },
           "mode": "markers",
           "name": "AUS",
           "showlegend": true,
           "type": "scattergeo"
          }
         ],
         "name": "2017"
        },
        {
         "data": [
          {
           "geo": "geo",
           "hovertemplate": "<b>%{hovertext}</b><br><br>Country_Code=%{location}<br>Year=2018<br>GDP (in Trillions USD)=%{marker.size}<extra></extra>",
           "hovertext": [
            "USA"
           ],
           "legendgroup": "USA",
           "locations": [
            "USA"
           ],
           "marker": {
            "color": "#636efa",
            "size": [
             22.24
            ],
            "sizemode": "area",
            "sizeref": 0.0556,
            "symbol": "circle"
           },
           "mode": "markers",
           "name": "USA",
           "showlegend": true,
           "type": "scattergeo"
          },
          {
           "geo": "geo",
           "hovertemplate": "<b>%{hovertext}</b><br><br>Country_Code=%{location}<br>Year=2018<br>GDP (in Trillions USD)=%{marker.size}<extra></extra>",
           "hovertext": [
            "Russia"
           ],
           "legendgroup": "Russia",
           "locations": [
            "Russia"
           ],
           "marker": {
            "color": "#EF553B",
            "size": [
             1.58
            ],
            "sizemode": "area",
            "sizeref": 0.0556,
            "symbol": "circle"
           },
           "mode": "markers",
           "name": "Russia",
           "showlegend": true,
           "type": "scattergeo"
          },
          {
           "geo": "geo",
           "hovertemplate": "<b>%{hovertext}</b><br><br>Country_Code=%{location}<br>Year=2018<br>GDP (in Trillions USD)=%{marker.size}<extra></extra>",
           "hovertext": [
            "CAN"
           ],
           "legendgroup": "CAN",
           "locations": [
            "CAN"
           ],
           "marker": {
            "color": "#00cc96",
            "size": [
             1.66
            ],
            "sizemode": "area",
            "sizeref": 0.0556,
            "symbol": "circle"
           },
           "mode": "markers",
           "name": "CAN",
           "showlegend": true,
           "type": "scattergeo"
          },
          {
           "geo": "geo",
           "hovertemplate": "<b>%{hovertext}</b><br><br>Country_Code=%{location}<br>Year=2018<br>GDP (in Trillions USD)=%{marker.size}<extra></extra>",
           "hovertext": [
            "CHN"
           ],
           "legendgroup": "CHN",
           "locations": [
            "CHN"
           ],
           "marker": {
            "color": "#ab63fa",
            "size": [
             14.23
            ],
            "sizemode": "area",
            "sizeref": 0.0556,
            "symbol": "circle"
           },
           "mode": "markers",
           "name": "CHN",
           "showlegend": true,
           "type": "scattergeo"
          },
          {
           "geo": "geo",
           "hovertemplate": "<b>%{hovertext}</b><br><br>Country_Code=%{location}<br>Year=2018<br>GDP (in Trillions USD)=%{marker.size}<extra></extra>",
           "hovertext": [
            "IND"
           ],
           "legendgroup": "IND",
           "locations": [
            "IND"
           ],
           "marker": {
            "color": "#FFA15A",
            "size": [
             2.84
            ],
            "sizemode": "area",
            "sizeref": 0.0556,
            "symbol": "circle"
           },
           "mode": "markers",
           "name": "IND",
           "showlegend": true,
           "type": "scattergeo"
          },
          {
           "geo": "geo",
           "hovertemplate": "<b>%{hovertext}</b><br><br>Country_Code=%{location}<br>Year=2018<br>GDP (in Trillions USD)=%{marker.size}<extra></extra>",
           "hovertext": [
            "AUS"
           ],
           "legendgroup": "AUS",
           "locations": [
            "AUS"
           ],
           "marker": {
            "color": "#19d3f3",
            "size": [
             1.3
            ],
            "sizemode": "area",
            "sizeref": 0.0556,
            "symbol": "circle"
           },
           "mode": "markers",
           "name": "AUS",
           "showlegend": true,
           "type": "scattergeo"
          }
         ],
         "name": "2018"
        },
        {
         "data": [
          {
           "geo": "geo",
           "hovertemplate": "<b>%{hovertext}</b><br><br>Country_Code=%{location}<br>Year=2019<br>GDP (in Trillions USD)=%{marker.size}<extra></extra>",
           "hovertext": [
            "USA"
           ],
           "legendgroup": "USA",
           "locations": [
            "USA"
           ],
           "marker": {
            "color": "#636efa",
            "size": [
             21.52
            ],
            "sizemode": "area",
            "sizeref": 0.0556,
            "symbol": "circle"
           },
           "mode": "markers",
           "name": "USA",
           "showlegend": true,
           "type": "scattergeo"
          },
          {
           "geo": "geo",
           "hovertemplate": "<b>%{hovertext}</b><br><br>Country_Code=%{location}<br>Year=2019<br>GDP (in Trillions USD)=%{marker.size}<extra></extra>",
           "hovertext": [
            "Russia"
           ],
           "legendgroup": "Russia",
           "locations": [
            "Russia"
           ],
           "marker": {
            "color": "#EF553B",
            "size": [
             1.59
            ],
            "sizemode": "area",
            "sizeref": 0.0556,
            "symbol": "circle"
           },
           "mode": "markers",
           "name": "Russia",
           "showlegend": true,
           "type": "scattergeo"
          },
          {
           "geo": "geo",
           "hovertemplate": "<b>%{hovertext}</b><br><br>Country_Code=%{location}<br>Year=2019<br>GDP (in Trillions USD)=%{marker.size}<extra></extra>",
           "hovertext": [
            "CAN"
           ],
           "legendgroup": "CAN",
           "locations": [
            "CAN"
           ],
           "marker": {
            "color": "#00cc96",
            "size": [
             1.81
            ],
            "sizemode": "area",
            "sizeref": 0.0556,
            "symbol": "circle"
           },
           "mode": "markers",
           "name": "CAN",
           "showlegend": true,
           "type": "scattergeo"
          },
          {
           "geo": "geo",
           "hovertemplate": "<b>%{hovertext}</b><br><br>Country_Code=%{location}<br>Year=2019<br>GDP (in Trillions USD)=%{marker.size}<extra></extra>",
           "hovertext": [
            "CHN"
           ],
           "legendgroup": "CHN",
           "locations": [
            "CHN"
           ],
           "marker": {
            "color": "#ab63fa",
            "size": [
             14.77
            ],
            "sizemode": "area",
            "sizeref": 0.0556,
            "symbol": "circle"
           },
           "mode": "markers",
           "name": "CHN",
           "showlegend": true,
           "type": "scattergeo"
          },
          {
           "geo": "geo",
           "hovertemplate": "<b>%{hovertext}</b><br><br>Country_Code=%{location}<br>Year=2019<br>GDP (in Trillions USD)=%{marker.size}<extra></extra>",
           "hovertext": [
            "IND"
           ],
           "legendgroup": "IND",
           "locations": [
            "IND"
           ],
           "marker": {
            "color": "#FFA15A",
            "size": [
             2.92
            ],
            "sizemode": "area",
            "sizeref": 0.0556,
            "symbol": "circle"
           },
           "mode": "markers",
           "name": "IND",
           "showlegend": true,
           "type": "scattergeo"
          },
          {
           "geo": "geo",
           "hovertemplate": "<b>%{hovertext}</b><br><br>Country_Code=%{location}<br>Year=2019<br>GDP (in Trillions USD)=%{marker.size}<extra></extra>",
           "hovertext": [
            "AUS"
           ],
           "legendgroup": "AUS",
           "locations": [
            "AUS"
           ],
           "marker": {
            "color": "#19d3f3",
            "size": [
             1.39
            ],
            "sizemode": "area",
            "sizeref": 0.0556,
            "symbol": "circle"
           },
           "mode": "markers",
           "name": "AUS",
           "showlegend": true,
           "type": "scattergeo"
          }
         ],
         "name": "2019"
        },
        {
         "data": [
          {
           "geo": "geo",
           "hovertemplate": "<b>%{hovertext}</b><br><br>Country_Code=%{location}<br>Year=2020<br>GDP (in Trillions USD)=%{marker.size}<extra></extra>",
           "hovertext": [
            "USA"
           ],
           "legendgroup": "USA",
           "locations": [
            "USA"
           ],
           "marker": {
            "color": "#636efa",
            "size": [
             22.14
            ],
            "sizemode": "area",
            "sizeref": 0.0556,
            "symbol": "circle"
           },
           "mode": "markers",
           "name": "USA",
           "showlegend": true,
           "type": "scattergeo"
          },
          {
           "geo": "geo",
           "hovertemplate": "<b>%{hovertext}</b><br><br>Country_Code=%{location}<br>Year=2020<br>GDP (in Trillions USD)=%{marker.size}<extra></extra>",
           "hovertext": [
            "Russia"
           ],
           "legendgroup": "Russia",
           "locations": [
            "Russia"
           ],
           "marker": {
            "color": "#EF553B",
            "size": [
             1.67
            ],
            "sizemode": "area",
            "sizeref": 0.0556,
            "symbol": "circle"
           },
           "mode": "markers",
           "name": "Russia",
           "showlegend": true,
           "type": "scattergeo"
          },
          {
           "geo": "geo",
           "hovertemplate": "<b>%{hovertext}</b><br><br>Country_Code=%{location}<br>Year=2020<br>GDP (in Trillions USD)=%{marker.size}<extra></extra>",
           "hovertext": [
            "CAN"
           ],
           "legendgroup": "CAN",
           "locations": [
            "CAN"
           ],
           "marker": {
            "color": "#00cc96",
            "size": [
             1.67
            ],
            "sizemode": "area",
            "sizeref": 0.0556,
            "symbol": "circle"
           },
           "mode": "markers",
           "name": "CAN",
           "showlegend": true,
           "type": "scattergeo"
          },
          {
           "geo": "geo",
           "hovertemplate": "<b>%{hovertext}</b><br><br>Country_Code=%{location}<br>Year=2020<br>GDP (in Trillions USD)=%{marker.size}<extra></extra>",
           "hovertext": [
            "CHN"
           ],
           "legendgroup": "CHN",
           "locations": [
            "CHN"
           ],
           "marker": {
            "color": "#ab63fa",
            "size": [
             14.15
            ],
            "sizemode": "area",
            "sizeref": 0.0556,
            "symbol": "circle"
           },
           "mode": "markers",
           "name": "CHN",
           "showlegend": true,
           "type": "scattergeo"
          },
          {
           "geo": "geo",
           "hovertemplate": "<b>%{hovertext}</b><br><br>Country_Code=%{location}<br>Year=2020<br>GDP (in Trillions USD)=%{marker.size}<extra></extra>",
           "hovertext": [
            "IND"
           ],
           "legendgroup": "IND",
           "locations": [
            "IND"
           ],
           "marker": {
            "color": "#FFA15A",
            "size": [
             2.76
            ],
            "sizemode": "area",
            "sizeref": 0.0556,
            "symbol": "circle"
           },
           "mode": "markers",
           "name": "IND",
           "showlegend": true,
           "type": "scattergeo"
          },
          {
           "geo": "geo",
           "hovertemplate": "<b>%{hovertext}</b><br><br>Country_Code=%{location}<br>Year=2020<br>GDP (in Trillions USD)=%{marker.size}<extra></extra>",
           "hovertext": [
            "AUS"
           ],
           "legendgroup": "AUS",
           "locations": [
            "AUS"
           ],
           "marker": {
            "color": "#19d3f3",
            "size": [
             1.27
            ],
            "sizemode": "area",
            "sizeref": 0.0556,
            "symbol": "circle"
           },
           "mode": "markers",
           "name": "AUS",
           "showlegend": true,
           "type": "scattergeo"
          }
         ],
         "name": "2020"
        },
        {
         "data": [
          {
           "geo": "geo",
           "hovertemplate": "<b>%{hovertext}</b><br><br>Country_Code=%{location}<br>Year=2021<br>GDP (in Trillions USD)=%{marker.size}<extra></extra>",
           "hovertext": [
            "USA"
           ],
           "legendgroup": "USA",
           "locations": [
            "USA"
           ],
           "marker": {
            "color": "#636efa",
            "size": [
             21.73
            ],
            "sizemode": "area",
            "sizeref": 0.0556,
            "symbol": "circle"
           },
           "mode": "markers",
           "name": "USA",
           "showlegend": true,
           "type": "scattergeo"
          },
          {
           "geo": "geo",
           "hovertemplate": "<b>%{hovertext}</b><br><br>Country_Code=%{location}<br>Year=2021<br>GDP (in Trillions USD)=%{marker.size}<extra></extra>",
           "hovertext": [
            "Russia"
           ],
           "legendgroup": "Russia",
           "locations": [
            "Russia"
           ],
           "marker": {
            "color": "#EF553B",
            "size": [
             1.67
            ],
            "sizemode": "area",
            "sizeref": 0.0556,
            "symbol": "circle"
           },
           "mode": "markers",
           "name": "Russia",
           "showlegend": true,
           "type": "scattergeo"
          },
          {
           "geo": "geo",
           "hovertemplate": "<b>%{hovertext}</b><br><br>Country_Code=%{location}<br>Year=2021<br>GDP (in Trillions USD)=%{marker.size}<extra></extra>",
           "hovertext": [
            "CAN"
           ],
           "legendgroup": "CAN",
           "locations": [
            "CAN"
           ],
           "marker": {
            "color": "#00cc96",
            "size": [
             1.71
            ],
            "sizemode": "area",
            "sizeref": 0.0556,
            "symbol": "circle"
           },
           "mode": "markers",
           "name": "CAN",
           "showlegend": true,
           "type": "scattergeo"
          },
          {
           "geo": "geo",
           "hovertemplate": "<b>%{hovertext}</b><br><br>Country_Code=%{location}<br>Year=2021<br>GDP (in Trillions USD)=%{marker.size}<extra></extra>",
           "hovertext": [
            "CHN"
           ],
           "legendgroup": "CHN",
           "locations": [
            "CHN"
           ],
           "marker": {
            "color": "#ab63fa",
            "size": [
             14.88
            ],
            "sizemode": "area",
            "sizeref": 0.0556,
            "symbol": "circle"
           },
           "mode": "markers",
           "name": "CHN",
           "showlegend": true,
           "type": "scattergeo"
          },
          {
           "geo": "geo",
           "hovertemplate": "<b>%{hovertext}</b><br><br>Country_Code=%{location}<br>Year=2021<br>GDP (in Trillions USD)=%{marker.size}<extra></extra>",
           "hovertext": [
            "IND"
           ],
           "legendgroup": "IND",
           "locations": [
            "IND"
           ],
           "marker": {
            "color": "#FFA15A",
            "size": [
             2.82
            ],
            "sizemode": "area",
            "sizeref": 0.0556,
            "symbol": "circle"
           },
           "mode": "markers",
           "name": "IND",
           "showlegend": true,
           "type": "scattergeo"
          },
          {
           "geo": "geo",
           "hovertemplate": "<b>%{hovertext}</b><br><br>Country_Code=%{location}<br>Year=2021<br>GDP (in Trillions USD)=%{marker.size}<extra></extra>",
           "hovertext": [
            "AUS"
           ],
           "legendgroup": "AUS",
           "locations": [
            "AUS"
           ],
           "marker": {
            "color": "#19d3f3",
            "size": [
             1.32
            ],
            "sizemode": "area",
            "sizeref": 0.0556,
            "symbol": "circle"
           },
           "mode": "markers",
           "name": "AUS",
           "showlegend": true,
           "type": "scattergeo"
          }
         ],
         "name": "2021"
        },
        {
         "data": [
          {
           "geo": "geo",
           "hovertemplate": "<b>%{hovertext}</b><br><br>Country_Code=%{location}<br>Year=2022<br>GDP (in Trillions USD)=%{marker.size}<extra></extra>",
           "hovertext": [
            "USA"
           ],
           "legendgroup": "USA",
           "locations": [
            "USA"
           ],
           "marker": {
            "color": "#636efa",
            "size": [
             20.38
            ],
            "sizemode": "area",
            "sizeref": 0.0556,
            "symbol": "circle"
           },
           "mode": "markers",
           "name": "USA",
           "showlegend": true,
           "type": "scattergeo"
          },
          {
           "geo": "geo",
           "hovertemplate": "<b>%{hovertext}</b><br><br>Country_Code=%{location}<br>Year=2022<br>GDP (in Trillions USD)=%{marker.size}<extra></extra>",
           "hovertext": [
            "Russia"
           ],
           "legendgroup": "Russia",
           "locations": [
            "Russia"
           ],
           "marker": {
            "color": "#EF553B",
            "size": [
             1.56
            ],
            "sizemode": "area",
            "sizeref": 0.0556,
            "symbol": "circle"
           },
           "mode": "markers",
           "name": "Russia",
           "showlegend": true,
           "type": "scattergeo"
          },
          {
           "geo": "geo",
           "hovertemplate": "<b>%{hovertext}</b><br><br>Country_Code=%{location}<br>Year=2022<br>GDP (in Trillions USD)=%{marker.size}<extra></extra>",
           "hovertext": [
            "CAN"
           ],
           "legendgroup": "CAN",
           "locations": [
            "CAN"
           ],
           "marker": {
            "color": "#00cc96",
            "size": [
             1.75
            ],
            "sizemode": "area",
            "sizeref": 0.0556,
            "symbol": "circle"
           },
           "mode": "markers",
           "name": "CAN",
           "showlegend": true,
           "type": "scattergeo"
          },
          {
           "geo": "geo",
           "hovertemplate": "<b>%{hovertext}</b><br><br>Country_Code=%{location}<br>Year=2022<br>GDP (in Trillions USD)=%{marker.size}<extra></extra>",
           "hovertext": [
            "CHN"
           ],
           "legendgroup": "CHN",
           "locations": [
            "CHN"
           ],
           "marker": {
            "color": "#ab63fa",
            "size": [
             13.92
            ],
            "sizemode": "area",
            "sizeref": 0.0556,
            "symbol": "circle"
           },
           "mode": "markers",
           "name": "CHN",
           "showlegend": true,
           "type": "scattergeo"
          },
          {
           "geo": "geo",
           "hovertemplate": "<b>%{hovertext}</b><br><br>Country_Code=%{location}<br>Year=2022<br>GDP (in Trillions USD)=%{marker.size}<extra></extra>",
           "hovertext": [
            "IND"
           ],
           "legendgroup": "IND",
           "locations": [
            "IND"
           ],
           "marker": {
            "color": "#FFA15A",
            "size": [
             2.76
            ],
            "sizemode": "area",
            "sizeref": 0.0556,
            "symbol": "circle"
           },
           "mode": "markers",
           "name": "IND",
           "showlegend": true,
           "type": "scattergeo"
          },
          {
           "geo": "geo",
           "hovertemplate": "<b>%{hovertext}</b><br><br>Country_Code=%{location}<br>Year=2022<br>GDP (in Trillions USD)=%{marker.size}<extra></extra>",
           "hovertext": [
            "AUS"
           ],
           "legendgroup": "AUS",
           "locations": [
            "AUS"
           ],
           "marker": {
            "color": "#19d3f3",
            "size": [
             1.29
            ],
            "sizemode": "area",
            "sizeref": 0.0556,
            "symbol": "circle"
           },
           "mode": "markers",
           "name": "AUS",
           "showlegend": true,
           "type": "scattergeo"
          }
         ],
         "name": "2022"
        },
        {
         "data": [
          {
           "geo": "geo",
           "hovertemplate": "<b>%{hovertext}</b><br><br>Country_Code=%{location}<br>Year=2023<br>GDP (in Trillions USD)=%{marker.size}<extra></extra>",
           "hovertext": [
            "USA"
           ],
           "legendgroup": "USA",
           "locations": [
            "USA"
           ],
           "marker": {
            "color": "#636efa",
            "size": [
             21.17
            ],
            "sizemode": "area",
            "sizeref": 0.0556,
            "symbol": "circle"
           },
           "mode": "markers",
           "name": "USA",
           "showlegend": true,
           "type": "scattergeo"
          },
          {
           "geo": "geo",
           "hovertemplate": "<b>%{hovertext}</b><br><br>Country_Code=%{location}<br>Year=2023<br>GDP (in Trillions USD)=%{marker.size}<extra></extra>",
           "hovertext": [
            "Russia"
           ],
           "legendgroup": "Russia",
           "locations": [
            "Russia"
           ],
           "marker": {
            "color": "#EF553B",
            "size": [
             1.64
            ],
            "sizemode": "area",
            "sizeref": 0.0556,
            "symbol": "circle"
           },
           "mode": "markers",
           "name": "Russia",
           "showlegend": true,
           "type": "scattergeo"
          },
          {
           "geo": "geo",
           "hovertemplate": "<b>%{hovertext}</b><br><br>Country_Code=%{location}<br>Year=2023<br>GDP (in Trillions USD)=%{marker.size}<extra></extra>",
           "hovertext": [
            "CAN"
           ],
           "legendgroup": "CAN",
           "locations": [
            "CAN"
           ],
           "marker": {
            "color": "#00cc96",
            "size": [
             1.73
            ],
            "sizemode": "area",
            "sizeref": 0.0556,
            "symbol": "circle"
           },
           "mode": "markers",
           "name": "CAN",
           "showlegend": true,
           "type": "scattergeo"
          },
          {
           "geo": "geo",
           "hovertemplate": "<b>%{hovertext}</b><br><br>Country_Code=%{location}<br>Year=2023<br>GDP (in Trillions USD)=%{marker.size}<extra></extra>",
           "hovertext": [
            "CHN"
           ],
           "legendgroup": "CHN",
           "locations": [
            "CHN"
           ],
           "marker": {
            "color": "#ab63fa",
            "size": [
             13.72
            ],
            "sizemode": "area",
            "sizeref": 0.0556,
            "symbol": "circle"
           },
           "mode": "markers",
           "name": "CHN",
           "showlegend": true,
           "type": "scattergeo"
          },
          {
           "geo": "geo",
           "hovertemplate": "<b>%{hovertext}</b><br><br>Country_Code=%{location}<br>Year=2023<br>GDP (in Trillions USD)=%{marker.size}<extra></extra>",
           "hovertext": [
            "IND"
           ],
           "legendgroup": "IND",
           "locations": [
            "IND"
           ],
           "marker": {
            "color": "#FFA15A",
            "size": [
             2.79
            ],
            "sizemode": "area",
            "sizeref": 0.0556,
            "symbol": "circle"
           },
           "mode": "markers",
           "name": "IND",
           "showlegend": true,
           "type": "scattergeo"
          },
          {
           "geo": "geo",
           "hovertemplate": "<b>%{hovertext}</b><br><br>Country_Code=%{location}<br>Year=2023<br>GDP (in Trillions USD)=%{marker.size}<extra></extra>",
           "hovertext": [
            "AUS"
           ],
           "legendgroup": "AUS",
           "locations": [
            "AUS"
           ],
           "marker": {
            "color": "#19d3f3",
            "size": [
             1.27
            ],
            "sizemode": "area",
            "sizeref": 0.0556,
            "symbol": "circle"
           },
           "mode": "markers",
           "name": "AUS",
           "showlegend": true,
           "type": "scattergeo"
          }
         ],
         "name": "2023"
        }
       ],
       "layout": {
        "geo": {
         "center": {},
         "domain": {
          "x": [
           0,
           1
          ],
          "y": [
           0,
           1
          ]
         },
         "projection": {
          "type": "natural earth"
         }
        },
        "legend": {
         "itemsizing": "constant",
         "title": {
          "text": "Country_Code"
         },
         "tracegroupgap": 0
        },
        "margin": {
         "t": 60
        },
        "sliders": [
         {
          "active": 0,
          "currentvalue": {
           "prefix": "Year="
          },
          "len": 0.9,
          "pad": {
           "b": 10,
           "t": 60
          },
          "steps": [
           {
            "args": [
             [
              "2000"
             ],
             {
              "frame": {
               "duration": 0,
               "redraw": true
              },
              "fromcurrent": true,
              "mode": "immediate",
              "transition": {
               "duration": 0,
               "easing": "linear"
              }
             }
            ],
            "label": "2000",
            "method": "animate"
           },
           {
            "args": [
             [
              "2001"
             ],
             {
              "frame": {
               "duration": 0,
               "redraw": true
              },
              "fromcurrent": true,
              "mode": "immediate",
              "transition": {
               "duration": 0,
               "easing": "linear"
              }
             }
            ],
            "label": "2001",
            "method": "animate"
           },
           {
            "args": [
             [
              "2002"
             ],
             {
              "frame": {
               "duration": 0,
               "redraw": true
              },
              "fromcurrent": true,
              "mode": "immediate",
              "transition": {
               "duration": 0,
               "easing": "linear"
              }
             }
            ],
            "label": "2002",
            "method": "animate"
           },
           {
            "args": [
             [
              "2003"
             ],
             {
              "frame": {
               "duration": 0,
               "redraw": true
              },
              "fromcurrent": true,
              "mode": "immediate",
              "transition": {
               "duration": 0,
               "easing": "linear"
              }
             }
            ],
            "label": "2003",
            "method": "animate"
           },
           {
            "args": [
             [
              "2004"
             ],
             {
              "frame": {
               "duration": 0,
               "redraw": true
              },
              "fromcurrent": true,
              "mode": "immediate",
              "transition": {
               "duration": 0,
               "easing": "linear"
              }
             }
            ],
            "label": "2004",
            "method": "animate"
           },
           {
            "args": [
             [
              "2005"
             ],
             {
              "frame": {
               "duration": 0,
               "redraw": true
              },
              "fromcurrent": true,
              "mode": "immediate",
              "transition": {
               "duration": 0,
               "easing": "linear"
              }
             }
            ],
            "label": "2005",
            "method": "animate"
           },
           {
            "args": [
             [
              "2006"
             ],
             {
              "frame": {
               "duration": 0,
               "redraw": true
              },
              "fromcurrent": true,
              "mode": "immediate",
              "transition": {
               "duration": 0,
               "easing": "linear"
              }
             }
            ],
            "label": "2006",
            "method": "animate"
           },
           {
            "args": [
             [
              "2007"
             ],
             {
              "frame": {
               "duration": 0,
               "redraw": true
              },
              "fromcurrent": true,
              "mode": "immediate",
              "transition": {
               "duration": 0,
               "easing": "linear"
              }
             }
            ],
            "label": "2007",
            "method": "animate"
           },
           {
            "args": [
             [
              "2008"
             ],
             {
              "frame": {
               "duration": 0,
               "redraw": true
              },
              "fromcurrent": true,
              "mode": "immediate",
              "transition": {
               "duration": 0,
               "easing": "linear"
              }
             }
            ],
            "label": "2008",
            "method": "animate"
           },
           {
            "args": [
             [
              "2009"
             ],
             {
              "frame": {
               "duration": 0,
               "redraw": true
              },
              "fromcurrent": true,
              "mode": "immediate",
              "transition": {
               "duration": 0,
               "easing": "linear"
              }
             }
            ],
            "label": "2009",
            "method": "animate"
           },
           {
            "args": [
             [
              "2010"
             ],
             {
              "frame": {
               "duration": 0,
               "redraw": true
              },
              "fromcurrent": true,
              "mode": "immediate",
              "transition": {
               "duration": 0,
               "easing": "linear"
              }
             }
            ],
            "label": "2010",
            "method": "animate"
           },
           {
            "args": [
             [
              "2011"
             ],
             {
              "frame": {
               "duration": 0,
               "redraw": true
              },
              "fromcurrent": true,
              "mode": "immediate",
              "transition": {
               "duration": 0,
               "easing": "linear"
              }
             }
            ],
            "label": "2011",
            "method": "animate"
           },
           {
            "args": [
             [
              "2012"
             ],
             {
              "frame": {
               "duration": 0,
               "redraw": true
              },
              "fromcurrent": true,
              "mode": "immediate",
              "transition": {
               "duration": 0,
               "easing": "linear"
              }
             }
            ],
            "label": "2012",
            "method": "animate"
           },
           {
            "args": [
             [
              "2013"
             ],
             {
              "frame": {
               "duration": 0,
               "redraw": true
              },
              "fromcurrent": true,
              "mode": "immediate",
              "transition": {
               "duration": 0,
               "easing": "linear"
              }
             }
            ],
            "label": "2013",
            "method": "animate"
           },
           {
            "args": [
             [
              "2014"
             ],
             {
              "frame": {
               "duration": 0,
               "redraw": true
              },
              "fromcurrent": true,
              "mode": "immediate",
              "transition": {
               "duration": 0,
               "easing": "linear"
              }
             }
            ],
            "label": "2014",
            "method": "animate"
           },
           {
            "args": [
             [
              "2015"
             ],
             {
              "frame": {
               "duration": 0,
               "redraw": true
              },
              "fromcurrent": true,
              "mode": "immediate",
              "transition": {
               "duration": 0,
               "easing": "linear"
              }
             }
            ],
            "label": "2015",
            "method": "animate"
           },
           {
            "args": [
             [
              "2016"
             ],
             {
              "frame": {
               "duration": 0,
               "redraw": true
              },
              "fromcurrent": true,
              "mode": "immediate",
              "transition": {
               "duration": 0,
               "easing": "linear"
              }
             }
            ],
            "label": "2016",
            "method": "animate"
           },
           {
            "args": [
             [
              "2017"
             ],
             {
              "frame": {
               "duration": 0,
               "redraw": true
              },
              "fromcurrent": true,
              "mode": "immediate",
              "transition": {
               "duration": 0,
               "easing": "linear"
              }
             }
            ],
            "label": "2017",
            "method": "animate"
           },
           {
            "args": [
             [
              "2018"
             ],
             {
              "frame": {
               "duration": 0,
               "redraw": true
              },
              "fromcurrent": true,
              "mode": "immediate",
              "transition": {
               "duration": 0,
               "easing": "linear"
              }
             }
            ],
            "label": "2018",
            "method": "animate"
           },
           {
            "args": [
             [
              "2019"
             ],
             {
              "frame": {
               "duration": 0,
               "redraw": true
              },
              "fromcurrent": true,
              "mode": "immediate",
              "transition": {
               "duration": 0,
               "easing": "linear"
              }
             }
            ],
            "label": "2019",
            "method": "animate"
           },
           {
            "args": [
             [
              "2020"
             ],
             {
              "frame": {
               "duration": 0,
               "redraw": true
              },
              "fromcurrent": true,
              "mode": "immediate",
              "transition": {
               "duration": 0,
               "easing": "linear"
              }
             }
            ],
            "label": "2020",
            "method": "animate"
           },
           {
            "args": [
             [
              "2021"
             ],
             {
              "frame": {
               "duration": 0,
               "redraw": true
              },
              "fromcurrent": true,
              "mode": "immediate",
              "transition": {
               "duration": 0,
               "easing": "linear"
              }
             }
            ],
            "label": "2021",
            "method": "animate"
           },
           {
            "args": [
             [
              "2022"
             ],
             {
              "frame": {
               "duration": 0,
               "redraw": true
              },
              "fromcurrent": true,
              "mode": "immediate",
              "transition": {
               "duration": 0,
               "easing": "linear"
              }
             }
            ],
            "label": "2022",
            "method": "animate"
           },
           {
            "args": [
             [
              "2023"
             ],
             {
              "frame": {
               "duration": 0,
               "redraw": true
              },
              "fromcurrent": true,
              "mode": "immediate",
              "transition": {
               "duration": 0,
               "easing": "linear"
              }
             }
            ],
            "label": "2023",
            "method": "animate"
           }
          ],
          "x": 0.1,
          "xanchor": "left",
          "y": 0,
          "yanchor": "top"
         }
        ],
        "template": {
         "data": {
          "bar": [
           {
            "error_x": {
             "color": "#2a3f5f"
            },
            "error_y": {
             "color": "#2a3f5f"
            },
            "marker": {
             "line": {
              "color": "#E5ECF6",
              "width": 0.5
             },
             "pattern": {
              "fillmode": "overlay",
              "size": 10,
              "solidity": 0.2
             }
            },
            "type": "bar"
           }
          ],
          "barpolar": [
           {
            "marker": {
             "line": {
              "color": "#E5ECF6",
              "width": 0.5
             },
             "pattern": {
              "fillmode": "overlay",
              "size": 10,
              "solidity": 0.2
             }
            },
            "type": "barpolar"
           }
          ],
          "carpet": [
           {
            "aaxis": {
             "endlinecolor": "#2a3f5f",
             "gridcolor": "white",
             "linecolor": "white",
             "minorgridcolor": "white",
             "startlinecolor": "#2a3f5f"
            },
            "baxis": {
             "endlinecolor": "#2a3f5f",
             "gridcolor": "white",
             "linecolor": "white",
             "minorgridcolor": "white",
             "startlinecolor": "#2a3f5f"
            },
            "type": "carpet"
           }
          ],
          "choropleth": [
           {
            "colorbar": {
             "outlinewidth": 0,
             "ticks": ""
            },
            "type": "choropleth"
           }
          ],
          "contour": [
           {
            "colorbar": {
             "outlinewidth": 0,
             "ticks": ""
            },
            "colorscale": [
             [
              0,
              "#0d0887"
             ],
             [
              0.1111111111111111,
              "#46039f"
             ],
             [
              0.2222222222222222,
              "#7201a8"
             ],
             [
              0.3333333333333333,
              "#9c179e"
             ],
             [
              0.4444444444444444,
              "#bd3786"
             ],
             [
              0.5555555555555556,
              "#d8576b"
             ],
             [
              0.6666666666666666,
              "#ed7953"
             ],
             [
              0.7777777777777778,
              "#fb9f3a"
             ],
             [
              0.8888888888888888,
              "#fdca26"
             ],
             [
              1,
              "#f0f921"
             ]
            ],
            "type": "contour"
           }
          ],
          "contourcarpet": [
           {
            "colorbar": {
             "outlinewidth": 0,
             "ticks": ""
            },
            "type": "contourcarpet"
           }
          ],
          "heatmap": [
           {
            "colorbar": {
             "outlinewidth": 0,
             "ticks": ""
            },
            "colorscale": [
             [
              0,
              "#0d0887"
             ],
             [
              0.1111111111111111,
              "#46039f"
             ],
             [
              0.2222222222222222,
              "#7201a8"
             ],
             [
              0.3333333333333333,
              "#9c179e"
             ],
             [
              0.4444444444444444,
              "#bd3786"
             ],
             [
              0.5555555555555556,
              "#d8576b"
             ],
             [
              0.6666666666666666,
              "#ed7953"
             ],
             [
              0.7777777777777778,
              "#fb9f3a"
             ],
             [
              0.8888888888888888,
              "#fdca26"
             ],
             [
              1,
              "#f0f921"
             ]
            ],
            "type": "heatmap"
           }
          ],
          "heatmapgl": [
           {
            "colorbar": {
             "outlinewidth": 0,
             "ticks": ""
            },
            "colorscale": [
             [
              0,
              "#0d0887"
             ],
             [
              0.1111111111111111,
              "#46039f"
             ],
             [
              0.2222222222222222,
              "#7201a8"
             ],
             [
              0.3333333333333333,
              "#9c179e"
             ],
             [
              0.4444444444444444,
              "#bd3786"
             ],
             [
              0.5555555555555556,
              "#d8576b"
             ],
             [
              0.6666666666666666,
              "#ed7953"
             ],
             [
              0.7777777777777778,
              "#fb9f3a"
             ],
             [
              0.8888888888888888,
              "#fdca26"
             ],
             [
              1,
              "#f0f921"
             ]
            ],
            "type": "heatmapgl"
           }
          ],
          "histogram": [
           {
            "marker": {
             "pattern": {
              "fillmode": "overlay",
              "size": 10,
              "solidity": 0.2
             }
            },
            "type": "histogram"
           }
          ],
          "histogram2d": [
           {
            "colorbar": {
             "outlinewidth": 0,
             "ticks": ""
            },
            "colorscale": [
             [
              0,
              "#0d0887"
             ],
             [
              0.1111111111111111,
              "#46039f"
             ],
             [
              0.2222222222222222,
              "#7201a8"
             ],
             [
              0.3333333333333333,
              "#9c179e"
             ],
             [
              0.4444444444444444,
              "#bd3786"
             ],
             [
              0.5555555555555556,
              "#d8576b"
             ],
             [
              0.6666666666666666,
              "#ed7953"
             ],
             [
              0.7777777777777778,
              "#fb9f3a"
             ],
             [
              0.8888888888888888,
              "#fdca26"
             ],
             [
              1,
              "#f0f921"
             ]
            ],
            "type": "histogram2d"
           }
          ],
          "histogram2dcontour": [
           {
            "colorbar": {
             "outlinewidth": 0,
             "ticks": ""
            },
            "colorscale": [
             [
              0,
              "#0d0887"
             ],
             [
              0.1111111111111111,
              "#46039f"
             ],
             [
              0.2222222222222222,
              "#7201a8"
             ],
             [
              0.3333333333333333,
              "#9c179e"
             ],
             [
              0.4444444444444444,
              "#bd3786"
             ],
             [
              0.5555555555555556,
              "#d8576b"
             ],
             [
              0.6666666666666666,
              "#ed7953"
             ],
             [
              0.7777777777777778,
              "#fb9f3a"
             ],
             [
              0.8888888888888888,
              "#fdca26"
             ],
             [
              1,
              "#f0f921"
             ]
            ],
            "type": "histogram2dcontour"
           }
          ],
          "mesh3d": [
           {
            "colorbar": {
             "outlinewidth": 0,
             "ticks": ""
            },
            "type": "mesh3d"
           }
          ],
          "parcoords": [
           {
            "line": {
             "colorbar": {
              "outlinewidth": 0,
              "ticks": ""
             }
            },
            "type": "parcoords"
           }
          ],
          "pie": [
           {
            "automargin": true,
            "type": "pie"
           }
          ],
          "scatter": [
           {
            "fillpattern": {
             "fillmode": "overlay",
             "size": 10,
             "solidity": 0.2
            },
            "type": "scatter"
           }
          ],
          "scatter3d": [
           {
            "line": {
             "colorbar": {
              "outlinewidth": 0,
              "ticks": ""
             }
            },
            "marker": {
             "colorbar": {
              "outlinewidth": 0,
              "ticks": ""
             }
            },
            "type": "scatter3d"
           }
          ],
          "scattercarpet": [
           {
            "marker": {
             "colorbar": {
              "outlinewidth": 0,
              "ticks": ""
             }
            },
            "type": "scattercarpet"
           }
          ],
          "scattergeo": [
           {
            "marker": {
             "colorbar": {
              "outlinewidth": 0,
              "ticks": ""
             }
            },
            "type": "scattergeo"
           }
          ],
          "scattergl": [
           {
            "marker": {
             "colorbar": {
              "outlinewidth": 0,
              "ticks": ""
             }
            },
            "type": "scattergl"
           }
          ],
          "scattermapbox": [
           {
            "marker": {
             "colorbar": {
              "outlinewidth": 0,
              "ticks": ""
             }
            },
            "type": "scattermapbox"
           }
          ],
          "scatterpolar": [
           {
            "marker": {
             "colorbar": {
              "outlinewidth": 0,
              "ticks": ""
             }
            },
            "type": "scatterpolar"
           }
          ],
          "scatterpolargl": [
           {
            "marker": {
             "colorbar": {
              "outlinewidth": 0,
              "ticks": ""
             }
            },
            "type": "scatterpolargl"
           }
          ],
          "scatterternary": [
           {
            "marker": {
             "colorbar": {
              "outlinewidth": 0,
              "ticks": ""
             }
            },
            "type": "scatterternary"
           }
          ],
          "surface": [
           {
            "colorbar": {
             "outlinewidth": 0,
             "ticks": ""
            },
            "colorscale": [
             [
              0,
              "#0d0887"
             ],
             [
              0.1111111111111111,
              "#46039f"
             ],
             [
              0.2222222222222222,
              "#7201a8"
             ],
             [
              0.3333333333333333,
              "#9c179e"
             ],
             [
              0.4444444444444444,
              "#bd3786"
             ],
             [
              0.5555555555555556,
              "#d8576b"
             ],
             [
              0.6666666666666666,
              "#ed7953"
             ],
             [
              0.7777777777777778,
              "#fb9f3a"
             ],
             [
              0.8888888888888888,
              "#fdca26"
             ],
             [
              1,
              "#f0f921"
             ]
            ],
            "type": "surface"
           }
          ],
          "table": [
           {
            "cells": {
             "fill": {
              "color": "#EBF0F8"
             },
             "line": {
              "color": "white"
             }
            },
            "header": {
             "fill": {
              "color": "#C8D4E3"
             },
             "line": {
              "color": "white"
             }
            },
            "type": "table"
           }
          ]
         },
         "layout": {
          "annotationdefaults": {
           "arrowcolor": "#2a3f5f",
           "arrowhead": 0,
           "arrowwidth": 1
          },
          "autotypenumbers": "strict",
          "coloraxis": {
           "colorbar": {
            "outlinewidth": 0,
            "ticks": ""
           }
          },
          "colorscale": {
           "diverging": [
            [
             0,
             "#8e0152"
            ],
            [
             0.1,
             "#c51b7d"
            ],
            [
             0.2,
             "#de77ae"
            ],
            [
             0.3,
             "#f1b6da"
            ],
            [
             0.4,
             "#fde0ef"
            ],
            [
             0.5,
             "#f7f7f7"
            ],
            [
             0.6,
             "#e6f5d0"
            ],
            [
             0.7,
             "#b8e186"
            ],
            [
             0.8,
             "#7fbc41"
            ],
            [
             0.9,
             "#4d9221"
            ],
            [
             1,
             "#276419"
            ]
           ],
           "sequential": [
            [
             0,
             "#0d0887"
            ],
            [
             0.1111111111111111,
             "#46039f"
            ],
            [
             0.2222222222222222,
             "#7201a8"
            ],
            [
             0.3333333333333333,
             "#9c179e"
            ],
            [
             0.4444444444444444,
             "#bd3786"
            ],
            [
             0.5555555555555556,
             "#d8576b"
            ],
            [
             0.6666666666666666,
             "#ed7953"
            ],
            [
             0.7777777777777778,
             "#fb9f3a"
            ],
            [
             0.8888888888888888,
             "#fdca26"
            ],
            [
             1,
             "#f0f921"
            ]
           ],
           "sequentialminus": [
            [
             0,
             "#0d0887"
            ],
            [
             0.1111111111111111,
             "#46039f"
            ],
            [
             0.2222222222222222,
             "#7201a8"
            ],
            [
             0.3333333333333333,
             "#9c179e"
            ],
            [
             0.4444444444444444,
             "#bd3786"
            ],
            [
             0.5555555555555556,
             "#d8576b"
            ],
            [
             0.6666666666666666,
             "#ed7953"
            ],
            [
             0.7777777777777778,
             "#fb9f3a"
            ],
            [
             0.8888888888888888,
             "#fdca26"
            ],
            [
             1,
             "#f0f921"
            ]
           ]
          },
          "colorway": [
           "#636efa",
           "#EF553B",
           "#00cc96",
           "#ab63fa",
           "#FFA15A",
           "#19d3f3",
           "#FF6692",
           "#B6E880",
           "#FF97FF",
           "#FECB52"
          ],
          "font": {
           "color": "#2a3f5f"
          },
          "geo": {
           "bgcolor": "white",
           "lakecolor": "white",
           "landcolor": "#E5ECF6",
           "showlakes": true,
           "showland": true,
           "subunitcolor": "white"
          },
          "hoverlabel": {
           "align": "left"
          },
          "hovermode": "closest",
          "mapbox": {
           "style": "light"
          },
          "paper_bgcolor": "white",
          "plot_bgcolor": "#E5ECF6",
          "polar": {
           "angularaxis": {
            "gridcolor": "white",
            "linecolor": "white",
            "ticks": ""
           },
           "bgcolor": "#E5ECF6",
           "radialaxis": {
            "gridcolor": "white",
            "linecolor": "white",
            "ticks": ""
           }
          },
          "scene": {
           "xaxis": {
            "backgroundcolor": "#E5ECF6",
            "gridcolor": "white",
            "gridwidth": 2,
            "linecolor": "white",
            "showbackground": true,
            "ticks": "",
            "zerolinecolor": "white"
           },
           "yaxis": {
            "backgroundcolor": "#E5ECF6",
            "gridcolor": "white",
            "gridwidth": 2,
            "linecolor": "white",
            "showbackground": true,
            "ticks": "",
            "zerolinecolor": "white"
           },
           "zaxis": {
            "backgroundcolor": "#E5ECF6",
            "gridcolor": "white",
            "gridwidth": 2,
            "linecolor": "white",
            "showbackground": true,
            "ticks": "",
            "zerolinecolor": "white"
           }
          },
          "shapedefaults": {
           "line": {
            "color": "#2a3f5f"
           }
          },
          "ternary": {
           "aaxis": {
            "gridcolor": "white",
            "linecolor": "white",
            "ticks": ""
           },
           "baxis": {
            "gridcolor": "white",
            "linecolor": "white",
            "ticks": ""
           },
           "bgcolor": "#E5ECF6",
           "caxis": {
            "gridcolor": "white",
            "linecolor": "white",
            "ticks": ""
           }
          },
          "title": {
           "x": 0.05
          },
          "xaxis": {
           "automargin": true,
           "gridcolor": "white",
           "linecolor": "white",
           "ticks": "",
           "title": {
            "standoff": 15
           },
           "zerolinecolor": "white",
           "zerolinewidth": 2
          },
          "yaxis": {
           "automargin": true,
           "gridcolor": "white",
           "linecolor": "white",
           "ticks": "",
           "title": {
            "standoff": 15
           },
           "zerolinecolor": "white",
           "zerolinewidth": 2
          }
         }
        },
        "updatemenus": [
         {
          "buttons": [
           {
            "args": [
             null,
             {
              "frame": {
               "duration": 500,
               "redraw": true
              },
              "fromcurrent": true,
              "mode": "immediate",
              "transition": {
               "duration": 500,
               "easing": "linear"
              }
             }
            ],
            "label": "&#9654;",
            "method": "animate"
           },
           {
            "args": [
             [
              null
             ],
             {
              "frame": {
               "duration": 0,
               "redraw": true
              },
              "fromcurrent": true,
              "mode": "immediate",
              "transition": {
               "duration": 0,
               "easing": "linear"
              }
             }
            ],
            "label": "&#9724;",
            "method": "animate"
           }
          ],
          "direction": "left",
          "pad": {
           "r": 10,
           "t": 70
          },
          "showactive": false,
          "type": "buttons",
          "x": 0.1,
          "xanchor": "right",
          "y": 0,
          "yanchor": "top"
         }
        ]
       }
      }
     },
     "metadata": {},
     "output_type": "display_data"
    }
   ],
   "source": [
    "import plotly.express as px\n",
    "fig = px.scatter_geo(df, locations=\"Country_Code\", color=\"Country_Code\",\n",
    "                     hover_name=\"Country_Code\", size=\"GDP (in Trillions USD)\",\n",
    "                     animation_frame=\"Year\",\n",
    "                     projection=\"natural earth\")\n",
    "fig.show()"
   ]
  }
 ],
 "metadata": {
  "kaggle": {
   "accelerator": "none",
   "dataSources": [
    {
     "datasetId": 5674478,
     "sourceId": 9359331,
     "sourceType": "datasetVersion"
    }
   ],
   "dockerImageVersionId": 30761,
   "isGpuEnabled": false,
   "isInternetEnabled": false,
   "language": "python",
   "sourceType": "notebook"
  },
  "kernelspec": {
   "display_name": "Python 3 (ipykernel)",
   "language": "python",
   "name": "python3"
  },
  "language_info": {
   "codemirror_mode": {
    "name": "ipython",
    "version": 3
   },
   "file_extension": ".py",
   "mimetype": "text/x-python",
   "name": "python",
   "nbconvert_exporter": "python",
   "pygments_lexer": "ipython3",
   "version": "3.12.4"
  }
 },
 "nbformat": 4,
 "nbformat_minor": 4
}
